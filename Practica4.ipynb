{
  "nbformat": 4,
  "nbformat_minor": 0,
  "metadata": {
    "colab": {
      "provenance": [],
      "toc_visible": true
    },
    "kernelspec": {
      "name": "python3",
      "display_name": "Python 3"
    },
    "language_info": {
      "name": "python"
    }
  },
  "cells": [
    {
      "cell_type": "markdown",
      "source": [
        "# *Setup*\n",
        "Instalación y configuración de las herramientas necesarias."
      ],
      "metadata": {
        "id": "ZF_tfT71N5re"
      }
    },
    {
      "cell_type": "code",
      "execution_count": 2,
      "metadata": {
        "colab": {
          "base_uri": "https://localhost:8080/"
        },
        "id": "GmNVMASfN4Fq",
        "outputId": "51e891d8-f6c7-41eb-ada7-7e0946d569f3"
      },
      "outputs": [
        {
          "output_type": "stream",
          "name": "stdout",
          "text": [
            "Reading package lists... Done\n",
            "Building dependency tree       \n",
            "Reading state information... Done\n",
            "The following additional packages will be installed:\n",
            "  fonts-dejavu-core fonts-dejavu-extra libatk-wrapper-java\n",
            "  libatk-wrapper-java-jni libfontenc1 libgail-common libgail18 libgtk2.0-0\n",
            "  libgtk2.0-bin libgtk2.0-common libxkbfile1 libxtst6 libxxf86dga1\n",
            "  openjdk-8-jdk-headless openjdk-8-jre openjdk-8-jre-headless x11-utils\n",
            "Suggested packages:\n",
            "  gvfs openjdk-8-demo openjdk-8-source visualvm libnss-mdns\n",
            "  fonts-ipafont-gothic fonts-ipafont-mincho fonts-wqy-microhei\n",
            "  fonts-wqy-zenhei fonts-indic mesa-utils\n",
            "The following NEW packages will be installed:\n",
            "  fonts-dejavu-core fonts-dejavu-extra libatk-wrapper-java\n",
            "  libatk-wrapper-java-jni libfontenc1 libgail-common libgail18 libgtk2.0-0\n",
            "  libgtk2.0-bin libgtk2.0-common libxkbfile1 libxtst6 libxxf86dga1\n",
            "  openjdk-8-jdk openjdk-8-jdk-headless openjdk-8-jre openjdk-8-jre-headless\n",
            "  x11-utils\n",
            "0 upgraded, 18 newly installed, 0 to remove and 34 not upgraded.\n",
            "Need to get 46.1 MB of archives.\n",
            "After this operation, 167 MB of additional disk space will be used.\n",
            "Get:1 http://archive.ubuntu.com/ubuntu focal/main amd64 fonts-dejavu-core all 2.37-1 [1,041 kB]\n",
            "Get:2 http://archive.ubuntu.com/ubuntu focal/main amd64 fonts-dejavu-extra all 2.37-1 [1,953 kB]\n",
            "Get:3 http://archive.ubuntu.com/ubuntu focal/main amd64 libfontenc1 amd64 1:1.1.4-0ubuntu1 [14.0 kB]\n",
            "Get:4 http://archive.ubuntu.com/ubuntu focal/main amd64 libxkbfile1 amd64 1:1.1.0-1 [65.3 kB]\n",
            "Get:5 http://archive.ubuntu.com/ubuntu focal/main amd64 libxtst6 amd64 2:1.2.3-1 [12.8 kB]\n",
            "Get:6 http://archive.ubuntu.com/ubuntu focal/main amd64 libxxf86dga1 amd64 2:1.1.5-0ubuntu1 [12.0 kB]\n",
            "Get:7 http://archive.ubuntu.com/ubuntu focal/main amd64 x11-utils amd64 7.7+5 [199 kB]\n",
            "Get:8 http://archive.ubuntu.com/ubuntu focal/main amd64 libatk-wrapper-java all 0.37.1-1 [53.0 kB]\n",
            "Get:9 http://archive.ubuntu.com/ubuntu focal/main amd64 libatk-wrapper-java-jni amd64 0.37.1-1 [45.1 kB]\n",
            "Get:10 http://archive.ubuntu.com/ubuntu focal/main amd64 libgtk2.0-common all 2.24.32-4ubuntu4 [126 kB]\n",
            "Get:11 http://archive.ubuntu.com/ubuntu focal/main amd64 libgtk2.0-0 amd64 2.24.32-4ubuntu4 [1,791 kB]\n",
            "Get:12 http://archive.ubuntu.com/ubuntu focal/main amd64 libgail18 amd64 2.24.32-4ubuntu4 [14.7 kB]\n",
            "Get:13 http://archive.ubuntu.com/ubuntu focal/main amd64 libgail-common amd64 2.24.32-4ubuntu4 [116 kB]\n",
            "Get:14 http://archive.ubuntu.com/ubuntu focal/main amd64 libgtk2.0-bin amd64 2.24.32-4ubuntu4 [7,728 B]\n",
            "Get:15 http://archive.ubuntu.com/ubuntu focal-updates/universe amd64 openjdk-8-jre-headless amd64 8u372-ga~us1-0ubuntu1~20.04 [28.3 MB]\n",
            "Get:16 http://archive.ubuntu.com/ubuntu focal-updates/universe amd64 openjdk-8-jre amd64 8u372-ga~us1-0ubuntu1~20.04 [70.0 kB]\n",
            "Get:17 http://archive.ubuntu.com/ubuntu focal-updates/universe amd64 openjdk-8-jdk-headless amd64 8u372-ga~us1-0ubuntu1~20.04 [8,282 kB]\n",
            "Get:18 http://archive.ubuntu.com/ubuntu focal-updates/universe amd64 openjdk-8-jdk amd64 8u372-ga~us1-0ubuntu1~20.04 [4,070 kB]\n",
            "Fetched 46.1 MB in 1s (67.8 MB/s)\n",
            "Selecting previously unselected package fonts-dejavu-core.\n",
            "(Reading database ... 122545 files and directories currently installed.)\n",
            "Preparing to unpack .../00-fonts-dejavu-core_2.37-1_all.deb ...\n",
            "Unpacking fonts-dejavu-core (2.37-1) ...\n",
            "Selecting previously unselected package fonts-dejavu-extra.\n",
            "Preparing to unpack .../01-fonts-dejavu-extra_2.37-1_all.deb ...\n",
            "Unpacking fonts-dejavu-extra (2.37-1) ...\n",
            "Selecting previously unselected package libfontenc1:amd64.\n",
            "Preparing to unpack .../02-libfontenc1_1%3a1.1.4-0ubuntu1_amd64.deb ...\n",
            "Unpacking libfontenc1:amd64 (1:1.1.4-0ubuntu1) ...\n",
            "Selecting previously unselected package libxkbfile1:amd64.\n",
            "Preparing to unpack .../03-libxkbfile1_1%3a1.1.0-1_amd64.deb ...\n",
            "Unpacking libxkbfile1:amd64 (1:1.1.0-1) ...\n",
            "Selecting previously unselected package libxtst6:amd64.\n",
            "Preparing to unpack .../04-libxtst6_2%3a1.2.3-1_amd64.deb ...\n",
            "Unpacking libxtst6:amd64 (2:1.2.3-1) ...\n",
            "Selecting previously unselected package libxxf86dga1:amd64.\n",
            "Preparing to unpack .../05-libxxf86dga1_2%3a1.1.5-0ubuntu1_amd64.deb ...\n",
            "Unpacking libxxf86dga1:amd64 (2:1.1.5-0ubuntu1) ...\n",
            "Selecting previously unselected package x11-utils.\n",
            "Preparing to unpack .../06-x11-utils_7.7+5_amd64.deb ...\n",
            "Unpacking x11-utils (7.7+5) ...\n",
            "Selecting previously unselected package libatk-wrapper-java.\n",
            "Preparing to unpack .../07-libatk-wrapper-java_0.37.1-1_all.deb ...\n",
            "Unpacking libatk-wrapper-java (0.37.1-1) ...\n",
            "Selecting previously unselected package libatk-wrapper-java-jni:amd64.\n",
            "Preparing to unpack .../08-libatk-wrapper-java-jni_0.37.1-1_amd64.deb ...\n",
            "Unpacking libatk-wrapper-java-jni:amd64 (0.37.1-1) ...\n",
            "Selecting previously unselected package libgtk2.0-common.\n",
            "Preparing to unpack .../09-libgtk2.0-common_2.24.32-4ubuntu4_all.deb ...\n",
            "Unpacking libgtk2.0-common (2.24.32-4ubuntu4) ...\n",
            "Selecting previously unselected package libgtk2.0-0:amd64.\n",
            "Preparing to unpack .../10-libgtk2.0-0_2.24.32-4ubuntu4_amd64.deb ...\n",
            "Unpacking libgtk2.0-0:amd64 (2.24.32-4ubuntu4) ...\n",
            "Selecting previously unselected package libgail18:amd64.\n",
            "Preparing to unpack .../11-libgail18_2.24.32-4ubuntu4_amd64.deb ...\n",
            "Unpacking libgail18:amd64 (2.24.32-4ubuntu4) ...\n",
            "Selecting previously unselected package libgail-common:amd64.\n",
            "Preparing to unpack .../12-libgail-common_2.24.32-4ubuntu4_amd64.deb ...\n",
            "Unpacking libgail-common:amd64 (2.24.32-4ubuntu4) ...\n",
            "Selecting previously unselected package libgtk2.0-bin.\n",
            "Preparing to unpack .../13-libgtk2.0-bin_2.24.32-4ubuntu4_amd64.deb ...\n",
            "Unpacking libgtk2.0-bin (2.24.32-4ubuntu4) ...\n",
            "Selecting previously unselected package openjdk-8-jre-headless:amd64.\n",
            "Preparing to unpack .../14-openjdk-8-jre-headless_8u372-ga~us1-0ubuntu1~20.04_amd64.deb ...\n",
            "Unpacking openjdk-8-jre-headless:amd64 (8u372-ga~us1-0ubuntu1~20.04) ...\n",
            "Selecting previously unselected package openjdk-8-jre:amd64.\n",
            "Preparing to unpack .../15-openjdk-8-jre_8u372-ga~us1-0ubuntu1~20.04_amd64.deb ...\n",
            "Unpacking openjdk-8-jre:amd64 (8u372-ga~us1-0ubuntu1~20.04) ...\n",
            "Selecting previously unselected package openjdk-8-jdk-headless:amd64.\n",
            "Preparing to unpack .../16-openjdk-8-jdk-headless_8u372-ga~us1-0ubuntu1~20.04_amd64.deb ...\n",
            "Unpacking openjdk-8-jdk-headless:amd64 (8u372-ga~us1-0ubuntu1~20.04) ...\n",
            "Selecting previously unselected package openjdk-8-jdk:amd64.\n",
            "Preparing to unpack .../17-openjdk-8-jdk_8u372-ga~us1-0ubuntu1~20.04_amd64.deb ...\n",
            "Unpacking openjdk-8-jdk:amd64 (8u372-ga~us1-0ubuntu1~20.04) ...\n",
            "Setting up libxtst6:amd64 (2:1.2.3-1) ...\n",
            "Setting up libxxf86dga1:amd64 (2:1.1.5-0ubuntu1) ...\n",
            "Setting up libfontenc1:amd64 (1:1.1.4-0ubuntu1) ...\n",
            "Setting up openjdk-8-jre-headless:amd64 (8u372-ga~us1-0ubuntu1~20.04) ...\n",
            "update-alternatives: using /usr/lib/jvm/java-8-openjdk-amd64/jre/bin/orbd to provide /usr/bin/orbd (orbd) in auto mode\n",
            "update-alternatives: using /usr/lib/jvm/java-8-openjdk-amd64/jre/bin/servertool to provide /usr/bin/servertool (servertool) in auto mode\n",
            "update-alternatives: using /usr/lib/jvm/java-8-openjdk-amd64/jre/bin/tnameserv to provide /usr/bin/tnameserv (tnameserv) in auto mode\n",
            "Setting up fonts-dejavu-core (2.37-1) ...\n",
            "Setting up fonts-dejavu-extra (2.37-1) ...\n",
            "Setting up libgtk2.0-common (2.24.32-4ubuntu4) ...\n",
            "Setting up libxkbfile1:amd64 (1:1.1.0-1) ...\n",
            "Setting up libgtk2.0-0:amd64 (2.24.32-4ubuntu4) ...\n",
            "Setting up openjdk-8-jdk-headless:amd64 (8u372-ga~us1-0ubuntu1~20.04) ...\n",
            "update-alternatives: using /usr/lib/jvm/java-8-openjdk-amd64/bin/idlj to provide /usr/bin/idlj (idlj) in auto mode\n",
            "update-alternatives: using /usr/lib/jvm/java-8-openjdk-amd64/bin/wsimport to provide /usr/bin/wsimport (wsimport) in auto mode\n",
            "update-alternatives: using /usr/lib/jvm/java-8-openjdk-amd64/bin/jsadebugd to provide /usr/bin/jsadebugd (jsadebugd) in auto mode\n",
            "update-alternatives: using /usr/lib/jvm/java-8-openjdk-amd64/bin/native2ascii to provide /usr/bin/native2ascii (native2ascii) in auto mode\n",
            "update-alternatives: using /usr/lib/jvm/java-8-openjdk-amd64/bin/javah to provide /usr/bin/javah (javah) in auto mode\n",
            "update-alternatives: using /usr/lib/jvm/java-8-openjdk-amd64/bin/clhsdb to provide /usr/bin/clhsdb (clhsdb) in auto mode\n",
            "update-alternatives: using /usr/lib/jvm/java-8-openjdk-amd64/bin/jhat to provide /usr/bin/jhat (jhat) in auto mode\n",
            "update-alternatives: using /usr/lib/jvm/java-8-openjdk-amd64/bin/extcheck to provide /usr/bin/extcheck (extcheck) in auto mode\n",
            "update-alternatives: using /usr/lib/jvm/java-8-openjdk-amd64/bin/hsdb to provide /usr/bin/hsdb (hsdb) in auto mode\n",
            "update-alternatives: using /usr/lib/jvm/java-8-openjdk-amd64/bin/schemagen to provide /usr/bin/schemagen (schemagen) in auto mode\n",
            "update-alternatives: using /usr/lib/jvm/java-8-openjdk-amd64/bin/xjc to provide /usr/bin/xjc (xjc) in auto mode\n",
            "update-alternatives: using /usr/lib/jvm/java-8-openjdk-amd64/bin/wsgen to provide /usr/bin/wsgen (wsgen) in auto mode\n",
            "Setting up libgail18:amd64 (2.24.32-4ubuntu4) ...\n",
            "Setting up libgtk2.0-bin (2.24.32-4ubuntu4) ...\n",
            "Setting up x11-utils (7.7+5) ...\n",
            "Setting up libatk-wrapper-java (0.37.1-1) ...\n",
            "Setting up libgail-common:amd64 (2.24.32-4ubuntu4) ...\n",
            "Setting up libatk-wrapper-java-jni:amd64 (0.37.1-1) ...\n",
            "Setting up openjdk-8-jre:amd64 (8u372-ga~us1-0ubuntu1~20.04) ...\n",
            "update-alternatives: using /usr/lib/jvm/java-8-openjdk-amd64/jre/bin/policytool to provide /usr/bin/policytool (policytool) in auto mode\n",
            "Setting up openjdk-8-jdk:amd64 (8u372-ga~us1-0ubuntu1~20.04) ...\n",
            "update-alternatives: using /usr/lib/jvm/java-8-openjdk-amd64/bin/appletviewer to provide /usr/bin/appletviewer (appletviewer) in auto mode\n",
            "update-alternatives: using /usr/lib/jvm/java-8-openjdk-amd64/bin/jconsole to provide /usr/bin/jconsole (jconsole) in auto mode\n",
            "Processing triggers for mime-support (3.64ubuntu1) ...\n",
            "Processing triggers for hicolor-icon-theme (0.17-2) ...\n",
            "Processing triggers for libc-bin (2.31-0ubuntu9.9) ...\n",
            "Processing triggers for man-db (2.9.1-1) ...\n",
            "Processing triggers for fontconfig (2.13.1-2ubuntu3) ...\n",
            "Reading package lists... Done\n",
            "Building dependency tree       \n",
            "Reading state information... Done\n",
            "unzip is already the newest version (6.0-25ubuntu1.1).\n",
            "0 upgraded, 0 newly installed, 0 to remove and 34 not upgraded.\n",
            "Looking in indexes: https://pypi.org/simple, https://us-python.pkg.dev/colab-wheels/public/simple/\n",
            "Collecting pyspark\n",
            "  Downloading pyspark-3.4.0.tar.gz (310.8 MB)\n",
            "\u001b[2K     \u001b[90m━━━━━━━━━━━━━━━━━━━━━━━━━━━━━━━━━━━━━━━\u001b[0m \u001b[32m310.8/310.8 MB\u001b[0m \u001b[31m4.8 MB/s\u001b[0m eta \u001b[36m0:00:00\u001b[0m\n",
            "\u001b[?25h  Preparing metadata (setup.py) ... \u001b[?25l\u001b[?25hdone\n",
            "Requirement already satisfied: py4j==0.10.9.7 in /usr/local/lib/python3.10/dist-packages (from pyspark) (0.10.9.7)\n",
            "Building wheels for collected packages: pyspark\n",
            "  Building wheel for pyspark (setup.py) ... \u001b[?25l\u001b[?25hdone\n",
            "  Created wheel for pyspark: filename=pyspark-3.4.0-py2.py3-none-any.whl size=311317130 sha256=5cdc7f1b65de3a8c9d1399c19b8ae4dcaba45e3b71b07dce26f765943e64d167\n",
            "  Stored in directory: /root/.cache/pip/wheels/7b/1b/4b/3363a1d04368e7ff0d408e57ff57966fcdf00583774e761327\n",
            "Successfully built pyspark\n",
            "Installing collected packages: pyspark\n",
            "Successfully installed pyspark-3.4.0\n"
          ]
        }
      ],
      "source": [
        "!apt-get install openjdk-8-jdk\n",
        "!apt install unzip\n",
        "import os\n",
        "os.environ[\"JAVA_HOME\"] = \"/usr/lib/jvm/java-8-openjdk-amd64\"\n",
        "!pip install pyspark"
      ]
    },
    {
      "cell_type": "code",
      "source": [
        "!apt install unzip"
      ],
      "metadata": {
        "colab": {
          "base_uri": "https://localhost:8080/"
        },
        "id": "hSUQw4k-OzsA",
        "outputId": "f6fe9974-5cdb-4e67-8e70-baae09ecd37f"
      },
      "execution_count": 3,
      "outputs": [
        {
          "output_type": "stream",
          "name": "stdout",
          "text": [
            "Reading package lists... Done\n",
            "Building dependency tree       \n",
            "Reading state information... Done\n",
            "unzip is already the newest version (6.0-25ubuntu1.1).\n",
            "0 upgraded, 0 newly installed, 0 to remove and 34 not upgraded.\n"
          ]
        }
      ]
    },
    {
      "cell_type": "code",
      "source": [
        "import json\n",
        "import os\n",
        "from pyspark import SparkContext"
      ],
      "metadata": {
        "id": "TmBVAq2XO-aS"
      },
      "execution_count": 4,
      "outputs": []
    },
    {
      "cell_type": "code",
      "source": [
        "sc = SparkContext()"
      ],
      "metadata": {
        "id": "7o5QWK6aPFeQ"
      },
      "execution_count": 5,
      "outputs": []
    },
    {
      "cell_type": "markdown",
      "source": [
        "# **Descargamos los datasets de bicimad**\n",
        "Descargaremos cada dataset de la web oficial de biciMAD. Los renombraremos a '.zip' para poder descomprimirlos y una vez descomprimidos los movemos a la carpeta 'datasets'. Por último eliminamos los ficheros comprimidos."
      ],
      "metadata": {
        "id": "3Cje7_XkPQuC"
      }
    },
    {
      "cell_type": "code",
      "source": [
        "#Estructura de carpetas para el dataset\n",
        "!mkdir dataset\n",
        "!cd dataset/\n",
        "!mkdir dataset/usages\n",
        "!mkdir dataset/stations"
      ],
      "metadata": {
        "id": "iOrjMFOSPXWu"
      },
      "execution_count": 6,
      "outputs": []
    },
    {
      "cell_type": "markdown",
      "source": [
        "## Datasets de uso\n",
        "Aquí nos descargamos los datasets de uso por usuario y los movemos dentro de la carpeta _usages/_ dentro de _datasets/_"
      ],
      "metadata": {
        "id": "9wTWoM3WQEga"
      }
    },
    {
      "cell_type": "code",
      "source": [
        "#Enero de 2019\n",
        "!wget -N \"https://opendata.emtmadrid.es/getattachment/2ebcc70a-4914-43c6-9ada-a0f0520032a4/201901_Usage_Bicimad.aspx\"\n",
        "!mv 201901_Usage_Bicimad.aspx 201901_Usage_Bicimad.zip\n",
        "!unzip 201901_Usage_Bicimad.zip\n",
        "!mv 201901_Usage_Bicimad.json dataset/usages\n",
        "!rm 201901_Usage_Bicimad.zip"
      ],
      "metadata": {
        "colab": {
          "base_uri": "https://localhost:8080/"
        },
        "id": "64L9Na64XBtP",
        "outputId": "4a06d8f0-336e-4d36-9481-eabe41cf195a"
      },
      "execution_count": 7,
      "outputs": [
        {
          "output_type": "stream",
          "name": "stdout",
          "text": [
            "--2023-05-31 18:03:33--  https://opendata.emtmadrid.es/getattachment/2ebcc70a-4914-43c6-9ada-a0f0520032a4/201901_Usage_Bicimad.aspx\n",
            "Resolving opendata.emtmadrid.es (opendata.emtmadrid.es)... 185.79.130.130\n",
            "Connecting to opendata.emtmadrid.es (opendata.emtmadrid.es)|185.79.130.130|:443... connected.\n",
            "HTTP request sent, awaiting response... 200 OK\n",
            "Length: 78311972 (75M) [application/zip]\n",
            "Saving to: ‘201901_Usage_Bicimad.aspx’\n",
            "\n",
            "201901_Usage_Bicima 100%[===================>]  74.68M  4.44MB/s    in 16s     \n",
            "\n",
            "2023-05-31 18:03:51 (4.62 MB/s) - ‘201901_Usage_Bicimad.aspx’ saved [78311972/78311972]\n",
            "\n",
            "Archive:  201901_Usage_Bicimad.zip\n",
            "  inflating: 201901_Usage_Bicimad.json  \n"
          ]
        }
      ]
    },
    {
      "cell_type": "code",
      "source": [
        "#Febrero de 2019\n",
        "!wget -N \"https://opendata.emtmadrid.es/getattachment/aa8c34d2-ddba-46d9-b6db-882c0b4a12f0/201902_Usage_Bicimad.aspx\"\n",
        "!mv 201902_Usage_Bicimad.aspx 201902_Usage_Bicimad.zip \n",
        "!unzip 201902_Usage_Bicimad.zip\n",
        "!mv 201902_Usage_Bicimad.json dataset/usages\n",
        "!rm 201902_Usage_Bicimad.zip"
      ],
      "metadata": {
        "id": "8AmqDe_CpLwn",
        "colab": {
          "base_uri": "https://localhost:8080/"
        },
        "outputId": "e46798eb-3fc6-41f7-86c2-bb75dc223236"
      },
      "execution_count": 8,
      "outputs": [
        {
          "output_type": "stream",
          "name": "stdout",
          "text": [
            "--2023-05-31 18:04:05--  https://opendata.emtmadrid.es/getattachment/aa8c34d2-ddba-46d9-b6db-882c0b4a12f0/201902_Usage_Bicimad.aspx\n",
            "Resolving opendata.emtmadrid.es (opendata.emtmadrid.es)... 185.79.130.130\n",
            "Connecting to opendata.emtmadrid.es (opendata.emtmadrid.es)|185.79.130.130|:443... connected.\n",
            "HTTP request sent, awaiting response... 200 OK\n",
            "Length: 64069335 (61M) [application/zip]\n",
            "Saving to: ‘201902_Usage_Bicimad.aspx’\n",
            "\n",
            "201902_Usage_Bicima 100%[===================>]  61.10M  5.04MB/s    in 12s     \n",
            "\n",
            "2023-05-31 18:04:18 (4.89 MB/s) - ‘201902_Usage_Bicimad.aspx’ saved [64069335/64069335]\n",
            "\n",
            "Archive:  201902_Usage_Bicimad.zip\n",
            "  inflating: 201902_Usage_Bicimad.json  \n"
          ]
        }
      ]
    },
    {
      "cell_type": "code",
      "source": [
        "#Junio de 2019\n",
        "!wget -N \"https://opendata.emtmadrid.es/getattachment/7517a650-ccdf-4ab1-b1b0-a1d13694472e/201906_Usage_Bicimad.aspx\"\n",
        "!mv 201906_Usage_Bicimad.aspx 201906_Usage_Bicimad.zip\n",
        "!unzip 201906_Usage_Bicimad.zip\n",
        "!mv 201906_Usage_Bicimad.json dataset/usages\n",
        "!rm 201906_Usage_Bicimad.zip"
      ],
      "metadata": {
        "id": "49oqJtIShaGZ",
        "colab": {
          "base_uri": "https://localhost:8080/"
        },
        "outputId": "ae2cff52-593e-4faf-b481-9bd313744db0"
      },
      "execution_count": 9,
      "outputs": [
        {
          "output_type": "stream",
          "name": "stdout",
          "text": [
            "--2023-05-31 18:04:26--  https://opendata.emtmadrid.es/getattachment/7517a650-ccdf-4ab1-b1b0-a1d13694472e/201906_Usage_Bicimad.aspx\n",
            "Resolving opendata.emtmadrid.es (opendata.emtmadrid.es)... 185.79.130.130\n",
            "Connecting to opendata.emtmadrid.es (opendata.emtmadrid.es)|185.79.130.130|:443... connected.\n",
            "HTTP request sent, awaiting response... 200 OK\n",
            "Length: 59678050 (57M) [application/zip]\n",
            "Saving to: ‘201906_Usage_Bicimad.aspx’\n",
            "\n",
            "201906_Usage_Bicima 100%[===================>]  56.91M  4.79MB/s    in 12s     \n",
            "\n",
            "2023-05-31 18:04:39 (4.60 MB/s) - ‘201906_Usage_Bicimad.aspx’ saved [59678050/59678050]\n",
            "\n",
            "Archive:  201906_Usage_Bicimad.zip\n",
            "  inflating: 201906_Usage_Bicimad.json  \n"
          ]
        }
      ]
    },
    {
      "cell_type": "markdown",
      "source": [
        "## Datasets de estaciones\n",
        "Aquí nos descargamos los datasets de ocupacion por estación y los movemos dentro de la carpeta _stations/_ dentro de _datasets/_"
      ],
      "metadata": {
        "id": "-AJNh1LCX-c8"
      }
    },
    {
      "cell_type": "code",
      "source": [
        "#Situaciones estaciones Enero 2019\n",
        "!wget -N \"https://opendata.emtmadrid.es/getattachment/17206b97-1de9-4c95-a20f-3331d699d2fa/Bicimad_Stations_201901.aspx\"\n",
        "!mv Bicimad_Stations_201901.aspx Bicimad_Stations_201901.zip \n",
        "!unzip Bicimad_Stations_201901.zip\n",
        "!mv Bicimad_Stations_201901.json dataset/stations/\n",
        "!rm Bicimad_Stations_201901.zip\n",
        "\n",
        "\n"
      ],
      "metadata": {
        "colab": {
          "base_uri": "https://localhost:8080/"
        },
        "id": "pJsbTN-7YDKw",
        "outputId": "bd4f0a61-8a49-4ffc-96d5-3054035d5da8"
      },
      "execution_count": 10,
      "outputs": [
        {
          "output_type": "stream",
          "name": "stdout",
          "text": [
            "--2023-05-31 18:04:52--  https://opendata.emtmadrid.es/getattachment/17206b97-1de9-4c95-a20f-3331d699d2fa/Bicimad_Stations_201901.aspx\n",
            "Resolving opendata.emtmadrid.es (opendata.emtmadrid.es)... 185.79.130.130\n",
            "Connecting to opendata.emtmadrid.es (opendata.emtmadrid.es)|185.79.130.130|:443... connected.\n",
            "HTTP request sent, awaiting response... 200 OK\n",
            "Length: 5217347 (5.0M) [application/zip]\n",
            "Saving to: ‘Bicimad_Stations_201901.aspx’\n",
            "\n",
            "Bicimad_Stations_20 100%[===================>]   4.98M  3.38MB/s    in 1.5s    \n",
            "\n",
            "2023-05-31 18:04:55 (3.38 MB/s) - ‘Bicimad_Stations_201901.aspx’ saved [5217347/5217347]\n",
            "\n",
            "Archive:  Bicimad_Stations_201901.zip\n",
            "  inflating: Bicimad_Stations_201901.json  \n"
          ]
        }
      ]
    },
    {
      "cell_type": "markdown",
      "source": [
        "# **Creamos los RDD**\n",
        "Una vez tenemos las bases de datos descargadas vamos a codificarlas de forma cómoda."
      ],
      "metadata": {
        "id": "IjUGoV3rZfhL"
      }
    },
    {
      "cell_type": "markdown",
      "source": [
        "-----\n",
        "Para tener los datos almacenados de una forma cómoda primero creamos un diccionario cuya clave va a ser un string con el mes y el año del dataset y como valor va a tener el rdd asociado al uso por usuario de ese mes.\n",
        "\n",
        "La funcion ```mapper_usages``` nos servirá para crear la rdd mas legible. Nos quedaremos con los datos necesarios y cada linea la codificaremos como un diccionario."
      ],
      "metadata": {
        "id": "bJZHUtyOaj4a"
      }
    },
    {
      "cell_type": "code",
      "source": [
        "def mapper_usages(line):\n",
        "  data = json.loads(line)\n",
        "  user = data['user_type']\n",
        "  user_day = data['user_day_code']\n",
        "  start = data['idunplug_station']\n",
        "  end = data['idplug_station']\n",
        "  date = data['unplug_hourTime']['$date'][0:10]\n",
        "  hora = data['unplug_hourTime']['$date'][11:19]\n",
        "  time = data['travel_time']\n",
        "  age = data['ageRange']\n",
        "  return user,user_day, start, end , time, date, hora, age"
      ],
      "metadata": {
        "id": "dZ7aDnj5amL-"
      },
      "execution_count": 11,
      "outputs": []
    },
    {
      "cell_type": "code",
      "source": [
        "rdd_usages={}"
      ],
      "metadata": {
        "id": "H1sSA98ja03P"
      },
      "execution_count": 12,
      "outputs": []
    },
    {
      "cell_type": "code",
      "source": [],
      "metadata": {
        "id": "gUhhrsGua02a"
      },
      "execution_count": null,
      "outputs": []
    },
    {
      "cell_type": "code",
      "source": [
        "directory = 'dataset/usages'\n",
        "for filename in os.listdir(directory):\n",
        "    if filename.endswith(\".json\"):\n",
        "      #Nos quedamos con la fecha del dataset en formato YYYYMM\n",
        "      name = filename.split(\"_\")[0]\n",
        "      rdd_usages[name] = \\\n",
        "      sc.textFile(os.path.join(directory, filename)).map(mapper_usages)\n",
        "      #DEBUG starts\n",
        "      print(name)\n",
        "      #DEBUG ends\n",
        "    else:\n",
        "        continue"
      ],
      "metadata": {
        "id": "hoVQQI8HasDG",
        "colab": {
          "base_uri": "https://localhost:8080/"
        },
        "outputId": "aa495499-cf7c-4c3c-810d-d67701d59dae"
      },
      "execution_count": 13,
      "outputs": [
        {
          "output_type": "stream",
          "name": "stdout",
          "text": [
            "201902\n",
            "201901\n",
            "201906\n"
          ]
        }
      ]
    },
    {
      "cell_type": "code",
      "source": [
        "rdd_usages"
      ],
      "metadata": {
        "id": "gUycK-qwrrs5",
        "outputId": "c2adde97-c267-4329-bb31-6cf5f945108e",
        "colab": {
          "base_uri": "https://localhost:8080/"
        }
      },
      "execution_count": 14,
      "outputs": [
        {
          "output_type": "execute_result",
          "data": {
            "text/plain": [
              "{'201902': PythonRDD[6] at RDD at PythonRDD.scala:53,\n",
              " '201901': PythonRDD[7] at RDD at PythonRDD.scala:53,\n",
              " '201906': PythonRDD[8] at RDD at PythonRDD.scala:53}"
            ]
          },
          "metadata": {},
          "execution_count": 14
        }
      ]
    },
    {
      "cell_type": "markdown",
      "source": [
        "----\n",
        "Por otro lado un diccionario cuya clave va a ser tambien un string con el mes y el año del dataset y como valor va a tener el rdd asociado a la ocupacion de las estaciones en ese mes.\n",
        "\n",
        "Aquí usaremos la funcion ```mapper_stations``` para acomodar los datos."
      ],
      "metadata": {
        "id": "lQxeEPJec1Zv"
      }
    },
    {
      "cell_type": "code",
      "source": [
        "rdd_stations = {} "
      ],
      "metadata": {
        "id": "AbwhxoILc6b8"
      },
      "execution_count": 15,
      "outputs": []
    },
    {
      "cell_type": "code",
      "source": [
        "def mapper_stations(line):\n",
        "  data = json.loads(line)\n",
        "  day = data['_id'][0:10]\n",
        "  hour = data['_id'][11:27]\n",
        "  station = data['stations']\n",
        "  return {\"day\": day, \"hour\": hour, \"station\": station}"
      ],
      "metadata": {
        "id": "XJz9umDzdCZ3"
      },
      "execution_count": 16,
      "outputs": []
    },
    {
      "cell_type": "code",
      "source": [
        "directory = 'dataset/stations'\n",
        "for filename in os.listdir(directory):\n",
        "    if filename.endswith(\".json\"):\n",
        "      #Nos quedamos con la fecha del dataset en formato YYYYMM\n",
        "      name = filename.split(\"_\")[2].split(\".\")[0]\n",
        "      rdd_stations[name] = \\\n",
        "      sc.textFile(os.path.join(directory, filename)).map(mapper_stations)\n",
        "      #DEBUG starts\n",
        "      print(name)\n",
        "      #DEBUG ends\n",
        "    else:\n",
        "        continue"
      ],
      "metadata": {
        "colab": {
          "base_uri": "https://localhost:8080/"
        },
        "id": "GJGyxWeYdJqv",
        "outputId": "a1c4ad5c-8898-441f-a9bc-d1a90e878dd4"
      },
      "execution_count": 17,
      "outputs": [
        {
          "output_type": "stream",
          "name": "stdout",
          "text": [
            "201901\n"
          ]
        }
      ]
    },
    {
      "cell_type": "markdown",
      "source": [
        "Como usar la nueva forma de organizar los rdd"
      ],
      "metadata": {
        "id": "zarYEdVZohNW"
      }
    },
    {
      "cell_type": "code",
      "source": [
        "rdd_stations[\"201901\"].take(1)"
      ],
      "metadata": {
        "colab": {
          "base_uri": "https://localhost:8080/"
        },
        "id": "JQKS6weiozwN",
        "outputId": "29955999-73d2-4595-87a1-bfc9455784a5"
      },
      "execution_count": null,
      "outputs": [
        {
          "output_type": "execute_result",
          "data": {
            "text/plain": [
              "[{'day': '2019-01-01',\n",
              "  'hour': '00:50:23.009468',\n",
              "  'station': [{'activate': 1,\n",
              "    'name': 'Puerta del Sol A',\n",
              "    'reservations_count': 0,\n",
              "    'light': 3,\n",
              "    'total_bases': 24,\n",
              "    'free_bases': 0,\n",
              "    'number': '1a',\n",
              "    'longitude': '-3.7024255',\n",
              "    'no_available': 1,\n",
              "    'address': 'Puerta del Sol n� 1',\n",
              "    'latitude': '40.4168961',\n",
              "    'dock_bikes': 0,\n",
              "    'id': 1},\n",
              "   {'activate': 1,\n",
              "    'name': 'Puerta del Sol B',\n",
              "    'reservations_count': 0,\n",
              "    'light': 3,\n",
              "    'total_bases': 24,\n",
              "    'free_bases': 0,\n",
              "    'number': '1b',\n",
              "    'longitude': '-3.7024207',\n",
              "    'no_available': 1,\n",
              "    'address': 'Puerta del Sol n� 1',\n",
              "    'latitude': '40.4170009',\n",
              "    'dock_bikes': 0,\n",
              "    'id': 2},\n",
              "   {'activate': 1,\n",
              "    'name': 'Miguel Moya',\n",
              "    'reservations_count': 0,\n",
              "    'light': 0,\n",
              "    'total_bases': 24,\n",
              "    'free_bases': 20,\n",
              "    'number': '2',\n",
              "    'longitude': '-3.7058415',\n",
              "    'no_available': 0,\n",
              "    'address': 'Calle Miguel Moya n� 1',\n",
              "    'latitude': '40.4205886',\n",
              "    'dock_bikes': 2,\n",
              "    'id': 3},\n",
              "   {'activate': 1,\n",
              "    'name': 'Plaza Conde Suchil',\n",
              "    'reservations_count': 0,\n",
              "    'light': 1,\n",
              "    'total_bases': 18,\n",
              "    'free_bases': 4,\n",
              "    'number': '3',\n",
              "    'longitude': '-3.7069171',\n",
              "    'no_available': 0,\n",
              "    'address': 'Plaza del Conde Suchil n� 2-4',\n",
              "    'latitude': '40.4302937',\n",
              "    'dock_bikes': 12,\n",
              "    'id': 4},\n",
              "   {'activate': 1,\n",
              "    'name': 'Malasa�a',\n",
              "    'reservations_count': 0,\n",
              "    'light': 2,\n",
              "    'total_bases': 24,\n",
              "    'free_bases': 10,\n",
              "    'number': '4',\n",
              "    'longitude': '-3.7025875',\n",
              "    'no_available': 0,\n",
              "    'address': 'Calle Manuela Malasa�a n� 5',\n",
              "    'latitude': '40.4285524',\n",
              "    'dock_bikes': 9,\n",
              "    'id': 5},\n",
              "   {'activate': 1,\n",
              "    'name': 'Fuencarral',\n",
              "    'reservations_count': 0,\n",
              "    'light': 0,\n",
              "    'total_bases': 27,\n",
              "    'free_bases': 20,\n",
              "    'number': '5',\n",
              "    'longitude': '-3.7020599',\n",
              "    'no_available': 0,\n",
              "    'address': 'Calle Fuencarral n� 108',\n",
              "    'latitude': '40.4285280',\n",
              "    'dock_bikes': 2,\n",
              "    'id': 6},\n",
              "   {'activate': 1,\n",
              "    'name': 'Colegio Arquitectos',\n",
              "    'reservations_count': 0,\n",
              "    'light': 0,\n",
              "    'total_bases': 24,\n",
              "    'free_bases': 22,\n",
              "    'number': '6',\n",
              "    'longitude': '-3.6984470',\n",
              "    'no_available': 0,\n",
              "    'address': 'Calle Hortaleza n� 63',\n",
              "    'latitude': '40.4241480',\n",
              "    'dock_bikes': 2,\n",
              "    'id': 7},\n",
              "   {'activate': 1,\n",
              "    'name': 'Hortaleza',\n",
              "    'reservations_count': 0,\n",
              "    'light': 0,\n",
              "    'total_bases': 21,\n",
              "    'free_bases': 18,\n",
              "    'number': '7',\n",
              "    'longitude': '-3.6977715',\n",
              "    'no_available': 0,\n",
              "    'address': 'Calle Hortaleza n� 75',\n",
              "    'latitude': '40.4251906',\n",
              "    'dock_bikes': 3,\n",
              "    'id': 8},\n",
              "   {'activate': 1,\n",
              "    'name': 'Alonso Mart�nez',\n",
              "    'reservations_count': 0,\n",
              "    'light': 0,\n",
              "    'total_bases': 24,\n",
              "    'free_bases': 17,\n",
              "    'number': '8',\n",
              "    'longitude': '-3.6954403',\n",
              "    'no_available': 0,\n",
              "    'address': 'Plaza de Alonso Mart�nez n� 5',\n",
              "    'latitude': '40.4278682',\n",
              "    'dock_bikes': 6,\n",
              "    'id': 9},\n",
              "   {'activate': 1,\n",
              "    'name': 'Plaza de San Miguel',\n",
              "    'reservations_count': 0,\n",
              "    'light': 3,\n",
              "    'total_bases': 24,\n",
              "    'free_bases': 0,\n",
              "    'number': '9',\n",
              "    'longitude': '-3.7095084',\n",
              "    'no_available': 1,\n",
              "    'address': 'Plaza de San Miguel n� 9',\n",
              "    'latitude': '40.4156057',\n",
              "    'dock_bikes': 0,\n",
              "    'id': 10},\n",
              "   {'activate': 1,\n",
              "    'name': 'Marqu�s de la Ensenada',\n",
              "    'reservations_count': 0,\n",
              "    'light': 2,\n",
              "    'total_bases': 24,\n",
              "    'free_bases': 15,\n",
              "    'number': '10',\n",
              "    'longitude': '-3.6918807',\n",
              "    'no_available': 0,\n",
              "    'address': 'Calle Marqu�s de la Ensenada n� 16',\n",
              "    'latitude': '40.4250863',\n",
              "    'dock_bikes': 9,\n",
              "    'id': 11},\n",
              "   {'activate': 1,\n",
              "    'name': 'San Andr�s',\n",
              "    'reservations_count': 0,\n",
              "    'light': 0,\n",
              "    'total_bases': 24,\n",
              "    'free_bases': 16,\n",
              "    'number': '11',\n",
              "    'longitude': '-3.7035918',\n",
              "    'no_available': 0,\n",
              "    'address': 'Calle San Andr�s n� 18',\n",
              "    'latitude': '40.4269483',\n",
              "    'dock_bikes': 3,\n",
              "    'id': 12},\n",
              "   {'activate': 1,\n",
              "    'name': 'San Hermenegildo',\n",
              "    'reservations_count': 0,\n",
              "    'light': 2,\n",
              "    'total_bases': 24,\n",
              "    'free_bases': 9,\n",
              "    'number': '12',\n",
              "    'longitude': '-3.7061931',\n",
              "    'no_available': 0,\n",
              "    'address': 'Calle San Bernardo n� 85',\n",
              "    'latitude': '40.4284246',\n",
              "    'dock_bikes': 14,\n",
              "    'id': 13},\n",
              "   {'activate': 1,\n",
              "    'name': 'Conde Duque',\n",
              "    'reservations_count': 0,\n",
              "    'light': 2,\n",
              "    'total_bases': 24,\n",
              "    'free_bases': 12,\n",
              "    'number': '13',\n",
              "    'longitude': '-3.7104417',\n",
              "    'no_available': 0,\n",
              "    'address': 'Calle Conde Duque n� 22',\n",
              "    'latitude': '40.4273264',\n",
              "    'dock_bikes': 11,\n",
              "    'id': 14},\n",
              "   {'activate': 1,\n",
              "    'name': 'Ventura Rodr�guez',\n",
              "    'reservations_count': 0,\n",
              "    'light': 2,\n",
              "    'total_bases': 24,\n",
              "    'free_bases': 8,\n",
              "    'number': '14',\n",
              "    'longitude': '-3.7134790',\n",
              "    'no_available': 0,\n",
              "    'address': 'Calle Ventura Rodr�guez n� 2',\n",
              "    'latitude': '40.4260957',\n",
              "    'dock_bikes': 16,\n",
              "    'id': 15},\n",
              "   {'activate': 1,\n",
              "    'name': 'San Vicente Ferrer',\n",
              "    'reservations_count': 0,\n",
              "    'light': 0,\n",
              "    'total_bases': 21,\n",
              "    'free_bases': 18,\n",
              "    'number': '15',\n",
              "    'longitude': '-3.7073764',\n",
              "    'no_available': 0,\n",
              "    'address': 'Calle San Vicente Ferrer n� 64',\n",
              "    'latitude': '40.4261649',\n",
              "    'dock_bikes': 2,\n",
              "    'id': 16},\n",
              "   {'activate': 1,\n",
              "    'name': 'San Bernardo',\n",
              "    'reservations_count': 0,\n",
              "    'light': 2,\n",
              "    'total_bases': 21,\n",
              "    'free_bases': 7,\n",
              "    'number': '16',\n",
              "    'longitude': '-3.7075065',\n",
              "    'no_available': 0,\n",
              "    'address': 'Calle San Bernardo n� 22',\n",
              "    'latitude': '40.4230721',\n",
              "    'dock_bikes': 9,\n",
              "    'id': 17},\n",
              "   {'activate': 1,\n",
              "    'name': 'Carlos Cambronero',\n",
              "    'reservations_count': 0,\n",
              "    'light': 0,\n",
              "    'total_bases': 24,\n",
              "    'free_bases': 22,\n",
              "    'number': '17',\n",
              "    'longitude': '-3.7038312',\n",
              "    'no_available': 0,\n",
              "    'address': 'Plaza de Carlos Cambronero n� 2',\n",
              "    'latitude': '40.4232649',\n",
              "    'dock_bikes': 1,\n",
              "    'id': 18},\n",
              "   {'activate': 1,\n",
              "    'name': 'Plaza de Pedro Zerolo',\n",
              "    'reservations_count': 0,\n",
              "    'light': 0,\n",
              "    'total_bases': 24,\n",
              "    'free_bases': 17,\n",
              "    'number': '18',\n",
              "    'longitude': '-3.6996502',\n",
              "    'no_available': 0,\n",
              "    'address': 'Plaza de Pedro Zerolo',\n",
              "    'latitude': '40.4207773',\n",
              "    'dock_bikes': 5,\n",
              "    'id': 19},\n",
              "   {'activate': 1,\n",
              "    'name': 'Prim',\n",
              "    'reservations_count': 0,\n",
              "    'light': 2,\n",
              "    'total_bases': 24,\n",
              "    'free_bases': 15,\n",
              "    'number': '19',\n",
              "    'longitude': '-3.6954983',\n",
              "    'no_available': 0,\n",
              "    'address': 'Calle Prim n� 2',\n",
              "    'latitude': '40.4218616',\n",
              "    'dock_bikes': 9,\n",
              "    'id': 20},\n",
              "   {'activate': 1,\n",
              "    'name': 'Banco de Espa�a A',\n",
              "    'reservations_count': 0,\n",
              "    'light': 1,\n",
              "    'total_bases': 30,\n",
              "    'free_bases': 6,\n",
              "    'number': '20a',\n",
              "    'longitude': '-3.6954615',\n",
              "    'no_available': 0,\n",
              "    'address': 'Calle Alcal� n� 49',\n",
              "    'latitude': '40.4192342',\n",
              "    'dock_bikes': 21,\n",
              "    'id': 21},\n",
              "   {'activate': 1,\n",
              "    'name': 'Red de San Luis A',\n",
              "    'reservations_count': 0,\n",
              "    'light': 3,\n",
              "    'total_bases': 24,\n",
              "    'free_bases': 0,\n",
              "    'number': '21a',\n",
              "    'longitude': '-3.7014814',\n",
              "    'no_available': 1,\n",
              "    'address': 'Calle Montera n� 48',\n",
              "    'latitude': '40.4197872',\n",
              "    'dock_bikes': 0,\n",
              "    'id': 23},\n",
              "   {'activate': 1,\n",
              "    'name': 'Red de San Luis B',\n",
              "    'reservations_count': 0,\n",
              "    'light': 3,\n",
              "    'total_bases': 24,\n",
              "    'free_bases': 0,\n",
              "    'number': '21b',\n",
              "    'longitude': '-3.7015235',\n",
              "    'no_available': 1,\n",
              "    'address': 'Calle Montera n� 47',\n",
              "    'latitude': '40.4197204',\n",
              "    'dock_bikes': 0,\n",
              "    'id': 24},\n",
              "   {'activate': 1,\n",
              "    'name': 'Jacometrezo',\n",
              "    'reservations_count': 0,\n",
              "    'light': 0,\n",
              "    'total_bases': 24,\n",
              "    'free_bases': 20,\n",
              "    'number': '22',\n",
              "    'longitude': '-3.7065376',\n",
              "    'no_available': 0,\n",
              "    'address': 'Calle Jacometrezo n� 3',\n",
              "    'latitude': '40.4200783',\n",
              "    'dock_bikes': 2,\n",
              "    'id': 25},\n",
              "   {'activate': 1,\n",
              "    'name': 'Santo Domingo',\n",
              "    'reservations_count': 0,\n",
              "    'light': 0,\n",
              "    'total_bases': 24,\n",
              "    'free_bases': 23,\n",
              "    'number': '23',\n",
              "    'longitude': '-3.7080733',\n",
              "    'no_available': 0,\n",
              "    'address': 'Plaza de Santo Domingo n� 1',\n",
              "    'latitude': '40.4197429',\n",
              "    'dock_bikes': 0,\n",
              "    'id': 26},\n",
              "   {'activate': 1,\n",
              "    'name': 'Palacio de Oriente',\n",
              "    'reservations_count': 0,\n",
              "    'light': 2,\n",
              "    'total_bases': 24,\n",
              "    'free_bases': 8,\n",
              "    'number': '24',\n",
              "    'longitude': '-3.7103538',\n",
              "    'no_available': 0,\n",
              "    'address': 'Calle Carlos III n� 1',\n",
              "    'latitude': '40.4182146',\n",
              "    'dock_bikes': 16,\n",
              "    'id': 27},\n",
              "   {'activate': 1,\n",
              "    'name': 'Plaza de Celenque A',\n",
              "    'reservations_count': 0,\n",
              "    'light': 3,\n",
              "    'total_bases': 24,\n",
              "    'free_bases': 0,\n",
              "    'number': '25a',\n",
              "    'longitude': '-3.7064809',\n",
              "    'no_available': 1,\n",
              "    'address': 'Plaza de Celenque n� 1',\n",
              "    'latitude': '40.4173114',\n",
              "    'dock_bikes': 0,\n",
              "    'id': 28},\n",
              "   {'activate': 1,\n",
              "    'name': 'Plaza de Celenque B',\n",
              "    'reservations_count': 0,\n",
              "    'light': 3,\n",
              "    'total_bases': 24,\n",
              "    'free_bases': 0,\n",
              "    'number': '25b',\n",
              "    'longitude': '-3.7063837',\n",
              "    'no_available': 1,\n",
              "    'address': 'Plaza de Celenque n� 1',\n",
              "    'latitude': '40.4172781',\n",
              "    'dock_bikes': 0,\n",
              "    'id': 29},\n",
              "   {'activate': 1,\n",
              "    'name': 'Plaza de las Salesas',\n",
              "    'reservations_count': 0,\n",
              "    'light': 0,\n",
              "    'total_bases': 24,\n",
              "    'free_bases': 23,\n",
              "    'number': '26',\n",
              "    'longitude': '-3.694475',\n",
              "    'no_available': 0,\n",
              "    'address': 'Plaza de las Salesas 7',\n",
              "    'latitude': '40.423855',\n",
              "    'dock_bikes': 1,\n",
              "    'id': 30},\n",
              "   {'activate': 1,\n",
              "    'name': 'Huertas',\n",
              "    'reservations_count': 0,\n",
              "    'light': 2,\n",
              "    'total_bases': 24,\n",
              "    'free_bases': 11,\n",
              "    'number': '27',\n",
              "    'longitude': '-3.6956178',\n",
              "    'no_available': 0,\n",
              "    'address': 'Calle Jes�s n� 1',\n",
              "    'latitude': '40.4132798',\n",
              "    'dock_bikes': 13,\n",
              "    'id': 31},\n",
              "   {'activate': 1,\n",
              "    'name': 'Sevilla',\n",
              "    'reservations_count': 0,\n",
              "    'light': 3,\n",
              "    'total_bases': 24,\n",
              "    'free_bases': 0,\n",
              "    'number': '28',\n",
              "    'longitude': '-3.6992600',\n",
              "    'no_available': 1,\n",
              "    'address': 'Calle Alcal� n� 27',\n",
              "    'latitude': '40.4181663',\n",
              "    'dock_bikes': 0,\n",
              "    'id': 32},\n",
              "   {'activate': 1,\n",
              "    'name': 'Marqu�s de Cubas',\n",
              "    'reservations_count': 0,\n",
              "    'light': 0,\n",
              "    'total_bases': 24,\n",
              "    'free_bases': 21,\n",
              "    'number': '29',\n",
              "    'longitude': '-3.6957355',\n",
              "    'no_available': 0,\n",
              "    'address': 'Calle del Marqu�s de Cubas n� 25',\n",
              "    'latitude': '40.4162619',\n",
              "    'dock_bikes': 1,\n",
              "    'id': 33},\n",
              "   {'activate': 1,\n",
              "    'name': 'San Quint�n',\n",
              "    'reservations_count': 0,\n",
              "    'light': 2,\n",
              "    'total_bases': 27,\n",
              "    'free_bases': 10,\n",
              "    'number': '30',\n",
              "    'longitude': '-3.7115040',\n",
              "    'no_available': 0,\n",
              "    'address': 'Calle Pav�a n� 6',\n",
              "    'latitude': '40.4192095',\n",
              "    'dock_bikes': 17,\n",
              "    'id': 34},\n",
              "   {'activate': 1,\n",
              "    'name': 'Calle Mayor',\n",
              "    'reservations_count': 0,\n",
              "    'light': 3,\n",
              "    'total_bases': 27,\n",
              "    'free_bases': 0,\n",
              "    'number': '31',\n",
              "    'longitude': '-3.7068969',\n",
              "    'no_available': 1,\n",
              "    'address': 'Calle Mayor n� 20',\n",
              "    'latitude': '40.4163638',\n",
              "    'dock_bikes': 0,\n",
              "    'id': 35},\n",
              "   {'activate': 1,\n",
              "    'name': 'Plaza de la Provincia',\n",
              "    'reservations_count': 0,\n",
              "    'light': 2,\n",
              "    'total_bases': 18,\n",
              "    'free_bases': 7,\n",
              "    'number': '32',\n",
              "    'longitude': '-3.7061032',\n",
              "    'no_available': 0,\n",
              "    'address': 'Plaza de la Provincia n� 1',\n",
              "    'latitude': '40.4150099',\n",
              "    'dock_bikes': 11,\n",
              "    'id': 36},\n",
              "   {'activate': 1,\n",
              "    'name': 'Carretas',\n",
              "    'reservations_count': 0,\n",
              "    'light': 3,\n",
              "    'total_bases': 24,\n",
              "    'free_bases': 0,\n",
              "    'number': '33',\n",
              "    'longitude': '-3.7031808',\n",
              "    'no_available': 1,\n",
              "    'address': 'Calle Carretas n� 8',\n",
              "    'latitude': '40.4157138',\n",
              "    'dock_bikes': 0,\n",
              "    'id': 37},\n",
              "   {'activate': 1,\n",
              "    'name': 'Jacinto Benavente',\n",
              "    'reservations_count': 0,\n",
              "    'light': 3,\n",
              "    'total_bases': 24,\n",
              "    'free_bases': 0,\n",
              "    'number': '34',\n",
              "    'longitude': '-3.7036825',\n",
              "    'no_available': 1,\n",
              "    'address': 'Plaza de Jacinto Benavente',\n",
              "    'latitude': '40.4146755',\n",
              "    'dock_bikes': 0,\n",
              "    'id': 38},\n",
              "   {'activate': 1,\n",
              "    'name': 'Plaza del Cord�n',\n",
              "    'reservations_count': 0,\n",
              "    'light': 2,\n",
              "    'total_bases': 24,\n",
              "    'free_bases': 9,\n",
              "    'number': '35',\n",
              "    'longitude': '-3.7103285',\n",
              "    'no_available': 0,\n",
              "    'address': 'Plaza del Cord�n n� 1',\n",
              "    'latitude': '40.4141931',\n",
              "    'dock_bikes': 15,\n",
              "    'id': 39},\n",
              "   {'activate': 1,\n",
              "    'name': 'Plaza de Ramales',\n",
              "    'reservations_count': 0,\n",
              "    'light': 1,\n",
              "    'total_bases': 24,\n",
              "    'free_bases': 3,\n",
              "    'number': '36',\n",
              "    'longitude': '-3.7124038',\n",
              "    'no_available': 0,\n",
              "    'address': 'Plaza de Ramales n� 1',\n",
              "    'latitude': '40.4167281',\n",
              "    'dock_bikes': 20,\n",
              "    'id': 40},\n",
              "   {'activate': 1,\n",
              "    'name': 'Plaza San Francisco',\n",
              "    'reservations_count': 0,\n",
              "    'light': 0,\n",
              "    'total_bases': 24,\n",
              "    'free_bases': 18,\n",
              "    'number': '37',\n",
              "    'longitude': '-3.7144964',\n",
              "    'no_available': 0,\n",
              "    'address': 'Plaza de San Francisco n� 5',\n",
              "    'latitude': '40.4108442',\n",
              "    'dock_bikes': 3,\n",
              "    'id': 41},\n",
              "   {'activate': 1,\n",
              "    'name': 'Plaza de los Carros',\n",
              "    'reservations_count': 0,\n",
              "    'light': 0,\n",
              "    'total_bases': 24,\n",
              "    'free_bases': 14,\n",
              "    'number': '38',\n",
              "    'longitude': '-3.7120734',\n",
              "    'no_available': 0,\n",
              "    'address': 'Carrera de San Francisco n� 1',\n",
              "    'latitude': '40.4110406',\n",
              "    'dock_bikes': 6,\n",
              "    'id': 42},\n",
              "   {'activate': 1,\n",
              "    'name': 'Plaza de la Cebada',\n",
              "    'reservations_count': 1,\n",
              "    'light': 2,\n",
              "    'total_bases': 27,\n",
              "    'free_bases': 10,\n",
              "    'number': '39',\n",
              "    'longitude': '-3.7088337',\n",
              "    'no_available': 0,\n",
              "    'address': 'Plaza de la Cebada n� 16 ',\n",
              "    'latitude': '40.4112744',\n",
              "    'dock_bikes': 16,\n",
              "    'id': 43},\n",
              "   {'activate': 1,\n",
              "    'name': 'Conde de Romanones',\n",
              "    'reservations_count': 0,\n",
              "    'light': 1,\n",
              "    'total_bases': 24,\n",
              "    'free_bases': 0,\n",
              "    'number': '40',\n",
              "    'longitude': '-3.7049407',\n",
              "    'no_available': 0,\n",
              "    'address': 'Plaza del Conde de Romanones n� 9',\n",
              "    'latitude': '40.4138846',\n",
              "    'dock_bikes': 22,\n",
              "    'id': 44},\n",
              "   {'activate': 1,\n",
              "    'name': 'Ant�n Mart�n',\n",
              "    'reservations_count': 0,\n",
              "    'light': 3,\n",
              "    'total_bases': 21,\n",
              "    'free_bases': 0,\n",
              "    'number': '41',\n",
              "    'longitude': '-3.6991147',\n",
              "    'no_available': 1,\n",
              "    'address': 'Calle Atocha n� 54',\n",
              "    'latitude': '40.4122047',\n",
              "    'dock_bikes': 0,\n",
              "    'id': 45},\n",
              "   {'activate': 1,\n",
              "    'name': 'Santa Isabel',\n",
              "    'reservations_count': 0,\n",
              "    'light': 2,\n",
              "    'total_bases': 24,\n",
              "    'free_bases': 9,\n",
              "    'number': '42',\n",
              "    'longitude': '-3.6982318',\n",
              "    'no_available': 0,\n",
              "    'address': 'Calle Santa Isabel n� 32',\n",
              "    'latitude': '40.4107085',\n",
              "    'dock_bikes': 13,\n",
              "    'id': 46},\n",
              "   {'activate': 1,\n",
              "    'name': 'Jes�s y Mar�a',\n",
              "    'reservations_count': 0,\n",
              "    'light': 0,\n",
              "    'total_bases': 24,\n",
              "    'free_bases': 13,\n",
              "    'number': '43',\n",
              "    'longitude': '-3.7025024',\n",
              "    'no_available': 0,\n",
              "    'address': 'Calle Lavapi�s n� 34-36',\n",
              "    'latitude': '40.4101564',\n",
              "    'dock_bikes': 2,\n",
              "    'id': 47},\n",
              "   {'activate': 1,\n",
              "    'name': 'Plaza de Nelson Mandela',\n",
              "    'reservations_count': 0,\n",
              "    'light': 1,\n",
              "    'total_bases': 21,\n",
              "    'free_bases': 3,\n",
              "    'number': '44',\n",
              "    'longitude': '-3.7040666',\n",
              "    'no_available': 0,\n",
              "    'address': 'Calle Mes�n de Paredes n� 35',\n",
              "    'latitude': '40.4097617',\n",
              "    'dock_bikes': 18,\n",
              "    'id': 48},\n",
              "   {'activate': 1,\n",
              "    'name': 'Puerta de Toledo',\n",
              "    'reservations_count': 0,\n",
              "    'light': 2,\n",
              "    'total_bases': 21,\n",
              "    'free_bases': 11,\n",
              "    'number': '45',\n",
              "    'longitude': '-3.7110513',\n",
              "    'no_available': 0,\n",
              "    'address': 'Glorieta de la Puerta de Toledo n� 1',\n",
              "    'latitude': '40.4070358',\n",
              "    'dock_bikes': 8,\n",
              "    'id': 49},\n",
              "   {'activate': 1,\n",
              "    'name': 'Ribera de Curtidores',\n",
              "    'reservations_count': 0,\n",
              "    'light': 1,\n",
              "    'total_bases': 24,\n",
              "    'free_bases': 3,\n",
              "    'number': '46',\n",
              "    'longitude': '-3.7071259',\n",
              "    'no_available': 0,\n",
              "    'address': 'Calle Ribera de Curtidores n� 28',\n",
              "    'latitude': '40.4053153',\n",
              "    'dock_bikes': 21,\n",
              "    'id': 50},\n",
              "   {'activate': 1,\n",
              "    'name': 'Embajadores 1',\n",
              "    'reservations_count': 0,\n",
              "    'light': 2,\n",
              "    'total_bases': 24,\n",
              "    'free_bases': 9,\n",
              "    'number': '47',\n",
              "    'longitude': '-3.7028265',\n",
              "    'no_available': 0,\n",
              "    'address': 'Glorieta de Embajadores n� 6',\n",
              "    'latitude': '40.4047851',\n",
              "    'dock_bikes': 10,\n",
              "    'id': 51},\n",
              "   {'activate': 1,\n",
              "    'name': 'Embajadores 2',\n",
              "    'reservations_count': 0,\n",
              "    'light': 0,\n",
              "    'total_bases': 24,\n",
              "    'free_bases': 15,\n",
              "    'number': '48',\n",
              "    'longitude': '-3.7022591',\n",
              "    'no_available': 0,\n",
              "    'address': 'Glorieta de Embajadores n� 2',\n",
              "    'latitude': '40.4056107',\n",
              "    'dock_bikes': 5,\n",
              "    'id': 52},\n",
              "   {'activate': 1,\n",
              "    'name': 'Casa Encendida',\n",
              "    'reservations_count': 0,\n",
              "    'light': 1,\n",
              "    'total_bases': 24,\n",
              "    'free_bases': 6,\n",
              "    'number': '49',\n",
              "    'longitude': '-3.6992759',\n",
              "    'no_available': 0,\n",
              "    'address': 'Ronda de Atocha n� 34',\n",
              "    'latitude': '40.4060941',\n",
              "    'dock_bikes': 18,\n",
              "    'id': 53},\n",
              "   {'activate': 1,\n",
              "    'name': 'Museo Reina Sof�a',\n",
              "    'reservations_count': 0,\n",
              "    'light': 1,\n",
              "    'total_bases': 24,\n",
              "    'free_bases': 2,\n",
              "    'number': '50',\n",
              "    'longitude': '-3.6933463',\n",
              "    'no_available': 0,\n",
              "    'address': 'Calle Santa Isabel n� 57',\n",
              "    'latitude': '40.4083684',\n",
              "    'dock_bikes': 14,\n",
              "    'id': 54},\n",
              "   {'activate': 1,\n",
              "    'name': 'Ronda de Atocha',\n",
              "    'reservations_count': 0,\n",
              "    'light': 2,\n",
              "    'total_bases': 27,\n",
              "    'free_bases': 11,\n",
              "    'number': '51',\n",
              "    'longitude': '-3.6935205',\n",
              "    'no_available': 0,\n",
              "    'address': 'Ronda de Atocha n� 2',\n",
              "    'latitude': '40.4075606',\n",
              "    'dock_bikes': 14,\n",
              "    'id': 55},\n",
              "   {'activate': 1,\n",
              "    'name': 'Plaza de Santa Ana',\n",
              "    'reservations_count': 0,\n",
              "    'light': 1,\n",
              "    'total_bases': 24,\n",
              "    'free_bases': 1,\n",
              "    'number': '52',\n",
              "    'longitude': '-3.7007164',\n",
              "    'no_available': 0,\n",
              "    'address': 'Plaza de Santa Ana n� 10',\n",
              "    'latitude': '40.4144226',\n",
              "    'dock_bikes': 20,\n",
              "    'id': 56},\n",
              "   {'activate': 1,\n",
              "    'name': 'Plaza de Lavapi�s',\n",
              "    'reservations_count': 0,\n",
              "    'light': 2,\n",
              "    'total_bases': 24,\n",
              "    'free_bases': 8,\n",
              "    'number': '53',\n",
              "    'longitude': '-3.7008803',\n",
              "    'no_available': 0,\n",
              "    'address': 'Calle Valencia n� 1',\n",
              "    'latitude': '40.4089282',\n",
              "    'dock_bikes': 7,\n",
              "    'id': 57},\n",
              "   {'activate': 1,\n",
              "    'name': 'Barcel�',\n",
              "    'reservations_count': 0,\n",
              "    'light': 0,\n",
              "    'total_bases': 21,\n",
              "    'free_bases': 16,\n",
              "    'number': '54',\n",
              "    'longitude': '-3.7004230',\n",
              "    'no_available': 0,\n",
              "    'address': 'Calle Barcel� n� 7',\n",
              "    'latitude': '40.4266828',\n",
              "    'dock_bikes': 5,\n",
              "    'id': 58},\n",
              "   {'activate': 1,\n",
              "    'name': 'Plaza de San Ildefonso',\n",
              "    'reservations_count': 0,\n",
              "    'light': 2,\n",
              "    'total_bases': 24,\n",
              "    'free_bases': 13,\n",
              "    'number': '55',\n",
              "    'longitude': '-3.7020842',\n",
              "    'no_available': 0,\n",
              "    'address': 'Plaza de San Ildefonso n� 3',\n",
              "    'latitude': '40.4239757',\n",
              "    'dock_bikes': 8,\n",
              "    'id': 59},\n",
              "   {'activate': 1,\n",
              "    'name': 'Plaza del Carmen ',\n",
              "    'reservations_count': 0,\n",
              "    'light': 0,\n",
              "    'total_bases': 24,\n",
              "    'free_bases': 18,\n",
              "    'number': '56',\n",
              "    'longitude': '-3.7032414',\n",
              "    'no_available': 0,\n",
              "    'address': 'Plaza del Carmen n� 1',\n",
              "    'latitude': '40.4184192',\n",
              "    'dock_bikes': 3,\n",
              "    'id': 60},\n",
              "   {'activate': 1,\n",
              "    'name': 'Santa Cruz del Marcenado',\n",
              "    'reservations_count': 0,\n",
              "    'light': 2,\n",
              "    'total_bases': 24,\n",
              "    'free_bases': 10,\n",
              "    'number': '57',\n",
              "    'longitude': '-3.7126299',\n",
              "    'no_available': 0,\n",
              "    'address': 'Calle Santa Cruz del Marcenado n� 24',\n",
              "    'latitude': '40.4295658',\n",
              "    'dock_bikes': 12,\n",
              "    'id': 61},\n",
              "   {'activate': 1,\n",
              "    'name': 'Augusto Figueroa',\n",
              "    'reservations_count': 1,\n",
              "    'light': 0,\n",
              "    'total_bases': 24,\n",
              "    'free_bases': 16,\n",
              "    'number': '58',\n",
              "    'longitude': '-3.6978950',\n",
              "    'no_available': 0,\n",
              "    'address': 'Calle Augusto Figueroa n� 33',\n",
              "    'latitude': '40.4222862',\n",
              "    'dock_bikes': 4,\n",
              "    'id': 62},\n",
              "   {'activate': 1,\n",
              "    'name': 'Plaza de Juan Pujol',\n",
              "    'reservations_count': 0,\n",
              "    'light': 0,\n",
              "    'total_bases': 21,\n",
              "    'free_bases': 19,\n",
              "    'number': '59',\n",
              "    'longitude': '-3.7043418',\n",
              "    'no_available': 0,\n",
              "    'address': 'Calle Esp�ritu Santo n� 30',\n",
              "    'latitude': '40.4255495',\n",
              "    'dock_bikes': 2,\n",
              "    'id': 63},\n",
              "   {'activate': 1,\n",
              "    'name': 'Plaza de la Independencia',\n",
              "    'reservations_count': 0,\n",
              "    'light': 1,\n",
              "    'total_bases': 24,\n",
              "    'free_bases': 3,\n",
              "    'number': '60',\n",
              "    'longitude': '-3.6883980',\n",
              "    'no_available': 0,\n",
              "    'address': 'Plaza de la Independencia n� 6',\n",
              "    'latitude': '40.4197520',\n",
              "    'dock_bikes': 19,\n",
              "    'id': 64},\n",
              "   {'activate': 1,\n",
              "    'name': 'Narv�ez',\n",
              "    'reservations_count': 0,\n",
              "    'light': 1,\n",
              "    'total_bases': 24,\n",
              "    'free_bases': 4,\n",
              "    'number': '61',\n",
              "    'longitude': '-3.6752045',\n",
              "    'no_available': 0,\n",
              "    'address': \"Calle O'Donnell n� 28\",\n",
              "    'latitude': '40.4213983',\n",
              "    'dock_bikes': 20,\n",
              "    'id': 65},\n",
              "   {'activate': 1,\n",
              "    'name': \"O'Donnell\",\n",
              "    'reservations_count': 0,\n",
              "    'light': 2,\n",
              "    'total_bases': 24,\n",
              "    'free_bases': 11,\n",
              "    'number': '62',\n",
              "    'longitude': '-3.6724968',\n",
              "    'no_available': 0,\n",
              "    'address': \"Calle O'Donnell n� 50\",\n",
              "    'latitude': '40.4213148',\n",
              "    'dock_bikes': 12,\n",
              "    'id': 66},\n",
              "   {'activate': 1,\n",
              "    'name': 'Ibiza',\n",
              "    'reservations_count': 1,\n",
              "    'light': 0,\n",
              "    'total_bases': 24,\n",
              "    'free_bases': 17,\n",
              "    'number': '63',\n",
              "    'longitude': '-3.6708959',\n",
              "    'no_available': 0,\n",
              "    'address': 'Calle Ibiza n� 62',\n",
              "    'latitude': '40.4179237',\n",
              "    'dock_bikes': 6,\n",
              "    'id': 67},\n",
              "   {'activate': 1,\n",
              "    'name': 'Antonio Maura',\n",
              "    'reservations_count': 0,\n",
              "    'light': 2,\n",
              "    'total_bases': 24,\n",
              "    'free_bases': 8,\n",
              "    'number': '65',\n",
              "    'longitude': '-3.6904525',\n",
              "    'no_available': 0,\n",
              "    'address': 'Calle Antonio Maura n� 15',\n",
              "    'latitude': '40.4165605',\n",
              "    'dock_bikes': 16,\n",
              "    'id': 69},\n",
              "   {'activate': 1,\n",
              "    'name': 'Almad�n',\n",
              "    'reservations_count': 0,\n",
              "    'light': 2,\n",
              "    'total_bases': 24,\n",
              "    'free_bases': 15,\n",
              "    'number': '67',\n",
              "    'longitude': '-3.6932250',\n",
              "    'no_available': 0,\n",
              "    'address': 'Calle Almad�n n� 28',\n",
              "    'latitude': '40.4108472',\n",
              "    'dock_bikes': 8,\n",
              "    'id': 71},\n",
              "   {'activate': 1,\n",
              "    'name': 'Espalter',\n",
              "    'reservations_count': 0,\n",
              "    'light': 2,\n",
              "    'total_bases': 21,\n",
              "    'free_bases': 12,\n",
              "    'number': '68',\n",
              "    'longitude': '-3.6912023',\n",
              "    'no_available': 0,\n",
              "    'address': 'Calle Espalter n� 1',\n",
              "    'latitude': '40.4128372',\n",
              "    'dock_bikes': 6,\n",
              "    'id': 72},\n",
              "   {'activate': 1,\n",
              "    'name': 'Puerta del �ngel Ca�do',\n",
              "    'reservations_count': 0,\n",
              "    'light': 2,\n",
              "    'total_bases': 27,\n",
              "    'free_bases': 10,\n",
              "    'number': '69',\n",
              "    'longitude': '-3.6888220',\n",
              "    'no_available': 0,\n",
              "    'address': 'Avenida de Alfonso XII n� 54',\n",
              "    'latitude': '40.4098080',\n",
              "    'dock_bikes': 17,\n",
              "    'id': 73},\n",
              "   {'activate': 1,\n",
              "    'name': 'Puerta del Doce de Octubre',\n",
              "    'reservations_count': 0,\n",
              "    'light': 2,\n",
              "    'total_bases': 24,\n",
              "    'free_bases': 10,\n",
              "    'number': '70',\n",
              "    'longitude': '-3.6779232',\n",
              "    'no_available': 0,\n",
              "    'address': 'Avenida de Men�ndez Pelayo n� 63',\n",
              "    'latitude': '40.4153053',\n",
              "    'dock_bikes': 13,\n",
              "    'id': 74},\n",
              "   {'activate': 1,\n",
              "    'name': 'Doce de Octubre',\n",
              "    'reservations_count': 0,\n",
              "    'light': 2,\n",
              "    'total_bases': 24,\n",
              "    'free_bases': 13,\n",
              "    'number': '71',\n",
              "    'longitude': '-3.6738865',\n",
              "    'no_available': 0,\n",
              "    'address': 'Calle Doce de Octubre n� 28',\n",
              "    'latitude': '40.4159569',\n",
              "    'dock_bikes': 11,\n",
              "    'id': 75},\n",
              "   {'activate': 1,\n",
              "    'name': 'Sainz de Baranda',\n",
              "    'reservations_count': 0,\n",
              "    'light': 2,\n",
              "    'total_bases': 24,\n",
              "    'free_bases': 13,\n",
              "    'number': '72',\n",
              "    'longitude': '-3.6691838',\n",
              "    'no_available': 0,\n",
              "    'address': 'Calle Doctor Esquerdo n� 99',\n",
              "    'latitude': '40.4157413',\n",
              "    'dock_bikes': 11,\n",
              "    'id': 76},\n",
              "   {'activate': 1,\n",
              "    'name': 'Plaza de los Astros',\n",
              "    'reservations_count': 0,\n",
              "    'light': 1,\n",
              "    'total_bases': 24,\n",
              "    'free_bases': 6,\n",
              "    'number': '73',\n",
              "    'longitude': '-3.6689089',\n",
              "    'no_available': 0,\n",
              "    'address': 'Avenida de Nazaret n� 7',\n",
              "    'latitude': '40.4114475',\n",
              "    'dock_bikes': 15,\n",
              "    'id': 77},\n",
              "   {'activate': 1,\n",
              "    'name': 'Puerta del Pac�fico ',\n",
              "    'reservations_count': 0,\n",
              "    'light': 1,\n",
              "    'total_bases': 24,\n",
              "    'free_bases': 4,\n",
              "    'number': '74',\n",
              "    'longitude': '-3.6766813',\n",
              "    'no_available': 0,\n",
              "    'address': 'Avenida de Men�ndez Pelayo n� 73',\n",
              "    'latitude': '40.4117627',\n",
              "    'dock_bikes': 19,\n",
              "    'id': 78},\n",
              "   {'activate': 1,\n",
              "    'name': 'Men�ndez Pelayo',\n",
              "    'reservations_count': 0,\n",
              "    'light': 2,\n",
              "    'total_bases': 24,\n",
              "    'free_bases': 14,\n",
              "    'number': '75',\n",
              "    'longitude': '-3.6784838',\n",
              "    'no_available': 0,\n",
              "    'address': 'Avenida de Men�ndez Pelayo n� 90',\n",
              "    'latitude': '40.4082805',\n",
              "    'dock_bikes': 10,\n",
              "    'id': 79},\n",
              "   {'activate': 1,\n",
              "    'name': 'Puerta de Mariano de Cavia',\n",
              "    'reservations_count': 0,\n",
              "    'light': 0,\n",
              "    'total_bases': 24,\n",
              "    'free_bases': 20,\n",
              "    'number': '76',\n",
              "    'longitude': '-3.6750121',\n",
              "    'no_available': 0,\n",
              "    'address': 'Avenida del Mediterr�neo n� 19',\n",
              "    'latitude': '40.4076726',\n",
              "    'dock_bikes': 4,\n",
              "    'id': 80},\n",
              "   {'activate': 1,\n",
              "    'name': 'Conde de Casal',\n",
              "    'reservations_count': 0,\n",
              "    'light': 1,\n",
              "    'total_bases': 22,\n",
              "    'free_bases': 5,\n",
              "    'number': '77',\n",
              "    'longitude': '-3.6704220',\n",
              "    'no_available': 0,\n",
              "    'address': 'Plaza del Conde de Casal n� 8',\n",
              "    'latitude': '40.4063500',\n",
              "    'dock_bikes': 17,\n",
              "    'id': 81},\n",
              "   {'activate': 1,\n",
              "    'name': 'Pedro Bosch',\n",
              "    'reservations_count': 0,\n",
              "    'light': 0,\n",
              "    'total_bases': 24,\n",
              "    'free_bases': 21,\n",
              "    'number': '78',\n",
              "    'longitude': '-3.6744804',\n",
              "    'no_available': 0,\n",
              "    'address': 'Calle Cerro de la Plata n� 2',\n",
              "    'latitude': '40.4009101',\n",
              "    'dock_bikes': 0,\n",
              "    'id': 82},\n",
              "   {'activate': 1,\n",
              "    'name': 'Puerta de Granada',\n",
              "    'reservations_count': 0,\n",
              "    'light': 0,\n",
              "    'total_bases': 24,\n",
              "    'free_bases': 18,\n",
              "    'number': '79',\n",
              "    'longitude': '-3.6803874',\n",
              "    'no_available': 0,\n",
              "    'address': 'Avenida de Men�ndez Pelayo n� 38',\n",
              "    'latitude': '40.4051451',\n",
              "    'dock_bikes': 4,\n",
              "    'id': 83},\n",
              "   {'activate': 1,\n",
              "    'name': 'Atocha A',\n",
              "    'reservations_count': 0,\n",
              "    'light': 2,\n",
              "    'total_bases': 24,\n",
              "    'free_bases': 7,\n",
              "    'number': '80a',\n",
              "    'longitude': '-3.6902255',\n",
              "    'no_available': 0,\n",
              "    'address': 'Paseo de la Infanta Isabel n� 3',\n",
              "    'latitude': '40.4075685',\n",
              "    'dock_bikes': 15,\n",
              "    'id': 84},\n",
              "   {'activate': 1,\n",
              "    'name': 'Atocha B',\n",
              "    'reservations_count': 0,\n",
              "    'light': 1,\n",
              "    'total_bases': 27,\n",
              "    'free_bases': 4,\n",
              "    'number': '80b',\n",
              "    'longitude': '-3.6901234',\n",
              "    'no_available': 0,\n",
              "    'address': 'Paseo de la Infanta Isabel n� 3',\n",
              "    'latitude': '40.4074902',\n",
              "    'dock_bikes': 16,\n",
              "    'id': 85},\n",
              "   {'activate': 1,\n",
              "    'name': 'Cuesta de Moyano',\n",
              "    'reservations_count': 0,\n",
              "    'light': 0,\n",
              "    'total_bases': 24,\n",
              "    'free_bases': 16,\n",
              "    'number': '81',\n",
              "    'longitude': '-3.6919870',\n",
              "    'no_available': 0,\n",
              "    'address': 'Plaza del Emperador Carlos V n� 11',\n",
              "    'latitude': '40.4092970',\n",
              "    'dock_bikes': 6,\n",
              "    'id': 86},\n",
              "   {'activate': 1,\n",
              "    'name': 'Ni�o Jes�s',\n",
              "    'reservations_count': 0,\n",
              "    'light': 2,\n",
              "    'total_bases': 24,\n",
              "    'free_bases': 14,\n",
              "    'number': '82',\n",
              "    'longitude': '-3.6697526',\n",
              "    'no_available': 0,\n",
              "    'address': 'Calle Doctor Esquerdo n� 161',\n",
              "    'latitude': '40.4084556',\n",
              "    'dock_bikes': 9,\n",
              "    'id': 87},\n",
              "   {'activate': 1,\n",
              "    'name': 'P�o Baroja',\n",
              "    'reservations_count': 0,\n",
              "    'light': 1,\n",
              "    'total_bases': 24,\n",
              "    'free_bases': 6,\n",
              "    'number': '83',\n",
              "    'longitude': '-3.6751105',\n",
              "    'no_available': 0,\n",
              "    'address': 'Calle P�o Baroja n� 10',\n",
              "    'latitude': '40.4130243',\n",
              "    'dock_bikes': 18,\n",
              "    'id': 88},\n",
              "   {'activate': 1,\n",
              "    'name': 'Valderribas',\n",
              "    'reservations_count': 0,\n",
              "    'light': 0,\n",
              "    'total_bases': 24,\n",
              "    'free_bases': 18,\n",
              "    'number': '84',\n",
              "    'longitude': '-3.6726019',\n",
              "    'no_available': 0,\n",
              "    'address': 'Calle Doctor Esquerdo n� 191',\n",
              "    'latitude': '40.4032501',\n",
              "    'dock_bikes': 5,\n",
              "    'id': 89},\n",
              "   {'activate': 1,\n",
              "    'name': 'Puerta de Madrid',\n",
              "    'reservations_count': 0,\n",
              "    'light': 1,\n",
              "    'total_bases': 27,\n",
              "    'free_bases': 7,\n",
              "    'number': '85',\n",
              "    'longitude': '-3.6800080',\n",
              "    'no_available': 0,\n",
              "    'address': 'Avenida de Men�ndez Pelayo n� 11',\n",
              "    'latitude': '40.4215010',\n",
              "    'dock_bikes': 20,\n",
              "    'id': 90},\n",
              "   {'activate': 1,\n",
              "    'name': 'Cibeles',\n",
              "    'reservations_count': 0,\n",
              "    'light': 2,\n",
              "    'total_bases': 21,\n",
              "    'free_bases': 9,\n",
              "    'number': '86',\n",
              "    'longitude': '-3.6926217',\n",
              "    'no_available': 0,\n",
              "    'address': 'Paseo del Prado n� 1',\n",
              "    'latitude': '40.4186148',\n",
              "    'dock_bikes': 11,\n",
              "    'id': 91},\n",
              "   {'activate': 1,\n",
              "    'name': 'Ayala',\n",
              "    'reservations_count': 0,\n",
              "    'light': 0,\n",
              "    'total_bases': 24,\n",
              "    'free_bases': 16,\n",
              "    'number': '87',\n",
              "    'longitude': '-3.6832566',\n",
              "    'no_available': 0,\n",
              "    'address': 'Calle Ayala n� 44',\n",
              "    'latitude': '40.4277360',\n",
              "    'dock_bikes': 7,\n",
              "    'id': 92},\n",
              "   {'activate': 1,\n",
              "    'name': 'Embajada de Italia',\n",
              "    'reservations_count': 0,\n",
              "    'light': 0,\n",
              "    'total_bases': 24,\n",
              "    'free_bases': 19,\n",
              "    'number': '88',\n",
              "    'longitude': '-3.6838303',\n",
              "    'no_available': 0,\n",
              "    'address': 'Calle Vel�zquez n� 75',\n",
              "    'latitude': '40.4313576',\n",
              "    'dock_bikes': 5,\n",
              "    'id': 93},\n",
              "   {'activate': 1,\n",
              "    'name': 'Conde Pe�alver',\n",
              "    'reservations_count': 0,\n",
              "    'light': 2,\n",
              "    'total_bases': 24,\n",
              "    'free_bases': 10,\n",
              "    'number': '89',\n",
              "    'longitude': '-3.6752024',\n",
              "    'no_available': 0,\n",
              "    'address': 'Calle Ayala n� 102',\n",
              "    'latitude': '40.4272582',\n",
              "    'dock_bikes': 13,\n",
              "    'id': 94},\n",
              "   {'activate': 1,\n",
              "    'name': 'General Pardi�as',\n",
              "    'reservations_count': 0,\n",
              "    'light': 0,\n",
              "    'total_bases': 30,\n",
              "    'free_bases': 23,\n",
              "    'number': '90',\n",
              "    'longitude': '-3.6837876',\n",
              "    'no_available': 0,\n",
              "    'address': 'Calle Goya n� 18',\n",
              "    'latitude': '40.4250361',\n",
              "    'dock_bikes': 6,\n",
              "    'id': 95},\n",
              "   {'activate': 1,\n",
              "    'name': 'Pr�ncipe de Vergara',\n",
              "    'reservations_count': 0,\n",
              "    'light': 2,\n",
              "    'total_bases': 24,\n",
              "    'free_bases': 13,\n",
              "    'number': '91',\n",
              "    'longitude': '-3.6787441',\n",
              "    'no_available': 0,\n",
              "    'address': 'Calle Hermosilla n� 70',\n",
              "    'latitude': '40.4261340',\n",
              "    'dock_bikes': 10,\n",
              "    'id': 96},\n",
              "   {'activate': 1,\n",
              "    'name': 'Claudio Coello',\n",
              "    'reservations_count': 0,\n",
              "    'light': 2,\n",
              "    'total_bases': 24,\n",
              "    'free_bases': 16,\n",
              "    'number': '92',\n",
              "    'longitude': '-3.6865463',\n",
              "    'no_available': 0,\n",
              "    'address': 'Calle Claudio Coello n� 45',\n",
              "    'latitude': '40.4262945',\n",
              "    'dock_bikes': 8,\n",
              "    'id': 97},\n",
              "   {'activate': 1,\n",
              "    'name': 'Plaza de Col�n',\n",
              "    'reservations_count': 0,\n",
              "    'light': 0,\n",
              "    'total_bases': 24,\n",
              "    'free_bases': 23,\n",
              "    'number': '93',\n",
              "    'longitude': '-3.6893698',\n",
              "    'no_available': 0,\n",
              "    'address': 'Calle Goya n� 1',\n",
              "    'latitude': '40.4257046',\n",
              "    'dock_bikes': 0,\n",
              "    'id': 98},\n",
              "   {'activate': 1,\n",
              "    'name': 'Biblioteca Nacional',\n",
              "    'reservations_count': 0,\n",
              "    'light': 0,\n",
              "    'total_bases': 21,\n",
              "    'free_bases': 20,\n",
              "    'number': '94',\n",
              "    'longitude': '-3.6909648',\n",
              "    'no_available': 0,\n",
              "    'address': 'Paseo de Recoletos n� 32-34',\n",
              "    'latitude': '40.4226990',\n",
              "    'dock_bikes': 0,\n",
              "    'id': 99},\n",
              "   {'activate': 1,\n",
              "    'name': 'Villanueva',\n",
              "    'reservations_count': 0,\n",
              "    'light': 0,\n",
              "    'total_bases': 24,\n",
              "    'free_bases': 17,\n",
              "    'number': '95',\n",
              "    'longitude': '-3.6870548',\n",
              "    'no_available': 0,\n",
              "    'address': 'Calle Claudio Coello n� 109',\n",
              "    'latitude': '40.4226584',\n",
              "    'dock_bikes': 7,\n",
              "    'id': 100},\n",
              "   {'activate': 1,\n",
              "    'name': 'Castell�',\n",
              "    'reservations_count': 0,\n",
              "    'light': 2,\n",
              "    'total_bases': 27,\n",
              "    'free_bases': 14,\n",
              "    'number': '96',\n",
              "    'longitude': '-3.6821793',\n",
              "    'no_available': 0,\n",
              "    'address': 'Calle Alcal� n� 111',\n",
              "    'latitude': '40.4220640',\n",
              "    'dock_bikes': 12,\n",
              "    'id': 101},\n",
              "   {'activate': 1,\n",
              "    'name': 'Alcal�',\n",
              "    'reservations_count': 0,\n",
              "    'light': 0,\n",
              "    'total_bases': 27,\n",
              "    'free_bases': 18,\n",
              "    'number': '97',\n",
              "    'longitude': '-3.6801307',\n",
              "    'no_available': 0,\n",
              "    'address': 'Avenida de Men�ndez Pelayo n� 3',\n",
              "    'latitude': '40.4226906',\n",
              "    'dock_bikes': 8,\n",
              "    'id': 102},\n",
              "   {'activate': 1,\n",
              "    'name': 'Plaza de Felipe II',\n",
              "    'reservations_count': 0,\n",
              "    'light': 2,\n",
              "    'total_bases': 24,\n",
              "    'free_bases': 13,\n",
              "    'number': '98',\n",
              "    'longitude': '-3.6753567',\n",
              "    'no_available': 0,\n",
              "    'address': 'Plaza de Felipe II',\n",
              "    'latitude': '40.4242625',\n",
              "    'dock_bikes': 10,\n",
              "    'id': 103},\n",
              "   {'activate': 1,\n",
              "    'name': 'Alc�ntara',\n",
              "    'reservations_count': 0,\n",
              "    'light': 2,\n",
              "    'total_bases': 24,\n",
              "    'free_bases': 8,\n",
              "    'number': '99',\n",
              "    'longitude': '-3.6738714',\n",
              "    'no_available': 0,\n",
              "    'address': 'Calle Alc�ntara n� 2',\n",
              "    'latitude': '40.4261851',\n",
              "    'dock_bikes': 16,\n",
              "    'id': 104},\n",
              "   {'activate': 1,\n",
              "    'name': 'Palacio de Deportes',\n",
              "    'reservations_count': 0,\n",
              "    'light': 0,\n",
              "    'total_bases': 24,\n",
              "    'free_bases': 17,\n",
              "    'number': '100',\n",
              "    'longitude': '-3.6738635',\n",
              "    'no_available': 0,\n",
              "    'address': 'Calle Goya n� 99',\n",
              "    'latitude': '40.4248457',\n",
              "    'dock_bikes': 6,\n",
              "    'id': 105},\n",
              "   {'activate': 1,\n",
              "    'name': 'Jorge Juan',\n",
              "    'reservations_count': 0,\n",
              "    'light': 2,\n",
              "    'total_bases': 24,\n",
              "    'free_bases': 10,\n",
              "    'number': '101',\n",
              "    'longitude': '-3.6691523',\n",
              "    'no_available': 0,\n",
              "    'address': 'Calle Jorge Juan n� 131',\n",
              "    'latitude': '40.4231526',\n",
              "    'dock_bikes': 14,\n",
              "    'id': 106},\n",
              "   {'activate': 1,\n",
              "    'name': 'Vel�zquez',\n",
              "    'reservations_count': 0,\n",
              "    'light': 2,\n",
              "    'total_bases': 24,\n",
              "    'free_bases': 15,\n",
              "    'number': '102',\n",
              "    'longitude': '-3.6840229',\n",
              "    'no_available': 0,\n",
              "    'address': 'Calle Alcal� n� 95',\n",
              "    'latitude': '40.4211802',\n",
              "    'dock_bikes': 9,\n",
              "    'id': 107},\n",
              "   {'activate': 1,\n",
              "    'name': 'Ortega y Gasset',\n",
              "    'reservations_count': 0,\n",
              "    'light': 2,\n",
              "    'total_bases': 24,\n",
              "    'free_bases': 10,\n",
              "    'number': '103',\n",
              "    'longitude': '-3.6865654',\n",
              "    'no_available': 0,\n",
              "    'address': 'Calle Ortega y Gasset n� 6',\n",
              "    'latitude': '40.4303057',\n",
              "    'dock_bikes': 14,\n",
              "    'id': 108},\n",
              "   {'activate': 1,\n",
              "    'name': 'Castellana',\n",
              "    'reservations_count': 0,\n",
              "    'light': 2,\n",
              "    'total_bases': 21,\n",
              "    'free_bases': 13,\n",
              "    'number': '104',\n",
              "    'longitude': '-3.6895336',\n",
              "    'no_available': 0,\n",
              "    'address': 'Paseo de la Castellana n� 4',\n",
              "    'latitude': '40.4268331',\n",
              "    'dock_bikes': 8,\n",
              "    'id': 109},\n",
              "   {'activate': 1,\n",
              "    'name': 'Serrano',\n",
              "    'reservations_count': 0,\n",
              "    'light': 0,\n",
              "    'total_bases': 24,\n",
              "    'free_bases': 19,\n",
              "    'number': '105',\n",
              "    'longitude': '-3.6873922',\n",
              "    'no_available': 0,\n",
              "    'address': 'Calle Serrano n� 54',\n",
              "    'latitude': '40.4267905',\n",
              "    'dock_bikes': 5,\n",
              "    'id': 110},\n",
              "   {'activate': 1,\n",
              "    'name': 'Col�n A',\n",
              "    'reservations_count': 0,\n",
              "    'light': 0,\n",
              "    'total_bases': 18,\n",
              "    'free_bases': 16,\n",
              "    'number': '106a',\n",
              "    'longitude': '-3.6877227',\n",
              "    'no_available': 0,\n",
              "    'address': 'Calle Serrano n� 34',\n",
              "    'latitude': '40.4251002',\n",
              "    'dock_bikes': 2,\n",
              "    'id': 111},\n",
              "   {'activate': 1,\n",
              "    'name': 'Col�n B',\n",
              "    'reservations_count': 0,\n",
              "    'light': 0,\n",
              "    'total_bases': 18,\n",
              "    'free_bases': 17,\n",
              "    'number': '106b',\n",
              "    'longitude': '-3.6877450',\n",
              "    'no_available': 0,\n",
              "    'address': 'Calle Serrano n� 34',\n",
              "    'latitude': '40.4249630',\n",
              "    'dock_bikes': 1,\n",
              "    'id': 112},\n",
              "   {'activate': 1,\n",
              "    'name': 'Columela',\n",
              "    'reservations_count': 0,\n",
              "    'light': 0,\n",
              "    'total_bases': 24,\n",
              "    'free_bases': 22,\n",
              "    'number': '107',\n",
              "    'longitude': '-3.6884369',\n",
              "    'no_available': 0,\n",
              "    'address': 'Calle Serrano n� 6',\n",
              "    'latitude': '40.4215246',\n",
              "    'dock_bikes': 1,\n",
              "    'id': 113},\n",
              "   {'activate': 1,\n",
              "    'name': 'M�rtires Concepcionistas',\n",
              "    'reservations_count': 0,\n",
              "    'light': 1,\n",
              "    'total_bases': 27,\n",
              "    'free_bases': 3,\n",
              "    'number': '108',\n",
              "    'longitude': '-3.6706024',\n",
              "    'no_available': 0,\n",
              "    'address': 'Calle M�rtires Concepcionistas n� 2',\n",
              "    'latitude': '40.4273005',\n",
              "    'dock_bikes': 22,\n",
              "    'id': 114},\n",
              "   {'activate': 1,\n",
              "    'name': 'Marqu�s de Salamanca',\n",
              "    'reservations_count': 0,\n",
              "    'light': 2,\n",
              "    'total_bases': 24,\n",
              "    'free_bases': 13,\n",
              "    'number': '109',\n",
              "    'longitude': '-3.6816402',\n",
              "    'no_available': 0,\n",
              "    'address': 'Calle Jos� Ortega y Gasset n� 30',\n",
              "    'latitude': '40.4300481',\n",
              "    'dock_bikes': 9,\n",
              "    'id': 115},\n",
              "   {'activate': 1,\n",
              "    'name': 'Moncloa',\n",
              "    'reservations_count': 0,\n",
              "    'light': 1,\n",
              "    'total_bases': 24,\n",
              "    'free_bases': 1,\n",
              "    'number': '110',\n",
              "    'longitude': '-3.7206893',\n",
              "    'no_available': 0,\n",
              "    'address': 'Paseo de Moret n� 2',\n",
              "    'latitude': '40.4344969',\n",
              "    'dock_bikes': 23,\n",
              "    'id': 116},\n",
              "   {'activate': 1,\n",
              "    'name': 'Arcipreste de Hita A',\n",
              "    'reservations_count': 0,\n",
              "    'light': 1,\n",
              "    'total_bases': 24,\n",
              "    'free_bases': 5,\n",
              "    'number': '111a',\n",
              "    'longitude': '-3.7175435',\n",
              "    'no_available': 0,\n",
              "    'address': 'Calle Arcipreste de Hita n� 12',\n",
              "    'latitude': '40.4337322',\n",
              "    'dock_bikes': 19,\n",
              "    'id': 117},\n",
              "   {'activate': 1,\n",
              "    'name': 'Arcipreste de Hita B',\n",
              "    'reservations_count': 0,\n",
              "    'light': 1,\n",
              "    'total_bases': 24,\n",
              "    'free_bases': 1,\n",
              "    'number': '111b',\n",
              "    'longitude': '-3.7175115',\n",
              "    'no_available': 0,\n",
              "    'address': 'Calle Arcipreste de Hita n� 12',\n",
              "    'latitude': '40.4337036',\n",
              "    'dock_bikes': 22,\n",
              "    'id': 118},\n",
              "   {'activate': 1,\n",
              "    'name': 'Paseo de Moret',\n",
              "    'reservations_count': 0,\n",
              "    'light': 2,\n",
              "    'total_bases': 24,\n",
              "    'free_bases': 7,\n",
              "    'number': '112',\n",
              "    'longitude': '-3.7246532',\n",
              "    'no_available': 0,\n",
              "    'address': 'Paseo de Moret n� 11',\n",
              "    'latitude': '40.4325991',\n",
              "    'dock_bikes': 16,\n",
              "    'id': 119},\n",
              "   {'activate': 1,\n",
              "    'name': 'Pintor Rosales',\n",
              "    'reservations_count': 0,\n",
              "    'light': 2,\n",
              "    'total_bases': 24,\n",
              "    'free_bases': 7,\n",
              "    'number': '113',\n",
              "    'longitude': '-3.7205129',\n",
              "    'no_available': 0,\n",
              "    'address': 'Paseo del Pintor Rosales n� 38',\n",
              "    'latitude': '40.4276570',\n",
              "    'dock_bikes': 16,\n",
              "    'id': 120},\n",
              "   {'activate': 1,\n",
              "    'name': 'Quintana',\n",
              "    'reservations_count': 0,\n",
              "    'light': 0,\n",
              "    'total_bases': 24,\n",
              "    'free_bases': 18,\n",
              "    'number': '114',\n",
              "    'longitude': '-3.7174158',\n",
              "    'no_available': 0,\n",
              "    'address': 'Calle Quintana n� 11-13',\n",
              "    'latitude': '40.4277456',\n",
              "    'dock_bikes': 6,\n",
              "    'id': 121},\n",
              "   {'activate': 1,\n",
              "    'name': 'Ferraz',\n",
              "    'reservations_count': 0,\n",
              "    'light': 2,\n",
              "    'total_bases': 24,\n",
              "    'free_bases': 9,\n",
              "    'number': '115',\n",
              "    'longitude': '-3.7170448',\n",
              "    'no_available': 0,\n",
              "    'address': 'Calle Evaristo San Miguel n� 2',\n",
              "    'latitude': '40.4253944',\n",
              "    'dock_bikes': 15,\n",
              "    'id': 122},\n",
              "   {'activate': 1,\n",
              "    'name': 'Plaza de Espa�a A',\n",
              "    'reservations_count': 0,\n",
              "    'light': 2,\n",
              "    'total_bases': 24,\n",
              "    'free_bases': 15,\n",
              "    'number': '116a',\n",
              "    'longitude': '-3.7116030',\n",
              "    'no_available': 0,\n",
              "    'address': 'Plaza de Espa�a',\n",
              "    'latitude': '40.4240200',\n",
              "    'dock_bikes': 9,\n",
              "    'id': 123},\n",
              "   {'activate': 1,\n",
              "    'name': 'Plaza de Espa�a B',\n",
              "    'reservations_count': 0,\n",
              "    'light': 2,\n",
              "    'total_bases': 24,\n",
              "    'free_bases': 14,\n",
              "    'number': '116b',\n",
              "    'longitude': '-3.7117030',\n",
              "    'no_available': 0,\n",
              "    'address': 'Plaza de Espa�a',\n",
              "    'latitude': '40.4241200',\n",
              "    'dock_bikes': 9,\n",
              "    'id': 124},\n",
              "   {'activate': 1,\n",
              "    'name': 'Altamirano',\n",
              "    'reservations_count': 1,\n",
              "    'light': 2,\n",
              "    'total_bases': 24,\n",
              "    'free_bases': 13,\n",
              "    'number': '117',\n",
              "    'longitude': '-3.7188898',\n",
              "    'no_available': 0,\n",
              "    'address': 'Calle Altamirano n� 24',\n",
              "    'latitude': '40.4309797',\n",
              "    'dock_bikes': 9,\n",
              "    'id': 125},\n",
              "   {'activate': 1,\n",
              "    'name': 'Juan Mart�n',\n",
              "    'reservations_count': 0,\n",
              "    'light': 2,\n",
              "    'total_bases': 24,\n",
              "    'free_bases': 8,\n",
              "    'number': '118',\n",
              "    'longitude': '-3.6882407',\n",
              "    'no_available': 0,\n",
              "    'address': 'Calle Juan Mart�n el Empecinado n� 14',\n",
              "    'latitude': '40.4007810',\n",
              "    'dock_bikes': 14,\n",
              "    'id': 126},\n",
              "   {'activate': 1,\n",
              "    'name': 'M�ndez �lvaro',\n",
              "    'reservations_count': 0,\n",
              "    'light': 2,\n",
              "    'total_bases': 24,\n",
              "    'free_bases': 9,\n",
              "    'number': '119',\n",
              "    'longitude': '-3.6863218',\n",
              "    'no_available': 0,\n",
              "    'address': 'Calle M�ndez �lvaro n� 11',\n",
              "    'latitude': '40.4013216',\n",
              "    'dock_bikes': 14,\n",
              "    'id': 127},\n",
              "   {'activate': 1,\n",
              "    'name': 'Palos de la Frontera',\n",
              "    'reservations_count': 1,\n",
              "    'light': 2,\n",
              "    'total_bases': 24,\n",
              "    'free_bases': 14,\n",
              "    'number': '120',\n",
              "    'longitude': '-3.6944768',\n",
              "    'no_available': 0,\n",
              "    'address': 'Calle Palos de la Frontera n� 40',\n",
              "    'latitude': '40.4032208',\n",
              "    'dock_bikes': 9,\n",
              "    'id': 128},\n",
              "   {'activate': 1,\n",
              "    'name': 'Santa Mar�a de la Cabeza',\n",
              "    'reservations_count': 0,\n",
              "    'light': 1,\n",
              "    'total_bases': 24,\n",
              "    'free_bases': 1,\n",
              "    'number': '121',\n",
              "    'longitude': '-3.6987665',\n",
              "    'no_available': 0,\n",
              "    'address': 'Paseo de Santa Mar�a de la Cabeza n� 58',\n",
              "    'latitude': '40.4017926',\n",
              "    'dock_bikes': 22,\n",
              "    'id': 129},\n",
              "   {'activate': 1,\n",
              "    'name': 'Santa Engracia 14',\n",
              "    'reservations_count': 0,\n",
              "    'light': 2,\n",
              "    'total_bases': 24,\n",
              "    'free_bases': 11,\n",
              "    'number': '122',\n",
              "    'longitude': '-3.6963983',\n",
              "    'no_available': 0,\n",
              "    'address': 'Calle Santa Engracia n� 14',\n",
              "    'latitude': '40.4295863',\n",
              "    'dock_bikes': 13,\n",
              "    'id': 130},\n",
              "   {'activate': 1,\n",
              "    'name': 'Guzm�n el Bueno',\n",
              "    'reservations_count': 0,\n",
              "    'light': 2,\n",
              "    'total_bases': 24,\n",
              "    'free_bases': 14,\n",
              "    'number': '123',\n",
              "    'longitude': '-3.7133412',\n",
              "    'no_available': 0,\n",
              "    'address': 'Calle Guzm�n el Bueno n� 2',\n",
              "    'latitude': '40.4306458',\n",
              "    'dock_bikes': 9,\n",
              "    'id': 131},\n",
              "   {'activate': 1,\n",
              "    'name': 'Manuel Silvela',\n",
              "    'reservations_count': 0,\n",
              "    'light': 0,\n",
              "    'total_bases': 24,\n",
              "    'free_bases': 15,\n",
              "    'number': '124',\n",
              "    'longitude': '-3.6993465',\n",
              "    'no_available': 0,\n",
              "    'address': 'Calle Manuel Silvela n� 20',\n",
              "    'latitude': '40.4309524',\n",
              "    'dock_bikes': 5,\n",
              "    'id': 169},\n",
              "   {'activate': 1,\n",
              "    'name': 'General Mart�nez Campos ',\n",
              "    'reservations_count': 0,\n",
              "    'light': 2,\n",
              "    'total_bases': 24,\n",
              "    'free_bases': 15,\n",
              "    'number': '125',\n",
              "    'longitude': '-3.6948626',\n",
              "    'no_available': 0,\n",
              "    'address': 'Calle Fern�ndez de la Hoz n� 29',\n",
              "    'latitude': '40.4352850',\n",
              "    'dock_bikes': 9,\n",
              "    'id': 164},\n",
              "   {'activate': 1,\n",
              "    'name': 'General �lvarez de Castro',\n",
              "    'reservations_count': 0,\n",
              "    'light': 0,\n",
              "    'total_bases': 24,\n",
              "    'free_bases': 20,\n",
              "    'number': '126',\n",
              "    'longitude': '-3.7015686',\n",
              "    'no_available': 0,\n",
              "    'address': 'Calle del General �lvarez de Castro n� 2',\n",
              "    'latitude': '40.4344731',\n",
              "    'dock_bikes': 2,\n",
              "    'id': 163},\n",
              "   {'activate': 1,\n",
              "    'name': 'Fernando el Cat�lico',\n",
              "    'reservations_count': 0,\n",
              "    'light': 2,\n",
              "    'total_bases': 24,\n",
              "    'free_bases': 14,\n",
              "    'number': '127',\n",
              "    'longitude': '-3.7084390',\n",
              "    'no_available': 0,\n",
              "    'address': 'Calle Fernando el Cat�lico n� 19',\n",
              "    'latitude': '40.4338516',\n",
              "    'dock_bikes': 9,\n",
              "    'id': 168},\n",
              "   {'activate': 1,\n",
              "    'name': 'Cea Berm�dez',\n",
              "    'reservations_count': 0,\n",
              "    'light': 1,\n",
              "    'total_bases': 27,\n",
              "    'free_bases': 3,\n",
              "    'number': '128',\n",
              "    'longitude': '-3.7154329',\n",
              "    'no_available': 0,\n",
              "    'address': 'Calle Cea Berm�dez n� 59',\n",
              "    'latitude': '40.4389940',\n",
              "    'dock_bikes': 23,\n",
              "    'id': 160},\n",
              "   {'activate': 1,\n",
              "    'name': 'Jos� Abascal',\n",
              "    'reservations_count': 0,\n",
              "    'light': 1,\n",
              "    'total_bases': 24,\n",
              "    'free_bases': 2,\n",
              "    'number': '129',\n",
              "    'longitude': '-3.6982209',\n",
              "    'no_available': 0,\n",
              "    'address': 'Calle Jos� Abascal n� 33',\n",
              "    'latitude': '40.4385316',\n",
              "    'dock_bikes': 21,\n",
              "    'id': 161},\n",
              "   {'activate': 1,\n",
              "    'name': 'Santa Engracia 127',\n",
              "    'reservations_count': 0,\n",
              "    'light': 1,\n",
              "    'total_bases': 20,\n",
              "    'free_bases': 5,\n",
              "    'number': '130',\n",
              "    'longitude': '-3.7016321',\n",
              "    'no_available': 0,\n",
              "    'address': 'Calle Santa Engracia n� 127',\n",
              "    'latitude': '40.4413860',\n",
              "    'dock_bikes': 15,\n",
              "    'id': 157},\n",
              "   {'activate': 1,\n",
              "    'name': 'Bravo Murillo 44',\n",
              "    'reservations_count': 0,\n",
              "    'light': 2,\n",
              "    'total_bases': 24,\n",
              "    'free_bases': 16,\n",
              "    'number': '131',\n",
              "    'longitude': '-3.7039582',\n",
              "    'no_available': 0,\n",
              "    'address': 'Calle Bravo Murillo n� 44',\n",
              "    'latitude': '40.4412115',\n",
              "    'dock_bikes': 8,\n",
              "    'id': 156},\n",
              "   {'activate': 1,\n",
              "    'name': 'Glorieta de los Cuatro Caminos',\n",
              "    'reservations_count': 0,\n",
              "    'light': 0,\n",
              "    'total_bases': 24,\n",
              "    'free_bases': 18,\n",
              "    'number': '132',\n",
              "    'longitude': '-3.7036675',\n",
              "    'no_available': 0,\n",
              "    'address': 'Calle Santa Engracia n� 168',\n",
              "    'latitude': '40.4463667',\n",
              "    'dock_bikes': 6,\n",
              "    'id': 149},\n",
              "   {'activate': 1,\n",
              "    'name': 'Raimundo Fern�ndez',\n",
              "    'reservations_count': 0,\n",
              "    'light': 2,\n",
              "    'total_bases': 24,\n",
              "    'free_bases': 7,\n",
              "    'number': '133',\n",
              "    'longitude': '-3.7001669',\n",
              "    'no_available': 0,\n",
              "    'address': 'Calle Raimundo Fern�ndez Villaverde n� 33-35',\n",
              "    'latitude': '40.4471250',\n",
              "    'dock_bikes': 12,\n",
              "    'id': 150},\n",
              "   {'activate': 1,\n",
              "    'name': 'Agust�n de Betancourt',\n",
              "    'reservations_count': 0,\n",
              "    'light': 1,\n",
              "    'total_bases': 24,\n",
              "    'free_bases': 3,\n",
              "    'number': '134',\n",
              "    'longitude': '-3.6956047',\n",
              "    'no_available': 0,\n",
              "    'address': 'Calle Mar�a de Guzm�n n� 58',\n",
              "    'latitude': '40.4440297',\n",
              "    'dock_bikes': 21,\n",
              "    'id': 153},\n",
              "   {'activate': 1,\n",
              "    'name': 'Plaza de San Juan de la Cruz',\n",
              "    'reservations_count': 0,\n",
              "    'light': 1,\n",
              "    'total_bases': 24,\n",
              "    'free_bases': 5,\n",
              "    'number': '135',\n",
              "    'longitude': '-3.6927821',\n",
              "    'no_available': 0,\n",
              "    'address': 'Plaza de San Juan de la Cruz n� 11',\n",
              "    'latitude': '40.4415974',\n",
              "    'dock_bikes': 18,\n",
              "    'id': 158},\n",
              "   {'activate': 1,\n",
              "    'name': 'Castellana 106',\n",
              "    'reservations_count': 0,\n",
              "    'light': 1,\n",
              "    'total_bases': 24,\n",
              "    'free_bases': 6,\n",
              "    'number': '136',\n",
              "    'longitude': '-3.6908610',\n",
              "    'no_available': 0,\n",
              "    'address': 'Paseo de la Castellana n� 106',\n",
              "    'latitude': '40.4453307',\n",
              "    'dock_bikes': 17,\n",
              "    'id': 151},\n",
              "   {'activate': 1,\n",
              "    'name': 'Plaza de la Rep�blica Argentina',\n",
              "    'reservations_count': 0,\n",
              "    'light': 0,\n",
              "    'total_bases': 24,\n",
              "    'free_bases': 15,\n",
              "    'number': '137',\n",
              "    'longitude': '-3.6853312',\n",
              "    'no_available': 0,\n",
              "    'address': 'Plaza de la Rep�blica Argentina n� 6-7',\n",
              "    'latitude': '40.4454110',\n",
              "    'dock_bikes': 6,\n",
              "    'id': 152},\n",
              "   {'activate': 1,\n",
              "    'name': 'Paseo de la Castellana con Raimundo Fern�ndez',\n",
              "    'reservations_count': 0,\n",
              "    'light': 2,\n",
              "    'total_bases': 24,\n",
              "    'free_bases': 11,\n",
              "    'number': '138',\n",
              "    'longitude': '-3.6917932',\n",
              "    'no_available': 0,\n",
              "    'address': 'Paseo de la Castellana n� 67',\n",
              "    'latitude': '40.4457414',\n",
              "    'dock_bikes': 13,\n",
              "    'id': 154},\n",
              "   {'activate': 1,\n",
              "    'name': 'Jos� Guti�rrez Abascal ',\n",
              "    'reservations_count': 0,\n",
              "    'light': 2,\n",
              "    'total_bases': 24,\n",
              "    'free_bases': 12,\n",
              "    'number': '139',\n",
              "    'longitude': '-3.6907784',\n",
              "    'no_available': 0,\n",
              "    'address': 'Calle Jos� Guti�rrez Abascal n� 2',\n",
              "    'latitude': '40.4396792',\n",
              "    'dock_bikes': 12,\n",
              "    'id': 159},\n",
              "   {'activate': 1,\n",
              "    'name': 'Vel�zquez 130',\n",
              "    'reservations_count': 0,\n",
              "    'light': 2,\n",
              "    'total_bases': 24,\n",
              "    'free_bases': 14,\n",
              "    'number': '140',\n",
              "    'longitude': '-3.6828620',\n",
              "    'no_available': 0,\n",
              "    'address': 'Calle Vel�zquez n� 130',\n",
              "    'latitude': '40.4379444',\n",
              "    'dock_bikes': 8,\n",
              "    'id': 162},\n",
              "   {'activate': 1,\n",
              "    'name': 'P� Castellana - Glorieta de Emilio Castelar',\n",
              "    'reservations_count': 0,\n",
              "    'light': 0,\n",
              "    'total_bases': 12,\n",
              "    'free_bases': 11,\n",
              "    'number': '141',\n",
              "    'longitude': '-3.6892368',\n",
              "    'no_available': 0,\n",
              "    'address': 'Paseo de la Castellana n� 43',\n",
              "    'latitude': '40.4355143',\n",
              "    'dock_bikes': 1,\n",
              "    'id': 165},\n",
              "   {'activate': 1,\n",
              "    'name': 'Castellana 42',\n",
              "    'reservations_count': 0,\n",
              "    'light': 0,\n",
              "    'total_bases': 24,\n",
              "    'free_bases': 21,\n",
              "    'number': '142',\n",
              "    'longitude': '-3.6879154',\n",
              "    'no_available': 0,\n",
              "    'address': 'Paseo de la Castellana n� 42',\n",
              "    'latitude': '40.4334087',\n",
              "    'dock_bikes': 3,\n",
              "    'id': 167},\n",
              "   {'activate': 1,\n",
              "    'name': 'Diego de Le�n 52',\n",
              "    'reservations_count': 0,\n",
              "    'light': 2,\n",
              "    'total_bases': 24,\n",
              "    'free_bases': 14,\n",
              "    'number': '143',\n",
              "    'longitude': '-3.6784920',\n",
              "    'no_available': 0,\n",
              "    'address': 'Calle Diego de Le�n n� 52',\n",
              "    'latitude': '40.4345973',\n",
              "    'dock_bikes': 10,\n",
              "    'id': 166},\n",
              "   {'activate': 1,\n",
              "    'name': 'Juan Bravo 50',\n",
              "    'reservations_count': 0,\n",
              "    'light': 2,\n",
              "    'total_bases': 24,\n",
              "    'free_bases': 16,\n",
              "    'number': '144',\n",
              "    'longitude': '-3.6758555',\n",
              "    'no_available': 0,\n",
              "    'address': 'Calle Juan Bravo n� 50',\n",
              "    'latitude': '40.4323655',\n",
              "    'dock_bikes': 8,\n",
              "    'id': 170},\n",
              "   {'activate': 1,\n",
              "    'name': 'Ortega y Gasset 87',\n",
              "    'reservations_count': 0,\n",
              "    'light': 1,\n",
              "    'total_bases': 24,\n",
              "    'free_bases': 2,\n",
              "    'number': '145',\n",
              "    'longitude': '-3.6712823',\n",
              "    'no_available': 0,\n",
              "    'address': 'Calle Ortega y Gasset n� 87',\n",
              "    'latitude': '40.4298870',\n",
              "    'dock_bikes': 21,\n",
              "    'id': 171},\n",
              "   {'activate': 1,\n",
              "    'name': 'Mar�a Francisca 1',\n",
              "    'reservations_count': 0,\n",
              "    'light': 2,\n",
              "    'total_bases': 18,\n",
              "    'free_bases': 6,\n",
              "    'number': '146',\n",
              "    'longitude': '-3.6787169',\n",
              "    'no_available': 0,\n",
              "    'address': 'Calle Mar�a Francisca n� 1',\n",
              "    'latitude': '40.4442258',\n",
              "    'dock_bikes': 12,\n",
              "    'id': 155},\n",
              "   {'activate': 1,\n",
              "    'name': 'Doctor Arce 45',\n",
              "    'reservations_count': 0,\n",
              "    'light': 2,\n",
              "    'total_bases': 24,\n",
              "    'free_bases': 9,\n",
              "    'number': '147',\n",
              "    'longitude': '-3.6797296',\n",
              "    'no_available': 0,\n",
              "    'address': 'Avenida del Doctor Arce n� 45',\n",
              "    'latitude': '40.4483269',\n",
              "    'dock_bikes': 14,\n",
              "    'id': 148},\n",
              "   {'activate': 1,\n",
              "    'name': 'Serrano 210',\n",
              "    'reservations_count': 0,\n",
              "    'light': 0,\n",
              "    'total_bases': 24,\n",
              "    'free_bases': 24,\n",
              "    'number': '148',\n",
              "    'longitude': '-3.6817962',\n",
              "    'no_available': 0,\n",
              "    'address': 'Calle Serrano n� 210',\n",
              "    'latitude': '40.4510188',\n",
              "    'dock_bikes': 0,\n",
              "    'id': 144},\n",
              "   {'activate': 1,\n",
              "    'name': 'Paseo de la Habana 42',\n",
              "    'reservations_count': 0,\n",
              "    'light': 2,\n",
              "    'total_bases': 24,\n",
              "    'free_bases': 13,\n",
              "    'number': '149',\n",
              "    'longitude': '-3.6881689',\n",
              "    'no_available': 0,\n",
              "    'address': 'Paseo de la Habana n� 42',\n",
              "    'latitude': '40.4498613',\n",
              "    'dock_bikes': 10,\n",
              "    'id': 146},\n",
              "   {'activate': 1,\n",
              "    'name': 'Castellana frente a Hermanos Pinz�n',\n",
              "    'reservations_count': 0,\n",
              "    'light': 2,\n",
              "    'total_bases': 24,\n",
              "    'free_bases': 11,\n",
              "    'number': '150',\n",
              "    'longitude': '-3.6905604',\n",
              "    'no_available': 0,\n",
              "    'address': 'Paseo de la Castellana n� 124',\n",
              "    'latitude': '40.4488924',\n",
              "    'dock_bikes': 13,\n",
              "    'id': 147},\n",
              "   {'activate': 1,\n",
              "    'name': 'Orense 12',\n",
              "    'reservations_count': 0,\n",
              "    'light': 2,\n",
              "    'total_bases': 24,\n",
              "    'free_bases': 13,\n",
              "    'number': '151',\n",
              "    'longitude': '-3.6952860',\n",
              "    'no_available': 0,\n",
              "    'address': 'Calle Orense n� 12',\n",
              "    'latitude': '40.4480662',\n",
              "    'dock_bikes': 11,\n",
              "    'id': 145},\n",
              "   {'activate': 1,\n",
              "    'name': 'General Per�n 1',\n",
              "    'reservations_count': 0,\n",
              "    'light': 2,\n",
              "    'total_bases': 24,\n",
              "    'free_bases': 10,\n",
              "    'number': '152',\n",
              "    'longitude': '-3.6990077',\n",
              "    'no_available': 0,\n",
              "    'address': 'Avenida del General Per�n n� 1-4',\n",
              "    'latitude': '40.4527164',\n",
              "    'dock_bikes': 14,\n",
              "    'id': 142},\n",
              "   {'activate': 1,\n",
              "    'name': 'General Per�n con Poeta Joan Maragall',\n",
              "    'reservations_count': 0,\n",
              "    'light': 1,\n",
              "    'total_bases': 24,\n",
              "    'free_bases': 5,\n",
              "    'number': '153',\n",
              "    'longitude': '-3.6926510',\n",
              "    'no_available': 0,\n",
              "    'address': 'Avenida del General Per�n n� 36',\n",
              "    'latitude': '40.4522938',\n",
              "    'dock_bikes': 19,\n",
              "    'id': 143},\n",
              "   {'activate': 1,\n",
              "    'name': 'Orense 36',\n",
              "    'reservations_count': 0,\n",
              "    'light': 1,\n",
              "    'total_bases': 24,\n",
              "    'free_bases': 0,\n",
              "    'number': '154',\n",
              "    'longitude': '-3.6946218',\n",
              "    'no_available': 0,\n",
              "    'address': 'Calle Orense n� 36',\n",
              "    'latitude': '40.4548456',\n",
              "    'dock_bikes': 23,\n",
              "    'id': 141},\n",
              "   {'activate': 1,\n",
              "    'name': 'San Germ�n',\n",
              "    'reservations_count': 0,\n",
              "    'light': 1,\n",
              "    'total_bases': 24,\n",
              "    'free_bases': 7,\n",
              "    'number': '155',\n",
              "    'longitude': '-3.7009675',\n",
              "    'no_available': 0,\n",
              "    'address': 'Calle del General Yag�e n� 57',\n",
              "    'latitude': '40.4572824',\n",
              "    'dock_bikes': 16,\n",
              "    'id': 139},\n",
              "   {'activate': 1,\n",
              "    'name': 'Sor �ngela de la Cruz',\n",
              "    'reservations_count': 0,\n",
              "    'light': 2,\n",
              "    'total_bases': 24,\n",
              "    'free_bases': 8,\n",
              "    'number': '156',\n",
              "    'longitude': '-3.6915330',\n",
              "    'no_available': 0,\n",
              "    'address': 'Calle Sor �ngela de la Cruz n� 2',\n",
              "    'latitude': '40.4592351',\n",
              "    'dock_bikes': 13,\n",
              "    'id': 140},\n",
              "   {'activate': 1,\n",
              "    'name': 'Castellana 164',\n",
              "    'reservations_count': 0,\n",
              "    'light': 1,\n",
              "    'total_bases': 24,\n",
              "    'free_bases': 5,\n",
              "    'number': '157',\n",
              "    'longitude': '-3.6894151',\n",
              "    'no_available': 0,\n",
              "    'address': 'Paseo de la Castellana n� 164',\n",
              "    'latitude': '40.4591366',\n",
              "    'dock_bikes': 19,\n",
              "    'id': 137},\n",
              "   {'activate': 1,\n",
              "    'name': 'Alberto Alcocer',\n",
              "    'reservations_count': 1,\n",
              "    'light': 1,\n",
              "    'total_bases': 24,\n",
              "    'free_bases': 6,\n",
              "    'number': '158',\n",
              "    'longitude': '-3.6847150',\n",
              "    'no_available': 0,\n",
              "    'address': 'Avenida de Alberto Alcocer n� 22',\n",
              "    'latitude': '40.4585318',\n",
              "    'dock_bikes': 16,\n",
              "    'id': 138},\n",
              "   {'activate': 1,\n",
              "    'name': 'Paseo de la Habana 63',\n",
              "    'reservations_count': 0,\n",
              "    'light': 1,\n",
              "    'total_bases': 24,\n",
              "    'free_bases': 6,\n",
              "    'number': '159',\n",
              "    'longitude': '-3.6835926',\n",
              "    'no_available': 0,\n",
              "    'address': 'Paseo de la Habana n� 63',\n",
              "    'latitude': '40.4543852',\n",
              "    'dock_bikes': 18,\n",
              "    'id': 173},\n",
              "   {'activate': 1,\n",
              "    'name': 'Colombia',\n",
              "    'reservations_count': 0,\n",
              "    'light': 1,\n",
              "    'total_bases': 24,\n",
              "    'free_bases': 3,\n",
              "    'number': '160',\n",
              "    'longitude': '-3.6763439',\n",
              "    'no_available': 0,\n",
              "    'address': 'Calle Colombia n� 7',\n",
              "    'latitude': '40.4572466',\n",
              "    'dock_bikes': 20,\n",
              "    'id': 172},\n",
              "   {'activate': 1,\n",
              "    'name': 'Paseo de la Florida',\n",
              "    'reservations_count': 0,\n",
              "    'light': 1,\n",
              "    'total_bases': 27,\n",
              "    'free_bases': 7,\n",
              "    'number': '161',\n",
              "    'longitude': '-3.7218482',\n",
              "    'no_available': 0,\n",
              "    'address': 'Paseo de la Florida n� 8',\n",
              "    'latitude': '40.4220812',\n",
              "    'dock_bikes': 18,\n",
              "    'id': 132},\n",
              "   {'activate': 1,\n",
              "    'name': 'Metro Pir�mides',\n",
              "    'reservations_count': 0,\n",
              "    'light': 2,\n",
              "    'total_bases': 24,\n",
              "    'free_bases': 10,\n",
              "    'number': '162',\n",
              "    'longitude': '-3.7108108',\n",
              "    'no_available': 0,\n",
              "    'address': 'Paseo de los Olmos n� 28',\n",
              "    'latitude': '40.4034076',\n",
              "    'dock_bikes': 14,\n",
              "    'id': 133},\n",
              "   {'activate': 1,\n",
              "    'name': 'Paseo de la Esperanza',\n",
              "    'reservations_count': 0,\n",
              "    'light': 2,\n",
              "    'total_bases': 21,\n",
              "    'free_bases': 9,\n",
              "    'number': '163',\n",
              "    'longitude': '-3.7064516',\n",
              "    'no_available': 0,\n",
              "    'address': 'Paseo de la Esperanza n� 2',\n",
              "    'latitude': '40.4035988',\n",
              "    'dock_bikes': 12,\n",
              "    'id': 134},\n",
              "   {'activate': 1,\n",
              "    'name': 'Paseo de las Delicias',\n",
              "    'reservations_count': 0,\n",
              "    'light': 2,\n",
              "    'total_bases': 24,\n",
              "    'free_bases': 8,\n",
              "    'number': '164',\n",
              "    'longitude': '-3.6945025',\n",
              "    'no_available': 0,\n",
              "    'address': 'Paseo de las Delicias n� 92-94',\n",
              "    'latitude': '40.3972616',\n",
              "    'dock_bikes': 16,\n",
              "    'id': 136},\n",
              "   {'activate': 1,\n",
              "    'name': 'Entrada Matadero',\n",
              "    'reservations_count': 0,\n",
              "    'light': 1,\n",
              "    'total_bases': 27,\n",
              "    'free_bases': 4,\n",
              "    'number': '165',\n",
              "    'longitude': '-3.6971829',\n",
              "    'no_available': 0,\n",
              "    'address': 'Paseo de la Chopera n� 14',\n",
              "    'latitude': '40.3919385',\n",
              "    'dock_bikes': 23,\n",
              "    'id': 135},\n",
              "   {'activate': 1,\n",
              "    'name': 'Segovia 26',\n",
              "    'reservations_count': 0,\n",
              "    'light': 2,\n",
              "    'total_bases': 24,\n",
              "    'free_bases': 9,\n",
              "    'number': '166',\n",
              "    'longitude': '-3.7135833',\n",
              "    'no_available': 0,\n",
              "    'address': 'Calle Segovia, 26',\n",
              "    'latitude': '40.4138333',\n",
              "    'dock_bikes': 15,\n",
              "    'id': 174},\n",
              "   {'activate': 1,\n",
              "    'name': 'Segovia 45',\n",
              "    'reservations_count': 0,\n",
              "    'light': 1,\n",
              "    'total_bases': 24,\n",
              "    'free_bases': 2,\n",
              "    'number': '167',\n",
              "    'longitude': '-3.717487',\n",
              "    'no_available': 0,\n",
              "    'address': 'Calle Segovia, 45',\n",
              "    'latitude': '40.413736',\n",
              "    'dock_bikes': 22,\n",
              "    'id': 175}]}]"
            ]
          },
          "metadata": {},
          "execution_count": 95
        }
      ]
    },
    {
      "cell_type": "code",
      "source": [
        "rdd_usages[\"201901\"].take(5)"
      ],
      "metadata": {
        "colab": {
          "base_uri": "https://localhost:8080/"
        },
        "id": "Q-ZDXO6XoigN",
        "outputId": "9910080c-938b-46f5-f0da-a0bbc4b48994"
      },
      "execution_count": null,
      "outputs": [
        {
          "output_type": "execute_result",
          "data": {
            "text/plain": [
              "[(1,\n",
              "  'b3b5b61509ab89afbf4d1e589d229bebe6637c2de819f5d612762c939b8d7f1f',\n",
              "  82,\n",
              "  83,\n",
              "  162,\n",
              "  '2019-01-01',\n",
              "  '00:00:00',\n",
              "  0),\n",
              " (1,\n",
              "  'a18550d468153bb8e1808d4f0a85955579951832772996de08a154d7b4b11ee0',\n",
              "  133,\n",
              "  36,\n",
              "  415,\n",
              "  '2019-01-01',\n",
              "  '00:00:00',\n",
              "  5),\n",
              " (1,\n",
              "  '905737396c2fe343c84d62eaee3ab66e19632638c5bea772b1e82a9d68f6a8b0',\n",
              "  25,\n",
              "  90,\n",
              "  545,\n",
              "  '2019-01-01',\n",
              "  '00:00:00',\n",
              "  0),\n",
              " (1,\n",
              "  '5922b4a1a2591161ebf1ad66f42f52cc7796f3754c2c76c52313a01c5e4dbd96',\n",
              "  105,\n",
              "  155,\n",
              "  417,\n",
              "  '2019-01-01',\n",
              "  '00:00:00',\n",
              "  3),\n",
              " (1,\n",
              "  'ed1c1a22c120e7d42cc522c33ab41db549791f3914b273a1f3926d62f6b9203a',\n",
              "  51,\n",
              "  44,\n",
              "  448,\n",
              "  '2019-01-01',\n",
              "  '00:00:00',\n",
              "  4)]"
            ]
          },
          "metadata": {},
          "execution_count": 42
        }
      ]
    },
    {
      "cell_type": "markdown",
      "source": [
        "# Usuarios por tipos"
      ],
      "metadata": {
        "id": "qD8t4QfGy82D"
      }
    },
    {
      "cell_type": "markdown",
      "source": [
        "##Problema1\n",
        "Analizamos los tipos de usuarios. \n",
        "Queremos saber que tipo de usuarios utilizan más Bicimad. Para ello analizamos la cantidad de usuarios de cada tipo. Utilizamos varios meses de 2019, para poder comprobar si es algo casual o no."
      ],
      "metadata": {
        "id": "_MpDPz-kHt5o"
      }
    },
    {
      "cell_type": "code",
      "source": [
        "rdd_usages[\"201901\"].countByKey()"
      ],
      "metadata": {
        "colab": {
          "base_uri": "https://localhost:8080/"
        },
        "id": "B6ocxvMSyg__",
        "outputId": "96bf99c3-dac9-440d-c384-9347ce2ad065"
      },
      "execution_count": null,
      "outputs": [
        {
          "output_type": "execute_result",
          "data": {
            "text/plain": [
              "defaultdict(int, {1: 253661, 2: 1967, 3: 21746, 0: 1849})"
            ]
          },
          "metadata": {},
          "execution_count": 44
        }
      ]
    },
    {
      "cell_type": "code",
      "source": [
        "rdd_usages[\"201902\"].countByKey()"
      ],
      "metadata": {
        "colab": {
          "base_uri": "https://localhost:8080/"
        },
        "id": "qvmXKrUyHsTz",
        "outputId": "ea7e43fa-943b-48c3-9109-be836c1898cd"
      },
      "execution_count": null,
      "outputs": [
        {
          "output_type": "execute_result",
          "data": {
            "text/plain": [
              "defaultdict(int, {3: 21734, 1: 278366, 2: 3862})"
            ]
          },
          "metadata": {},
          "execution_count": 14
        }
      ]
    },
    {
      "cell_type": "code",
      "source": [
        "rdd_usages[\"201906\"].countByKey()"
      ],
      "metadata": {
        "colab": {
          "base_uri": "https://localhost:8080/"
        },
        "id": "AFaPuxfYJSxP",
        "outputId": "7931e6f7-28ca-443e-8d68-6e438c4b0788"
      },
      "execution_count": null,
      "outputs": [
        {
          "output_type": "execute_result",
          "data": {
            "text/plain": [
              "defaultdict(int, {1: 418759, 2: 5738, 3: 26314})"
            ]
          },
          "metadata": {},
          "execution_count": 15
        }
      ]
    },
    {
      "cell_type": "markdown",
      "source": [
        "###Conclusiones\n",
        "Podemos ver como en todos los meses la mayor parte de los usuarios son del tipo 1.\n",
        "Los números nos indican: \n",
        "0: No se ha podido determinar el tipo de usuario\n",
        "1: Usuario anual (poseedor de un pase anual)\n",
        "2: Usuario ocasional\n",
        "3: Trabajador de la empresa\n",
        "Por tanto podemos concluir que la mayor parte de los usuarios de Bicimad entre Enero de 2019 y Junio de 2019 son usuarios anuales. "
      ],
      "metadata": {
        "id": "haOP9MzazULK"
      }
    },
    {
      "cell_type": "markdown",
      "source": [
        "##Estudio de los usuarios tipo 1\n",
        "Una vez henmos concluido cuales son los usuarios habuituales de Bicimad, vamos a estudiar unicamente estos."
      ],
      "metadata": {
        "id": "Gfedyrv1KdlF"
      }
    },
    {
      "cell_type": "code",
      "source": [
        "selected_type = 1\n",
        "rdd_users = rdd_usages[\"201901\"].filter(lambda x: x[0]==selected_type).map(lambda x: (x[1],tuple(x[2:])))"
      ],
      "metadata": {
        "id": "0JnIJpQr0aEW"
      },
      "execution_count": 18,
      "outputs": []
    },
    {
      "cell_type": "code",
      "source": [
        "rdd_users.count()"
      ],
      "metadata": {
        "colab": {
          "base_uri": "https://localhost:8080/"
        },
        "id": "c7ZKZ_Kp06Rd",
        "outputId": "67e90cab-1b71-4015-8888-e4fac093f414"
      },
      "execution_count": null,
      "outputs": [
        {
          "output_type": "execute_result",
          "data": {
            "text/plain": [
              "253661"
            ]
          },
          "metadata": {},
          "execution_count": 48
        }
      ]
    },
    {
      "cell_type": "code",
      "source": [
        "rdd_users.countByKey()"
      ],
      "metadata": {
        "colab": {
          "base_uri": "https://localhost:8080/"
        },
        "id": "Cb9VgvO-6dZG",
        "outputId": "14d35e1a-bf98-4748-b8fa-0f38c1d09f09"
      },
      "execution_count": null,
      "outputs": [
        {
          "output_type": "execute_result",
          "data": {
            "text/plain": [
              "defaultdict(int,\n",
              "            {'b3b5b61509ab89afbf4d1e589d229bebe6637c2de819f5d612762c939b8d7f1f': 1,\n",
              "             'a18550d468153bb8e1808d4f0a85955579951832772996de08a154d7b4b11ee0': 1,\n",
              "             '905737396c2fe343c84d62eaee3ab66e19632638c5bea772b1e82a9d68f6a8b0': 1,\n",
              "             '5922b4a1a2591161ebf1ad66f42f52cc7796f3754c2c76c52313a01c5e4dbd96': 1,\n",
              "             'ed1c1a22c120e7d42cc522c33ab41db549791f3914b273a1f3926d62f6b9203a': 1,\n",
              "             'c7d4e8f50d4a318e4f9fb08d4b715dc9015be1f415358b7c1afc5567399d7fe3': 1,\n",
              "             '3c9e487b04b4b25e0f885a93daa0cdf4b0072835280e52d9edf52327ea647362': 1,\n",
              "             'b70eb1a71e53c6351b4835f618a459886e2045a44635e489589dc6d20a501ea6': 1,\n",
              "             '1ad9b018315170d824bb396889046eaeff8ce0a0be46b3054331594ff04ce07c': 1,\n",
              "             'f429ea17c7b9f0fbff82dc4ee2ea1306794b873ec4540704db0d9f99b6c0046d': 1,\n",
              "             '295ac2a11ec7c646dd330331a1e344a0ba3309456031741b358b8d19fbae9356': 1,\n",
              "             '1c77fcb20cd4db492d10fa16b4930882aec4ffc09f3a540e67a436cd8c015bfd': 1,\n",
              "             'bcead2454cec79f11d02ea6f5c5540a4e68a0c2142a8103c4f4eeca1ff5ee34d': 1,\n",
              "             'aa4275d4a7ef4a0b7fd1fff2eec15dda5774781fdeea6b9b262caa8af132c429': 1,\n",
              "             '6c08be550025c3ae6b343618407d945de2d7df991206d023fdd2507f3fa78839': 1,\n",
              "             'f7f2cc6a3233058cb216b9464afdee6243abc17dab1d70f515fccb8971af71f7': 1,\n",
              "             'f544660aef55e1ed8e1d7ed13629cc3f6228f3985d91f88c6b44f271a3f0f456': 1,\n",
              "             '30b8977028dbc815d7863eb3037ef210cfd34c1c5b8d73806631a880fe639f07': 1,\n",
              "             '3ccf7f2f3439f8348e18779d3c24fb4155d2276e69defff48baa8f36b3ca8b7b': 1,\n",
              "             'c0c28561f757759a933520ac9b8dedd9a4c4d1f1e79d0b9e00c415004d234193': 1,\n",
              "             '7834e6abdd85d67037744e1af7ae1225712e536e21d006f32e69255018f871ca': 1,\n",
              "             '00e22c0f7c67af3b9449b60eff2bf5f30bb0e7f7d3c54d4e0c37c8f010412a3b': 1,\n",
              "             '416058dc1da80099b76c8c2255c34e2dcb860a5b611ea78604ee004639fec12e': 1,\n",
              "             '8915d1921889c15d2e8ca100e773de53cd50e1f23f92743420d74cf2fbe37a47': 1,\n",
              "             '333b4a5272918ac2fa476dd005238976cb1620ee5f91220cd6985f266607f5d7': 1,\n",
              "             '4b01c2bc9ba8f64d5684cde8e0214781efcff39b750299b013e4c52700f12245': 1,\n",
              "             'f0ab0d86a7f0dcbacf9363865c115a9900eb9ce2ac8fd76b2953c2c645e9ca41': 1,\n",
              "             'd0cefea93441496f451952c05e64fdb1a7533cccb6ca4db01eca62ffba43d8a1': 1,\n",
              "             '8c26104742da257b1011f739983ec28dd4475ec1e797ebee5ab965c1becfcb97': 1,\n",
              "             '8ebc043cd775d3fc2922e5bed733e5bbe96c746b3cebc11cbcd5454c3f389e7e': 1,\n",
              "             '1e3e2700176a20daf402def5b086e260560775a99cf8fcd847bd6bea3489bbab': 1,\n",
              "             'd4ac048056d2e260bcf6e98eb874c469348234b9852e9f713f7f6bc3824d318c': 1,\n",
              "             '51d2a71f6117a4a154788fbb1f38b4c3998c52977caddac3225709f90882ce21': 1,\n",
              "             '438a525a9251f58cd8ef8a2f68936dfde19a04fca8df296a29be555b9d880947': 1,\n",
              "             '6b811e8a1d5d4cda7c219250d7e26b9da8ccfc6c2df68517625d072c2450b1de': 1,\n",
              "             'd999f64bdb6810ea848ffd18183237229480f81b69ad3b2ca73c9873e5e4c964': 1,\n",
              "             '71fa5cfacaf4b37a3743e879462652f4b55c0d5e93f3be3dad3b915fdda547d6': 1,\n",
              "             '1f46fcaa042a1e4a05d7207355989be221c021d69f2bd8d7c805171215e1cbca': 1,\n",
              "             'c9dfe0d697e3f41857ac884ef5f828f893df9cc5c21a5f6de524b274ff32e263': 1,\n",
              "             '38bb51ecdd2eb21a7b7f91bd493718054f82869d1bf57752970ba922240e9709': 2,\n",
              "             'e04d284e7592abb6c5de7a1a71cd44ac1847bbfec48dd04cef9fb25b59195274': 1,\n",
              "             '2e3a3638e7050b7fc6e348f8771942ab59e294ae51779cc6c819b3391fcb23ae': 1,\n",
              "             'f015a4dc45eee89d64571e4874e4b834135a70293943e55d87907b181df9c141': 1,\n",
              "             '39a1013a65aab4ce008389eaf7e42c7425e1f278c956a26768dd76a7b121f1a4': 1,\n",
              "             '59fa8083b3c85bca00b5df72ab48af483df677f438c570fdc758fe075887c911': 1,\n",
              "             '6b9f3e4166594f1c32772284c3e5c4e1d16a60b3c293c2d8524ebd64ad51691b': 1,\n",
              "             'f0a0a747cda1dc009796b98423e36b510c875e41cbf6805801004678fe54637b': 1,\n",
              "             '3cf65bea9cc27948fc633a044a834aec0f64619cf937fb2c30b7db321eb09c1b': 1,\n",
              "             'fbd38983ec33bb020a3473e40dc4652a26436e28c01c30c4e1a1836c43d4f1df': 1,\n",
              "             '4672dddd7ce0029ccb448369624866a865657ccdf9e5e27f60b85c341e23f342': 1,\n",
              "             '204c4a3f26c3a112801950a9690dff5e0acfbb06227ac9e754238f78d4bdb80b': 1,\n",
              "             '9b5f1bf2c6c7061b92eb52cb8344fc140443f64ccd72ba9ec74823d002efba13': 1,\n",
              "             '3e0465326d86a9746a04b8eaf1b59bcbc09a27f3e54af8ab88fa84f9534427ee': 1,\n",
              "             'dded95cec5012632bca9e0c2f32877ca283ba282493eaa914a1d520bf95b3029': 1,\n",
              "             '753707fac1ec9cd779a93c8b6a256a1babab54e90c48c5a8d73ba9b1b6c43c61': 1,\n",
              "             '32d5b47698ebde710a9d3ee3ed0c41a0a38b14e2065c5607d632a4b86a071688': 1,\n",
              "             'ebf130f77375b4d2aff6e59f3c6c143896dc73a3c12f4668ec575055e9300e7c': 1,\n",
              "             '93d186fba3553ee37ba34f0474fc1362ba0f2dd072336e85972cfa4f39ab37d6': 1,\n",
              "             '06ca98830b38ef2c4783730edc28b34ed5345352810ef195a90de01f4db0d9cb': 1,\n",
              "             'c5f698723c1d725dd9883a63511514a8b02050417e87eaf195e1fa93f2121884': 1,\n",
              "             '4aef92f5d374b9a6e6cc1f5028e3af246ec997c8a49ffa4b97b1972e0654e4e0': 1,\n",
              "             'ec650780f7f16e912f677fa474118754aeed625d4c22e7a41313e5b429254aea': 1,\n",
              "             'a5d46fe1505c97678d411b017eee9293c15a92f96deb55ec4b89baf61eba9944': 1,\n",
              "             'dec0815bdfad0e53a31881051486b79598159dca27f9a7ac29e3710cdf00da59': 1,\n",
              "             '8d21eaa939d5ccb1c1f3da5b50528dff0cebdffa656917ad5b1f91db79f1ee28': 1,\n",
              "             '0adfbb4fcda85bffe7dd6cea86802df414c801bc25cbc19e2624c099c46b8118': 1,\n",
              "             '7d40288b9afccdafd9c5b34d936878766271b7894205149969cbd4b17d4dca22': 1,\n",
              "             'ed8d535918bd5fc6c530f378beb454a7916ef21dcee45f43be97976b6cebd47a': 1,\n",
              "             'c85a2d4a5178f56aa7f53d5dfeba1bf13f9daf0027425eb49cc7f01b0bd88d8f': 1,\n",
              "             '9a32b7247059dfcfca6371ea4eb76e4e97e3129ffcafa201380ba1afd94d0c24': 1,\n",
              "             'ab73070b6065161c9dd55aa9a2627f8e5f4351149887553bc12def718543abda': 1,\n",
              "             '919489b86e3257f31a7910185f69b82ccbd1c7ca0aeeba6b50618798af9fe0cb': 1,\n",
              "             'bea4a66afc8f83804429ed54167a011e778eefff91a998ae413443320a88f88d': 1,\n",
              "             '96bb7bd5fa6ccb1251a6899ee4eaf4f00f4dec711107d63162bbdcd3ead1f757': 1,\n",
              "             '3b5377bf4aab2aa6d9769e0791b971a860c8e57f1213ee5b99d742902d3d3eea': 1,\n",
              "             'a68101b27ce481a4d5fbf28810bfa9799f91594e44001504f89f0d423a77d7d3': 1,\n",
              "             'a3b469eb1359c4232d5c667344e00e77e9f39820c7312725151ec936ac8969db': 1,\n",
              "             '0c10f4f463c23504ff57b685395b1492baa8bd2db0a8e636658f78cdcc0a0f01': 1,\n",
              "             'f495d424529f09433ede83ad70f6eee63ee2c81da53ce8111331c0a8674db541': 1,\n",
              "             'f5297ddc3d8beea32b3c06ed11fa89ba44fd9bf4896e2e9cb26943d251dca05e': 1,\n",
              "             'f96358ae931da144f3d7defe9aeb9a8a52bf44884d5b92a4416867d9127ec2ff': 1,\n",
              "             'e3953c182203f019127f47efd68a9de074a02f019cadcb44ae6feb058d73e31d': 1,\n",
              "             '2ed0bf9ad569cd74668d229bf765492c2119b63dcd4e5094e4480102a06ed3bf': 1,\n",
              "             'cc08a17d65de23298bdd862705e845655b77112451c6e452ccb583ef9b52efe3': 1,\n",
              "             '3290b845b3871c7449630fc02a32e85a7f81ec7ec4fcc79a77db6dab03cedb21': 1,\n",
              "             '1893523f9d2615ed9c6f008db8098df7c8b130a23b869d65dacb0cd6a06c18d6': 1,\n",
              "             '974811fe27a8e015e2c3434432fb0e5cf47383fdc6a65a860c21dd767c280940': 1,\n",
              "             'b19deec5090902b54c6c2b67a9ca4d30d41eb5a39ca28b4e695a935d560b081a': 1,\n",
              "             '07f99d5914a6dda2674bd5692a5646e21f96c0dc30238ac7c8b5933fc4848899': 1,\n",
              "             'd54b04d3be4a5aa349db4b64dfb73a09f4933847fd50b4de52aa0f6c8d89cb9f': 1,\n",
              "             'bf4ccc83ac07536dc2fa97e6b3ad43c999e2be9b4c8c689d5510d68e3cfdb9e2': 1,\n",
              "             '1bac9a74fb984275ddf4bf32a99c53cc79ecf92af8c0e337d67c7e8ff0139601': 1,\n",
              "             '161ffcdbb87d8ca1cba5fc9168d0173ec5c527108c946c748e552a428734e2cc': 1,\n",
              "             '05c35cef9fd91b03e6b8f38140a51cce4c4b9415e6f89bf23ea747cb884bcc11': 1,\n",
              "             'e719967e38adcdefa23cd5b473ba3cbbd3fc1de1dcb1b4557ec58165a0ebb93a': 1,\n",
              "             'e1233d0762faeb6a1ef73bf4be24c38391d20c687e4dc8c9c67dc029fc4cbd89': 1,\n",
              "             'b9899e8962600d2b5f3b82c65bfcace20f7de9a9663d6be5ceafe5d61b4d99ab': 1,\n",
              "             '655b57cc45187bb2fabd84f3fd9f2aa8d2bb8e0ddcde63a21a8d788a52b541c9': 1,\n",
              "             'ad60666a2ccfdb057537a7029ea73042ca26defd9654252c04464a8a08e73a48': 1,\n",
              "             '534d9003e5adbe592e89adcb93ef45e584b1da2a28695b1b028a7a5f9dd93d9f': 1,\n",
              "             '5201e15dc743ef61493756f444f6bb526ad37c2f00a5e088c2b1297b3b8d8b57': 1,\n",
              "             '6361e8e09a6b13fbe97a1eb882c6a7e04a00490906c27556283820b45a78e57b': 1,\n",
              "             'f4b681ae41e9110c397933db7ba98e503c8716bf1ab7beca89c00ca85911c19d': 1,\n",
              "             '258bafda4a98ac47bab7f21207ea30b8bfbc9e1574fead396ca68ac70e6710ee': 1,\n",
              "             'dd433c0e22cdd6fe7ffa3173da7e7967bbac445f05a2f8328602c0ae5dcfe185': 1,\n",
              "             '1ae64145219ce4e33c2f45adbd38f6d2c6ae5724fac48569e2e831f37204301f': 1,\n",
              "             'f2c0691dd6ac5dc081e04100ccac155a8c6c5d2b953e0c301b7fa83700167a14': 1,\n",
              "             'c38a2caa87c0ea34d42b9d4d8d1823726ed671105f329ea2a81b28a0e5ec575e': 1,\n",
              "             '337d0a01f61958fd99619da3170546aeb5ce16adb1c113c399ffcdc866f51dce': 1,\n",
              "             '02f55ac057459d2b2119a981a1b51c4c1510db50072037d8e93423ad8dd683c8': 1,\n",
              "             '37fb9b7c6da2b1003f1ea52b52d6f471f878345c82d04a775f6c0fec29de3681': 1,\n",
              "             '3f09cc9af22f6f74f45c40af3b09f99975c5104811c01b3517aa9fe63db7a567': 1,\n",
              "             '09f51665da5332ecb4b010a9848ba796102d226676e3f8999a295c7ab9779dcd': 2,\n",
              "             '8c733bbfaff1cff42c3bf5d60f98159ccc514e6fcc0338b5ba6dfce974b8a39e': 1,\n",
              "             'b0a5fa081a0cc837a7271e83a6ae90a3f973802489075dc5d75beb3a12246b29': 3,\n",
              "             'e803c8d95160b6a328ef497ef33322937c6b9f2a2df1e3f45ccf6e2529265085': 5,\n",
              "             '70507c6ec85fe568275f5dc3add3c1874184e43d97777aa3d2944d22974a2799': 1,\n",
              "             '55be688fce6436f8ed365165d43854ea7be97b96a9b01d148e940c56ac08d7ed': 2,\n",
              "             '234ea9e74c5eb222405ae89dae6c5d7d756f670375f81ae93a076c62a97da25f': 3,\n",
              "             'f2f9b0955b36ce04c6900eaffd22aa30ab29b8f69aa4443e9b6003d9b207d321': 1,\n",
              "             '11879426fc20673368f5703ccee2dbfd8df4e1d236612d7a7b4800170cef4672': 1,\n",
              "             'eab75aeb7797940f9eb6ae5b83ad9b21bca9d94c90e2b749b6a39cb0995cb43b': 1,\n",
              "             '02878cd4f34537eca95ff6fe0d27af019861f655f361e9fb116616bb282b9193': 1,\n",
              "             '52a84655ec04980e7f102d48a9dd1d6ecc55906f890b8ec5a3f2707cd1e02b91': 2,\n",
              "             '27f0dad56cc81bda1bc5787a13c82d5440f2db40b343db5fb86299abe98ffb98': 2,\n",
              "             'd1a9e00f00148170445aec0ba606195e7f531192fbf54ace67e3b92c849ed36d': 1,\n",
              "             'd238ad8d0cf97faf62955820bb66c3ac292589e69280b0ac1784b16ef170cc4d': 1,\n",
              "             'b9aeede740e8c89c1b2d6388506b666dc9ff10a3d42d579b34266c82ba9475ac': 3,\n",
              "             '50c32b6ba0269aa50162eabb64c3e33b036d40d8209d9dacba323df916973e98': 2,\n",
              "             '78460aea5171d992695ef0e2174956ee9a43b817cdfd8a0cc39077856dbb75c5': 2,\n",
              "             '59222fad4ffd01b46c79bcb453f193f96d507e6b01a187217a18274066a04c02': 1,\n",
              "             '65331c7f5a8f17cded3e56e13d3f77805fb0186aa2436ee0d54b0aac1f1d7b0f': 1,\n",
              "             '859799f0e342343b789052d45a79c74e80e85ea75d86bea4c889e8612c5b87e3': 4,\n",
              "             '3c3b6732a0b384c78791d3d86dfb44f1141ec5075f4ed6f38d445b74bbd86bf5': 2,\n",
              "             '19fa8f9ecf04d15cb20b367ef8d76fe9b642dbaf08e555ac0e1ff97a294ecf77': 1,\n",
              "             'f2244b38257a8b9bfb66796bd9b803bad9cf0e795618acac0e93f1ab25bf89ff': 3,\n",
              "             'a5e84a7130b301870fb356433a69b049b5772eb98aada52b3be42f9c0b5afe0c': 1,\n",
              "             '9529fbfd69541ca38a942aaa034976a57199ab1473b38377367d2d42fd90dcaf': 1,\n",
              "             'fd48527b4005645bd9aeb3031222bf0c3d65f6267e63434a75eb8cfa37932938': 1,\n",
              "             '0c4031c5e9f1e68d7f1a929c6642e284e3ef155e3524f7cd87f6ce655b75a0b6': 3,\n",
              "             'f05beb6096ec6aeff3e73f2cf4c3ef93e121b2c35183b706b7310ca0414f281e': 2,\n",
              "             'a886abb9724e201db2181d5374a72754e4fb1608ee0ae931292687cf822cc191': 1,\n",
              "             'c7b40e2069e96c33934d669c14e6b82a845a6428a5af125492b1a721fcd9216e': 2,\n",
              "             'c594eafe99ce7cd9b106ab8e4a3f6b3d42cccb7d4c642d667082afa0cbaa5dd0': 2,\n",
              "             'b41524c53d4f521ea8b2276ba160edef323fbcf5fe645eda4072aaa704ebdc72': 1,\n",
              "             '5212352adc7c8ff536022378a23e90757a851ac6e9756b8035814abaa636e69e': 1,\n",
              "             'eec21f76d05511245dc5dca12e0324baafd25cc976c074ed4a7d2c68a7a58010': 1,\n",
              "             'f9ade8b44ecb13b9303896835ad43cda3c272363217f1793b33621f7a97e110c': 1,\n",
              "             '408472abbcb2ef3d54b7301e2f58e4ce436f64ee1d6ff171c56305731f445bde': 3,\n",
              "             '842f6d67aab8f95354b33f30100b80ab0e21f35dc6b2ad34979ffb776193436c': 3,\n",
              "             '9e46451254ac490c62bae32b42fde5cb75be68ba66a7aa8abd4f74285c6eab84': 2,\n",
              "             '44b8a4191ac77ffd14d6074dc2302d47ed54f86dfc6e4cecb118907689443415': 1,\n",
              "             '58ba8b1ada60486c0ce079ade7fd291da026d029db3526885b1c58e2456b53a2': 3,\n",
              "             'd88e3ffc3ab6d1e4230773a570878b20779baebac4c42ea90960a23142a3eefa': 1,\n",
              "             '907a14a4039409b6a55324b3a6cd987cc916dd9db9004f2e2555b8203239cd26': 2,\n",
              "             '855cdbf6e5c53833c5d41e08296fd9ae23c6aaf03b96d038b75f1ca891e7c3ed': 1,\n",
              "             '84cc6d3ce745907baf2db4069d85ac5eee8fc608dee73a775efbf4315ff77fc9': 1,\n",
              "             'ee37a709aa43fe9ed3283231f350c6003e218fbdb8e639d4026e6c6237f74349': 1,\n",
              "             '263ad31ad0a47282d14e08a52ba35e71191d9891dea40821052214321ab9fdc6': 1,\n",
              "             '914f9b4461807d303d107fb7b98cc36ae13b68832d3149aeb0df207e85a80553': 1,\n",
              "             '4c69904abcac36d5794d95f3cab98fa9ac14c0351ccc5a54176ebd5ac3509cbf': 2,\n",
              "             'd96df56ce3e581edccefc952a990e676612bf1a9df5e322340faa4be3f2871b7': 1,\n",
              "             'a6168bcc31286f8eb5228bc8e5cd3a34eb690f4ed24bccae7e6f98edbbc91c3e': 3,\n",
              "             '6522ab12fc08515ec868406fd004e159c5996381fb55aefc1375375b411e2a60': 1,\n",
              "             'a985a9c1060233924c92ee1c39d74e07c75a00e0c238054cb8e742eb7cc79885': 1,\n",
              "             'e74d1356ab346ed6daf09705aa22577c4d73a665c6b8fb4c93b1f8b86882159e': 1,\n",
              "             '7e2c9e2900682111af50a0cb5ddaf1b2e4b4cdbdddf82b59a613e27effb84123': 2,\n",
              "             '3a23d5f752018f783666f18ce4d4f6f1c8c403283c720e68dc989febed2cd106': 2,\n",
              "             '2db18c679c83b4d4d8a1e396289513453bc7a25f2077e424ba81ea03f459e8af': 4,\n",
              "             'ed299327498201ba27b3af77fda2b717378a53e52a2b970cd4aa08c4325f014e': 1,\n",
              "             '06518d15c01766b17dfcec2459f81a3e3fdc7418b532fbfc7e04ea63dd5fd1b9': 1,\n",
              "             '972f40d08047d789a930209c2a3c6194de1f7f26dd61259df9ecaebe3349c7a1': 2,\n",
              "             '19b185c5dd95c1ef7f807c94d159e980d1eb31c53f2093c33d1d7dcd54c4a7d1': 2,\n",
              "             'fe756342a725f4da86ba8d978d4966b9531eed524d9f81b83c7c695ef8450c0c': 3,\n",
              "             '1d74fda4421c05489c88fbb7b0b318de35b14754dfeb587778db628ecb49875e': 2,\n",
              "             'e45a6e7536f3e3a2a6823db88373114d20988e34c7187774efc3f509e9f13154': 1,\n",
              "             'ec0229f8670f3c5ddbdcd26edaf9d46ce9b6a46161124041272e83ebcb6ed520': 1,\n",
              "             '3a7c525d3f89e1c5683298dd1d7b5f2924c6b52c8c7ce81c4349ef6f11b68230': 4,\n",
              "             '1356d624f8a8e0371b907e6acfb10257749384479c38984c059b85e2eca46e0c': 2,\n",
              "             'f3b93f6c936400b495255c4bcaf5369a36c0fcc3b6cffa2c73e638f92e90252e': 2,\n",
              "             'e65751b1846c3067f39e34520bb8cc1dcd487b68068ffc7572c7a25fb6f31622': 1,\n",
              "             'bcf69de3dcb068eac38b06fbf5e8075deac6c490a087d30b40207cebb9a5c14e': 2,\n",
              "             'a3d653a94927d1e9985244ab3c961ff1c99575bff4f184f752fd3a5631fdd9b5': 1,\n",
              "             '376e0eed9490f51e211a06051079f90d750026ba950add2f1143f77887db3d1f': 4,\n",
              "             'd4890068422609df087622b69ebc883e1d7de49f6071b233cb3e35f118b8c6a0': 2,\n",
              "             '15a076978b3d61ff9eb4e920e694b2a847fb37af4c085f4536376fa3c9c2ce34': 1,\n",
              "             'c192abb66698e57c0c5ee30751e6ee46e1b1e42068bfe7ba0e2992b13a365a1d': 1,\n",
              "             '43c0c98ecb31b9a84119e659dee84c51eec5b84c9f18b94a591adadbf5091a97': 3,\n",
              "             'd9dd3b0529feda8bf20124cbe52df8c0f241c51b98aa85bcf52f79c98291034a': 3,\n",
              "             '19a768c5dcd3676e62063c7a943638ec3ae3641295dc518ecbd2fc9b06176a69': 1,\n",
              "             '3f27a7ec8cf40994ef93bc9c930ff1be52eda1504e7d2c4cebebc24220740d9b': 1,\n",
              "             '0fa8d8178e5b3c4969c53f29d6481d6549f5fe0ca27868a6829c79acda37401a': 3,\n",
              "             '99283e530ee319eb8950aaf47234d0c7b3abacec82865c1f5ca6ee6d36c7f482': 2,\n",
              "             '06f25eb073426ccc598b613992fef8300da8e44684db09692f38ee4e9c125996': 1,\n",
              "             '48876161acbdbff6c61701b3ed99734234882a00219e3a3d0e467cc6171171aa': 1,\n",
              "             '6178fe921b3bd7a03eeb066e0059ea868ecbc1084d69605b2e593140fd6501f8': 1,\n",
              "             '19b1da8d6481b50b6bf7e8c8b8a7ce712f72e88328386a97a16d7c6c4c425600': 3,\n",
              "             'b919d4b19158f22ffbbd143a211338df67bc553597142c7e77b8ab50054b0d29': 1,\n",
              "             'f155c1f2a548e1234d24f72d8d1c064cbbf287ffe536fbefa45732f61d9bf9b3': 2,\n",
              "             '4970a3c52afcb77b9d52a05895b70eb4d010c34184f9638acac316481d001936': 1,\n",
              "             '410508aabc287a2b2562c45d65bb2c34c35392c6e93053904e9ce76c8ce78e0f': 4,\n",
              "             '1851ca7869e79ca335e6ec2e2cc487c61d35fe8b6f1e3356f6b3de6797b42058': 3,\n",
              "             'ed374b437b406589d3a84d2143e94161b0b7fbd715bbffb15197060b3da665f6': 4,\n",
              "             '346fb1ff97feace79010e17aad9cbcda7fec11007108f49aaf852a418a887447': 1,\n",
              "             '1210efd029ad4b4e13367991f3d89226f825abfcf82c50720e96e617906b17fe': 3,\n",
              "             '8683bcad558a259162ad27b4b2e24b7589531cdba5d7989d964547ed2227f878': 3,\n",
              "             '65e70b304e2dc7e5e0b33b13b4f48ffcf84593c3ef77da1facfb6a703353e3e3': 5,\n",
              "             '77b76bca8d5c124a9bf6f14849c408e1aed4658f13e8f05210d663abc64e9917': 1,\n",
              "             'e59865d071bdf1375720560e895d9625afdf8a60aa248ea19841c6543e9ffcb2': 5,\n",
              "             '9161bce219b82a56c2bc98b610326a56eea149f8d8c8e278e6fd7252f3500919': 1,\n",
              "             'dbfd9c42a61c1a05eae571e44e5f21b11dfeba46558ff33fa1196494a62b56de': 1,\n",
              "             'c4337175d8161d51c2aed3a4d76587cbb7a33385d42cedfb2f6f9c7fc31b8174': 1,\n",
              "             '217cf207b9897820c91c25a30da190f1466807a804fc361f1049de705f76d042': 1,\n",
              "             '2ecb8019c2485e142872af4c664d3280caeeadbcedda6c61741a671e179bc0e7': 1,\n",
              "             '11b1cbb19e313fb958c7791b5862ddc010a6111a26d09cebf67aded10f6cdc6b': 1,\n",
              "             '6386ac288d2d116f52af7100549910be9059a458a8d55d66e7b754db6b21e2b3': 2,\n",
              "             '3a45936477929224dba7a3fdf39c1952b5bce55092e2da5b4384c4bbf3cfe6a5': 1,\n",
              "             '5b4e82caa241cf0032f46e006388bd82ed6d765b61a66b9f4d8d55f2f8a1221e': 1,\n",
              "             '58254749f319813df314514bb13c972b82aed9fe4820c37b402cd9041f36d1a3': 3,\n",
              "             '02b44859e02b291bd6fdb8958e40ea9713459436094411ceaa9f468658132dca': 3,\n",
              "             'bf510cb6d73a25e178950ee131391b8dfaac9a88d527e649a3d128f2d0ef5964': 2,\n",
              "             'f8683e880377c3266de0a666f359a91d6bc6ba49ed1b54e3f4ab15130aa3660d': 1,\n",
              "             '3e4c97a6bd1cb591f42fbb1df48ad08487c3580d26f40910c08c88e2369dbde8': 3,\n",
              "             '0e231f85bf9f47b0f183775f71c426d8f210318d26dc075807efe66a5a2df913': 1,\n",
              "             '9e96114002749daa59dce0518af5ddfa14ba7f44cae421f57d5ad650a5d4703c': 3,\n",
              "             'd67f44fa7cb0a2dabbfb49bb81e49d270b16c7f66aaa940161edf58eb8b7f37d': 3,\n",
              "             '71410bfe66a3decde1db23b4af0bffc10eb52d219a847b7bcf260e8cba8dd1b5': 1,\n",
              "             '845eb4ccce9b25a8c5e26a99779fb4bae4867145da273ccdd4c63ea7ca30337b': 5,\n",
              "             'edd8d00c0834a5fc4c55f112c05c538dfa6c2dd34fbd0439851dd5f8253e38b5': 2,\n",
              "             '687196ac15775cf65322c68a453996b5df2960edca56410e69e6c2411a639aed': 1,\n",
              "             'e3fa6a2556e2086a96d32d068c3c59073798519fc63c192c330ca38c09c4625e': 1,\n",
              "             '7b6449a61bf83ff08e10ed09f6620e582d8edd7b8ef3fea47e9fb4173e5ac03b': 4,\n",
              "             '8b931a6ad6239ef4543400e46e062f0d65cef82d7cd8654af46a6e320b4ad687': 1,\n",
              "             'bc2cf7ef2794532427da9797b526f498613b1a23d2fe3249983ff72525891818': 1,\n",
              "             'e69f59c3983e4920ee5d275ce1e21d3856c2a44bbfa933fdcf5bf06f46254181': 2,\n",
              "             '19ad256db0cc77d77c5e6648a540a8abb05cc3ff3341bb3a16ccd0dfef4f755c': 4,\n",
              "             '19b6a4c590b48a0cab6f27a45c3212845f3ade016888ce5231e7a4743d2dcf36': 1,\n",
              "             '2a552a209ab871a3a2672ae8625cfcf30c6e53c259748940892987e73199892b': 1,\n",
              "             'd82c5e1fa269c548c00fdf0c2d627b4ca685fa52f0ba30bbf641859c7f1e001b': 1,\n",
              "             '623cac7ccd6e01c8b52c0991f7e2b52dbcbd799ec68da49cb91e8ed0fcf01d84': 4,\n",
              "             '0c99e40b1169ec5ec180ec68da553cf61d86a4675573d2a6d1da354acccbaae0': 6,\n",
              "             '2af124738378f54ab26e56516a584b1715d1d849e5e06e6a23a52ecbde0e08b3': 2,\n",
              "             '635a2539ead23223458cbda5b00aaf0a2b17b02c4623c516827225b2642cec16': 1,\n",
              "             '36022d4c51deb62f2d8534518ba1ab022895e6f41e165deafc2fcbe7fa53537d': 1,\n",
              "             'c05fa053e8ff2549775edf4fc555c670fba6892fc722219094381080deda5ce4': 1,\n",
              "             'd0386afbeaf741ba108d5eea24e6b7063db3e68e00286203356c9b610f9a4ead': 1,\n",
              "             'ed6609bd539fd69dd3ae72ff74f8794996285ad39611cdf0698719e829a98b72': 4,\n",
              "             '035ffb732449840b36a57ed21d736933be4cdacf78f3ddfe9452924dad573240': 1,\n",
              "             'fc8c89a37a2f9719cb5ffe9c0e02028b547d21b065b8d96512717e1e6ca8b0d9': 1,\n",
              "             '785dc4bb727d989677c5db9411ff25a0aaf18a27d966ed970faa8a87d15f4791': 1,\n",
              "             '45eb1794169dc0b1ce32b50ec099d0775aeb367e81f1a622436118f015c8ca8b': 2,\n",
              "             'd1894d92ae2416a88eb0c7d4a1158a675091bb74cab4f97a86b3b18dd6f179e7': 1,\n",
              "             'd766e82e7290a6d7f9a1d7ae99593333b8e31683d148d5e328b7d814659a25f7': 1,\n",
              "             '8d2f38c4dc09503b39bad421121559f1ff729cba4e0793cd557f3c314047f9bc': 2,\n",
              "             'e25cc11fd86fd46573b725d254f0d0fb90b80d03d028e039689f6acf8b6e3562': 2,\n",
              "             '69d45434dae770ebd6fcce57e62b1da78a506288765ce2cdc173307fadf96079': 3,\n",
              "             '35d6e82357de24d6609c889d7b0f0e7fe9ddf0d0103d282b252cb0d24e3355aa': 2,\n",
              "             '34a66a0165199d0dbc90782dafe9c5089f02211701894b3015d90a1fde6a632b': 2,\n",
              "             '8eebf2e37495612cef75d52b6989dc2fb7f866be937f6c7b4c6364e471bbff8f': 2,\n",
              "             'df031226a59d1a32c79c4d274a7fcbf98cbb6851e3c748aefbb6c6e128804d2e': 2,\n",
              "             '39d0d6d668e6db56d6eef664e57583dea0d215b612af60387db52eab42a328d3': 1,\n",
              "             'd1bddfa06a0c1a480c3c9ec8a1b7c68719a6dde64769714cae262b618eb38c2a': 3,\n",
              "             'af2b1a9fde1952115cabe0d81effb42f185aaee96f1398774d0439172165df13': 3,\n",
              "             '087377a9da798ed13469f26fa102e0fd163bf46f8c1a4834f9d24ac32a77aeb7': 3,\n",
              "             '90ed0c19972b427c02c93358c802b3c043fa3341d0938858587983ebf739908f': 6,\n",
              "             '0c62e3332a0a5f12457185bc2211f4035ddb24ca3674905330a826aff61a604e': 5,\n",
              "             '22b5c3b7b1f046fe85d3fd811a86dbcbc3e9eaf9c750ae97ae3307adbc3d046e': 5,\n",
              "             'd7c9955a35d53c4d8164d637e1b8c3acdda7301cc0efd8528dbb2a21b6f30f93': 2,\n",
              "             '2ebfa2244d04e8797b441559f76656ad497c6337ecf96ec5bc89e0c40831b322': 2,\n",
              "             '3271e7860a2ef32b694e31f2cb708fb238034493475ae1aae21486597c7b6745': 5,\n",
              "             'c44e7f38adf1a44fc5aa33bb4675224e7cc35a063006758b2e4d048c3c74f04c': 2,\n",
              "             '60b45f0676f0688f0149cf8e307f6b4f5cf5b61181b4deea8088d706b5a518c5': 3,\n",
              "             'd956d8e91a2e7a14985b5d7b9b95f1c6ce26548ae6c4bb0be697564c4222a4ba': 1,\n",
              "             '0c10d6fdfa7f805134e6a9b76f41128f89e4d275f9170300ac84cf7d8f571f76': 2,\n",
              "             '2b259d6a5d53178e1500af9833947eee7613efb241f9fa98604649d3155da4e3': 1,\n",
              "             '1a4b910863c3122f54c9d14ce6f0dd5ee2ee861020313979099da7b73ac71566': 2,\n",
              "             '4578b81f94f4a5880a611534c05995e033bd82852d5852a48d86e3d81f825904': 1,\n",
              "             '8ce97f026a5c548fea8e0efc299ed58964f43260ae9f35dc3d4c00b64792acca': 4,\n",
              "             '727e66b4470175e0630ecec7aa8043e04b7c3e478e0a6ead986ebc9bbf467c7c': 1,\n",
              "             '10886e84334521cbd282d637671517e81b97d3d1f3195f990ed2816c7e052bf5': 1,\n",
              "             '1b359e7a8d85dbd827d761749d23e0d3956b973dd8105a05c77f51b9e76de586': 2,\n",
              "             '9715591b8743fe9afa70636fdcf9e5ac5d281a8761c1abe25d38ad38405defb1': 1,\n",
              "             '52bd112f075717ca1ba5646c58b3a73dc94d30d4e929f8373ab73bb213b787fc': 1,\n",
              "             '7db447d64417e86aaa1c4be7410e3290cd088e2f6fd7cba040cd2963bce335fe': 2,\n",
              "             'cd1a380b9fdca76f1c68286210b77c1b133a531ce5cee5e295de0fdf8ffccf21': 1,\n",
              "             'c4dcb294dce320d2daba76d97d2c115130eb6cef507a1da7bc4e59740c1f40e3': 1,\n",
              "             'c5a1668a44aaf8676d2d0824b5992d869b24e4647281c210c1f20f0ea27a921f': 1,\n",
              "             'd44faa61df67caf8153bd21cd1ae9ace4f0cf5ef6c7d0dee65bcba73b2b1d43f': 2,\n",
              "             'a9f38e82f6f1c290497ce211bed87045557de5b027b1afe23e2d0b99f213851c': 5,\n",
              "             'd61ce8036f690140f20608e9946841bca7d850e00e331e41133c7997e6072b79': 1,\n",
              "             '463164b7600c1d940791d9078331921791be26213dbee13571b5d79e5377ec04': 1,\n",
              "             'b6c3f4b6f309aa9e704fe10bcdcd0a342a0b8767a743510abe0263202d349ce5': 1,\n",
              "             'a3980c6d03de8b20568484616fd0c285c1f0ad0c8bfe166b76d3ac634711bc62': 2,\n",
              "             '41e950a1738bd0bf5e3bb529870898495963b787faceb3a610818d1fde18c652': 1,\n",
              "             'd0922391b1b0acbb062b586ebbd4bc305ff32da19af51aa0e1e7df6ecf486fd3': 1,\n",
              "             '4b997a5777906cf550f5b409818515ac2d9e608db1fe1a9422386418250ce107': 2,\n",
              "             'cc56e7d55696031e11cb5cf2f5bb8b9d3fc9acf492897f162ba4e598c98d3ebf': 1,\n",
              "             'ce3fdebffb40830751236bf360cfd2efe47219c60403d7dabcac94f6159a0d86': 2,\n",
              "             '63913ed4ed16391e6569a17635064883316a35fd00ae7b8eb03fa3a82a2393c3': 1,\n",
              "             'e077863c21ca2842c21e2437e34850a5ebc744671faa6317a193108f2cee6f79': 1,\n",
              "             'b183a8327a0c304a75fc4f3cea6a48e22aeee9cafaa693ac6000a25dedd31313': 1,\n",
              "             '9160f95ccde0f66a159c1fbb72b4db18f789091d2c6742e11093e3156270ee54': 1,\n",
              "             '9a6cc00e6866e5af24bff94045353ca205145e3bd7eb5e067494ed2a05762ac8': 2,\n",
              "             '73da9fd7856bc17ef01b1b626ac946767629fd115c21852bc2a928de33204a55': 1,\n",
              "             '1b156b6642c4bcb20ff6e7f680dd32ab8e781e66d9950e14181b1f3fcf03bc77': 2,\n",
              "             '5ab67a1782160b4350230d311ec026c2440c14775d85a81bcebcc47b414f7e7c': 1,\n",
              "             'dd229fe4acd19ba9167742ca8e3e34ca61ad1853d3f36f7394c23eb7b4caecfa': 1,\n",
              "             'dd2c2e1522cb21672de4898c5fe6e2f9a89163ea3ac658f152acccce6381ebf2': 3,\n",
              "             'c6d75f8dbd708604a6e7231c7bea30032a56dd8e1a924e6a8fd4affe2584e5e1': 2,\n",
              "             '28b355842afb9e3cefa7050e2ab6e5a89cafef89c87230887ab3c30772e58acc': 1,\n",
              "             '7df1d42e8513bee6c7f02997294ca00dd6dda46457af0410d4859c5d00ed38ea': 1,\n",
              "             'd269471d0532d3ae218ba043245c10123afe6e43e753c593c4dbbf8f3afbb420': 1,\n",
              "             'ea0eac81bca4c7604faaa5528fe704f8309b99e058511157896b99b6b38f6be3': 2,\n",
              "             'fa3ddd8f4bb116f703cfcb4bc0975eb9c0f4aba057628fe60eafd4578b04f237': 1,\n",
              "             'b971fd6707bb63dd77e46d529c2e055c1186454b6716a3e3f62d286229197df7': 1,\n",
              "             'f8b29861a5e4391621e0dc1dbeda5277d782e2c7b154414601d475914c5d6149': 2,\n",
              "             '27ede715fd5a9a789ffa39adfe889891c12b03da6eaade200f4a55f768fae302': 1,\n",
              "             '758ac660bf4a45ad60a7878dbde137eb81226650cf36d8aff12334c0c0dcc37d': 3,\n",
              "             '7ef9845388b0b18c314b48c172cdaf13f5c4a9b5798afb1bccc3ade9d790e555': 1,\n",
              "             '5a05e55da868760a9d38f79f736a297e5c31fa43c04a355938cab27b86d94915': 2,\n",
              "             '2ca0ffce2335121b0115e01b6fd264d39d94737f16b64230eb4e13cf1cb2f032': 2,\n",
              "             '6c84abd7fda243efe32cde4f34a9c1202f7debbc1bf8da1eb36e746ee375acd5': 2,\n",
              "             '237f4e1c7ef9b0854b4e935e03950546b34f54a495e71cf374042a26681f1451': 1,\n",
              "             '9fbf344cc239615861bc06c74c0a34d296fb9584234dfd098ad06baad32d83a0': 1,\n",
              "             'a917fed8b6199ecfb72714cd36eb5f19a0bfeba8aaa5f9c41b5d9fed373219c4': 3,\n",
              "             'c761615c2c710f0d420a98d6effee4e183f31081892320cd7cfda31967d77412': 1,\n",
              "             '86f14b6c0207fa23c1da974868794a03aee5ee072cf7dfb0d4e1bb631a1a8836': 1,\n",
              "             '33692e7d52516aeb405461544e2a4f4ebd1802fef682f0efaac6fb6aca6d8abc': 1,\n",
              "             '9f95d138418478ca04e17985094fe7e8eb4cb645c81aade88195030fbbe4abbc': 1,\n",
              "             'ce0bd68330287aa6574fcf3a19af567781377f0b58f035ae35e4f29d77e82d83': 1,\n",
              "             'f265a4fe6d5db08d42b49bfe1a6e2498e54973fccea6e99d8f5db1f81032315e': 5,\n",
              "             '990787a53d34216e6c633ef1e7f6a76a9269aacd7054eb2e5bfa0b71926159e7': 5,\n",
              "             'f6c9d2adf8778776b364f84610b41bafcbe627782e7722889a55be081507375d': 1,\n",
              "             '144b36497037447f1942f8d19929b310c87303f58fd590772a1095665d67675e': 1,\n",
              "             'dcb6f14c34fc414d4d3ce978fb03d1aa1c7e39b51a3a14f0c13f59a1fb9ab07c': 2,\n",
              "             'b9bb756d9eb990360519f83d2124d216c860b805e01bf509e1e5136709c7a29b': 1,\n",
              "             'a2e421ccc0aae2da9a74ba6dee438e4baeb062317933aa27185958fe6e9c76ed': 5,\n",
              "             '5dc70a36c9c626aee0acb684e28e3613a329c5c4287d3e6c30c0a1a951d36bd3': 1,\n",
              "             'ee8451c5419a8f65e49b381279b3571dcc713372ca638dd12f8ea14282809090': 3,\n",
              "             '7b12109d49d8ae60eecfa40ca72ebbdae3d23de8205a03b3efe3cef972179f3b': 1,\n",
              "             '09656979ea9c6a3d18c63de6ba58f842699304ec6169543a286d624e79a93b75': 1,\n",
              "             '6a561ad14a06a95937a0be2c8ec4d19847431d5b70f76f8d539e1ee22c33d039': 3,\n",
              "             '9813fa4c9266539abeb361a246f992133dd60b4b904963af009cd169c9117420': 1,\n",
              "             '0f67bf8cd11c17489ef4b9a1725d6d5f9a099ee167a8b3ddc3afc4faa3e3d33b': 1,\n",
              "             'da59e60a5ce13b3eefe71a2c305ab6c243ae8c088db13285eec35c383fa948c6': 2,\n",
              "             '4232ceaca10e679fc21111dff24491d7b6455eecb5b6f184fd130a00e287a668': 2,\n",
              "             'a38f0d606a3d470af1cfd79c1d66f8df3ff8899779f325f02c51d9091535728f': 1,\n",
              "             '1350c43435c15b2c7255ae65220b86a97cc9c6d84060f53400b06fe3731b0159': 1,\n",
              "             'f1cc15d07abfdc59085048c3374e774f1ec14adc807625b33ffd667564f76880': 1,\n",
              "             'bb8278788e9b6ad805050b3d0a405a4dec2b5165a02b57226292f56970fbbcf7': 2,\n",
              "             '6c809a499121c8de95cadfa1d8e7822fed36c8d87f0c3ef7508816476cb3b5e0': 1,\n",
              "             '3077c8e29f7e25f597e503e12baa661526260426dde2e41cc6f7d351e9be09e9': 1,\n",
              "             '356cf96d26f972922a1c3d0f81cb9b271c8a639c3a2d5d95f0ef056d91508b53': 1,\n",
              "             '5b65047fc3a876ad77424090c951006d5649d4ea86108daa0668e8e0194b0c93': 4,\n",
              "             'a236e80fbaa604feda76667dc81ab81af1090d88aa8c9c3cd144d00d9094d513': 1,\n",
              "             'c5333a390350dbe89430adac5c7434ef2aa37eeae4d9b3eda36ee81574fac848': 2,\n",
              "             '2b21b142cbd97555847c8ebd3780cef6eeff1162001f68185f34f1b3d609a53e': 2,\n",
              "             '5b83d3037b25d83e67075e36cdd2579ae383dd565232008fc29289ed530c4f98': 2,\n",
              "             'bd502792dce56965dcf6b4191f09075594d94b8225a925a7a535637787c198b0': 1,\n",
              "             '1a45ef61a7a5d3097d6395b09c687cdf975dcec4f3557c6eff7151135e9c1575': 2,\n",
              "             'c169421eddcc719a2fdee2ad5513751e60ecf62a26ba3b1bcf641c9612356ba4': 1,\n",
              "             '91ef5726e10d92656cabe9401b5af84918428ab516298f12fe0165853f6c180a': 1,\n",
              "             '99d6c9a64347a3b0cc7e6918a805b5c1f184cc241e7f33ca08ae86c0c4f9bea3': 1,\n",
              "             '40ae786875a7aed95ede19dd47ac2b380b59cd471b8ffd19f06e79684f5b8ce3': 1,\n",
              "             'b0b28c641506c4474746f986cef707e22ad69bd889922f9646972cef40e5a69f': 1,\n",
              "             '4741d84e4e95afcdfd584061db946535603184721889c4f7a2bba69cb3d821e4': 1,\n",
              "             '8d7f2fa56b1c8811dee2a49c2e7ef260f7ec540be439a3d2762c04200ff35e98': 1,\n",
              "             'e4435afcecb0f138104e0bd7e12ccdda2eb92160bbffacabe033e859fbce0eb9': 2,\n",
              "             '1587529750848fb7724fea93fd3e3ad1d502f841da2443f049d1d22157ffa44a': 1,\n",
              "             '918a1697a416be299f6b30f909b82557bfdceca736ea9d4790ce1338f791907a': 1,\n",
              "             'a8ad3e50beec6d8c1f0e16f766509f172afb08ecfb5e59bb830f619001c8d876': 3,\n",
              "             '75710672b05779693a0dfd4289b629188ddbbe916d6cd3c0c934135562408279': 2,\n",
              "             'd81259f01a482885ab16c7cc572295dc145beb09b4a0ad93257cc8a67d14e394': 1,\n",
              "             '9e16f2b86d314fe896ce44d25c36f0da4633da4f37e0da0bd53d236185cfc829': 1,\n",
              "             'dc76a9a733f3b707040c303446dee2ec6dfc4ca3a7a155e524f6096655170fc4': 1,\n",
              "             '05996afe549960e80665736a30d930394d2a436a9a783ced5da7d885adf86d80': 1,\n",
              "             '5f07a277d75889e2d6af942eb003999cbaa5b6008353bc0bb803118eb7d8d4e4': 1,\n",
              "             '06df18f6ef947e6c7d645214606feec655a671f12686e982431f81e4d9d7facd': 1,\n",
              "             'aed580acd3cec99b13c19b5668df27ad1a827afbe9269f04b80b8aff1a558b13': 1,\n",
              "             '9781b215344d2f63eab67fd362c149923af36e6970cefd16c918f21928c9bcc0': 1,\n",
              "             '4f17d9df48f49184391e0bb9e51d3944a84640fd9eea328f7f16b35b896cf782': 1,\n",
              "             'ec8eb0a4cf85c353983a31ad641908c5ea1c72c8fb6644bccd3b2c55b0793b75': 1,\n",
              "             'b47852d5930fcac477f6f42a642df136cef010d8692acc32593b769d6a087a12': 2,\n",
              "             '41c68532ab9f8d5bf7a999f876286757ab139b824982189a9a10bac9ca830179': 4,\n",
              "             '8643d195f5644a00ed44c545f570599b167001c3e8684eac4026c911970c0fed': 1,\n",
              "             'c6e52b6f487f79038062aa25448ec7e4c5c7994bf01d9f836799e84f5405baf0': 1,\n",
              "             'a6a6f8f39e1a5f1ff6e361c125b894187211f312cb88dbecf3fcb88ad3ddc710': 1,\n",
              "             '62c4ba5c6e1975b06296e0fe921d73ef06bda0fbede11adc7303ddf832245d11': 1,\n",
              "             '9086e67506d208e60d572c0f9f01e7ff9787590be6e0d0b3d8c8feae91a2e07e': 3,\n",
              "             'c868000c3659d88a1ff8145a11d85741f889075a7cecbad6f847d8eefc29fc96': 1,\n",
              "             '9def266a0dd460afcb6c178f974f5241b525091481cd6845d4e74725be7c2943': 2,\n",
              "             'd01114fcf63fee23805db8272313e415d424db1af063047785577da91d9a5da1': 1,\n",
              "             '2c87c248679ef64aff865edce9808643eab7bb4ac7eb10307e1678b9bbc02a04': 2,\n",
              "             'ab4fef539f25977443776f086e73c5285b32e0c90b53a9e7d77610832433e04b': 3,\n",
              "             '66ad44444a15e237794a891ff75ce45a15e6f687b1dd8609a5510497aca18890': 2,\n",
              "             'f1d7eb709d45eba75d9b138e682018ceeba4553a68ee7c3245fb835938416ede': 1,\n",
              "             '657415fe2cbf8bbffe282bdba3837697c2620d443c5158d8f1eeb730d9e7d811': 1,\n",
              "             '14ddd066b00938ce9839c629fa5678438ca4c1188d045b1e32d839e3a986a687': 1,\n",
              "             '67f300ccdd3ba4bd372ccbbb448cca356a8ef7f4c9fd01d1b7a4bdf0cbbb94f9': 1,\n",
              "             '85320ab5abf7fef37e43831d599d67ccc7ee25952f28d6fb4adc4729f703b74c': 1,\n",
              "             'e84d29ab8d652b97c88122e6acc974b1ea05eb85ddf7b83b7b69370e8cbbd4cf': 1,\n",
              "             'cd72e993332ab314ae885c9cbc6a94769bfdb2f4c321e2b759750ab0690c6ecb': 1,\n",
              "             '2b89f14da568dd5e151d8b222df7b74a9cc3f6c18d20c05eb61e105c6c4d5021': 1,\n",
              "             '91d02d6cac7db440d0aef4c438ea1a2fc7ece701ae01bb8a250e6f70bfaa838c': 1,\n",
              "             '1f7aa8ae19a7be2e5c80218338d59abae545b36644513171cf4ec405f62dd79a': 1,\n",
              "             '7f1d4a04e00f60b3b8860f52b733265c23ef3784f80ce1ed52cc22c2da1d72e8': 1,\n",
              "             'fb269bf06216dda0a1ab6c63e4f2055889c3f08867f82aa2284fced5b672c519': 1,\n",
              "             '05dd47013ed34a78f9ccc1f74b79fbcfe88b305dd58602ff4c267ec288c1b909': 3,\n",
              "             '630c499ad4a0dfbbe174a06c77b07d998f7e9aa14f86f60e60f675a87c180002': 2,\n",
              "             '6bc6e75c9bf9d4b9515cc310e034ce0abdacd5c29dbd7bcce0563e11814f97b4': 2,\n",
              "             '12cee9241b6ff2fe64320c42f94717b64ca241a872009dae94eab5caf10ff1d8': 2,\n",
              "             '1c8ac9f515db0f699521fa7097060523b65dcc5faa2420a8ab300f495dbfbaa1': 3,\n",
              "             '4530e78914a9b7f1c29bbb5a4f94a6e12fe51b3c86f7482ecbd8a7f46716414a': 1,\n",
              "             '7f3596db6a9596a3763ed74560f7341abdfd2be21761752a7fb8f33d721b83a8': 1,\n",
              "             '9483685ca80c8dba8b48cc16d2043c75740f30a36251f6ecc4517cfe87cfcbe2': 1,\n",
              "             '737cc31685da8574a551c9ff548270b5d12aca303f7bc58c8a9d81a615c31029': 1,\n",
              "             'e9f7b00a3b78c369d8ebd1e02543a10e832e3d8b3be41c316f4912bffe5df033': 2,\n",
              "             '0b78676157a27898e96ef50a205c782bb2c1b79acf6658c85f6976847b889067': 1,\n",
              "             '3ebfa2ef10293e624c196c6964605b00e7c51a01e8c60ce90299b61824397a73': 1,\n",
              "             '61d4005f9c7592f9beedb72084aa19679a5b6e7850f4f7601b8d7e7093733a64': 1,\n",
              "             'e654d721c14bce397251f858eadb692f613caac66c77f2d0f8f868e50453a237': 1,\n",
              "             'cb0bc7eed55852503e28996d146173533f8084c82529f46709f5a17916f69601': 1,\n",
              "             'b884b425d5b2486e23e6be35047122eaeae5ab511d7bb0eea454d84b59233980': 3,\n",
              "             '0c0134f11e54c42c6fb6cac1917a53c8de7b29f3a6fa1014930cbf0f04d380ac': 1,\n",
              "             '7d4ac5687142e7ea071d197e38a78888797ad9a0cf65ffcbefb5230942d687ed': 1,\n",
              "             '3d878ef4ab9ed353a3e5fcc5504f98da11e71d889f02d6b5f51f093c85928130': 1,\n",
              "             'f2e0f69c28664d1e13552779208525b0b9b9ca1c5a84e2250585810fa3a8ffcc': 3,\n",
              "             '048b7aa39f02122f3222d8c7516c56e8803686a13b0faba65504c21f30df4371': 1,\n",
              "             'c1cac2ba3f8913389096b68b1a3bb1b9b85572283841ed72ad368103a41ec417': 2,\n",
              "             'f3657c92b990ef22044b43836c15037a17ffc11aa045450902c4b04f013132cb': 2,\n",
              "             '7dc9e54894f1a46d634e03305e9484686fdfb68fdf19ba0d5e567be3b4da993a': 1,\n",
              "             'fd01a5b3b407df02b8fb4c6f4a91b2cc4e48ee81ff9772c9a10c9e49c6e43297': 2,\n",
              "             '10f0521c3712df8d9da7a39c8b02239429ac50a06b6661b0b445190b16cfa7e8': 1,\n",
              "             '50f7f8a5d83b025392c818f69b03498edb45d0b91635d59ce1f48e5c614bdd74': 2,\n",
              "             'b82b2a4c277452b3294b63906cff4964959a520d290ce377bbcd021e3fa78182': 1,\n",
              "             'cb4e6b50e5e6c0224bdac18a829e75d7c928d8cd861a14cd62da6bc93b7f67c4': 1,\n",
              "             'ef0dbd033b1ef79db17052537bea5934ad782094dba548892a9c823485ae9b9c': 1,\n",
              "             'a4eed1ec4a191797d5b9042b0f23d8c2f0d4989ba754a7babdbb5dd636e25d97': 1,\n",
              "             '791877b0d2c5fb6d6babafba1e1951ca6e0097977e49299ce52addf6d6f4e7f3': 2,\n",
              "             'e44937b8b817713987063f0b446661c14a42b2f7e1dd49808c9188fa3a0fb268': 2,\n",
              "             'ce42fb7fab2a2909eca1cd7e50c563085f95de7ac3d79a5e212887e1671b06ea': 2,\n",
              "             'b376d9744fbafac5fc2bc7f542aa6e510c23154666297b3dabd68825cf2adb7d': 3,\n",
              "             '73b2a6211c8b10264cea4146f30cfca5dfaff4f02cc62f3e8ea78ef5dc6261ed': 2,\n",
              "             '1d3d706bdf325c175bdb96fbf9034ce8d14ebb8081b4f14784d9112a4fe96d14': 2,\n",
              "             'ec6546825d9bee094cc156f91dcadf31d973dcb2aa2b9fa4cf9edbcbfdee9693': 2,\n",
              "             '9d3ac0acde2d7cadbf56d5d6d0c1bc2cb39507603abc15ceec246e5a77ec28ee': 2,\n",
              "             '40ba84323e0398623e3caf8759db30e0388cd000fe48aca0c3edbee3a773ce7b': 2,\n",
              "             'cba1c1bf9b4d329d2cea29ad378d7a48450877f046a43b8f2506bb3bdca70d1f': 2,\n",
              "             '62f49fd20b831d4b3bfeffa31525df4fd1d65ffff8dfc3a5d4871870eee66f4e': 1,\n",
              "             '9ae471ee21f8f5e46201e3ed14c1839eb2dbea6d70c0242740da189fa84d28fa': 1,\n",
              "             '1b1d07aa62692a763ca25bf03ea418e7c7bab9cf6bb1c964d84358b9940eb190': 1,\n",
              "             'c5ce0ac9ee58888b17830b341439d6864b99c9068e5db587c02a15d776c6787c': 1,\n",
              "             'cd1e67269f597f852aa89ff0df92db07e9dc5c2c5ce16f6f3f1d4565deda6bb3': 2,\n",
              "             '112f291f2649b5a3eeb1b4fa319a8b641338fbfd77fbd96ccb1d9f25577764ff': 1,\n",
              "             '3e2a9ad6345b0e2c6270d78221bd4ee5325e381addedf49fd18c3617d228fef2': 1,\n",
              "             '8018bc1e052005ca2a9f7965b404a7f3232de5ebbdadfc133038843d62e41b52': 1,\n",
              "             'e2fbc4703ab5857c5942364c388493ad4387968c87d554676ee8349af4fa5507': 1,\n",
              "             'ce7536ac31ee060f857dfc3362d38f70102c19bcd20182a41d7f2db9ff5d040a': 2,\n",
              "             '02f767f4861f48c1241e7978df06f36f66daa56611cf70d3e8ef64646b99cbfc': 1,\n",
              "             '90aa37f503b380f1b7c5044be9c95da5e9ee6ee650c25e1063f3bd5310c155a4': 1,\n",
              "             'ea85321c403bcf73acd00a606ee0dd8de16bcb9826e1a9e1f02e6a9a49d8d2b6': 2,\n",
              "             '2052665a6c0a389863fe7468041603d9ad6d01f1ed6036872878067510011747': 3,\n",
              "             '504ab342bf50bf577ac0bc501baa058e5d88ccf27f96707de4501472fe8eb49f': 1,\n",
              "             '8e420a8ff45d5e219f12081d2f7da2231b53ba33ea4b9eeadc43e2d934eca5d9': 1,\n",
              "             'ab68a8bd5655bb507662d31d0220a54983d2ebe3ab51169fd97087177d7a269f': 1,\n",
              "             'b967b4f12ea79dca62de39d350e680731870443a2c20ef710aae242ebccfdfbd': 1,\n",
              "             'db18856fb8af53396c472735cecad39b53f49e103cbda5bafb80d612b47977ca': 3,\n",
              "             '0e1d2134ff5163361958c0594b25fb7d685b7cddfd734919684116a8422e8580': 2,\n",
              "             '042e67a4ac1e80ed823fb14991e5d163de3031e8c9a6f60d207cbaff4eb3a3df': 1,\n",
              "             '2017b9f3758833ee793ec8a2c659591325f47e34d1a2d3f87a704835a0af41eb': 2,\n",
              "             'e268c1e4455aeaf6700a399625e44bccbafea9c585bdfd8fe74cc89dfc9be4ae': 1,\n",
              "             '7edf77bf1423361ae39f718ce24a0a97c3714c9f2275c22feccbc9cae6778a95': 1,\n",
              "             '68e7db2111822fc2a837e0f9413bb14d1bb3de572781ffbaa358ac8522b346d0': 1,\n",
              "             '7ae4ab1ef0c3cf569cfa00d3a577bc4581bb954187adb5be5ef0d2f2e6d055c3': 1,\n",
              "             '6ccfc1c377ff6911c0248a29c9640000f5bb48932ccaa5bf4091104c77e8d5bd': 1,\n",
              "             '44ffdb31b4dbf8ff4e424a8983508a545dd62ee0639b2cc39b1ec8a6e5d664c2': 1,\n",
              "             '853401170b077ac79d8b2db17c087b3f20a55337984a45a44a9af0576680d11b': 1,\n",
              "             '1ca5ca46ed2b047a6e95af098b5eba1a8fa2c29d2d67a687f3e0bcab280fcfa3': 2,\n",
              "             '2c08bd7fcd5db0e57a930bc57b48901ca180b634c14ba67e85c78c2ffed52e24': 5,\n",
              "             '66582ae6a61cfbf9a70b8370b002f6fa539c64ed84027e773c7cf4a1941fc66b': 1,\n",
              "             '6c02b3e09765d7bb94ac8ae2cbaabb63a0eef3689e131ecebf40e6ccd1681be9': 1,\n",
              "             '9b6becb5853629176f20199e4d91ac401b6a652f701bb4e4c007bdc645b64c9d': 3,\n",
              "             '57d53c020bc5a8972fddebd5243ab587d491fc4bacad29111e74aab7ccabffbe': 2,\n",
              "             '5594dbf5757c7503a429d923ef8a9768c63e01700429d309b76e91b5fb63f7df': 2,\n",
              "             'bfa179f4aa4ec24e93f0d753590ab20c32fdb3989f93e9f7781248b3e691985d': 2,\n",
              "             'ce59ae3bfa5942019daee3c34d2983e52a448eb8c8fa82a4625d6e57850df8d3': 2,\n",
              "             '064f45d2a507d81ec6c9d98aa18c667e289adf1d9412bbfe3793d8adc4f64ccd': 2,\n",
              "             '4f18579e3fdc11eed2cc1f18a7f0d36b33f8b0e997562c29da6dbab47d6a5ed0': 2,\n",
              "             'efa651bc2a159e186aa3e473513ee5006c80e49139c1c4907e024f2117088ed9': 3,\n",
              "             'a6f92cec95c19009395f6034c6a604c117705f11feadf502cd4c4b0b391dae69': 1,\n",
              "             '18f7c518e155936ea65f452d89285cb98ac50c47824b85d9b17f7e9c7d053168': 1,\n",
              "             '37a7436a3c262eebc65ef43affb8ac593f57eb972d01341aa4c6c7992b83128e': 1,\n",
              "             '9546dc9b6c4a649aca349243eccbe6556fb55aa38ce6abb9c19ec066c2e42ad4': 2,\n",
              "             '89f088038cff5b229f1607a8a65dd1c983355059cdfa836ba72ee6a7ff2bb8b4': 1,\n",
              "             '69f85a039d30a9b68e1877df1410eb4ab46a3f6d60689dab8f03e6a29e142f27': 1,\n",
              "             '59868d06a163ddbfbe66d6dad15b4920e08947c85d85fd8d4614581eac62dc55': 1,\n",
              "             'c1086a94634acce1e3b955d178415b4fcf78de673393fc26ea3ba1dfdf8a26a2': 1,\n",
              "             '6173c47b9914ebd176f843771d7e2235e19ac746f1185b1992b5e93e01db0718': 1,\n",
              "             '4eae45af693895b9d85396d41f77000f4eefd42338583f9c2f5ca0f17ceb57a8': 2,\n",
              "             'cdbf7756e1a2c21b13148ffabc993bc5d015d5018944b7ad3fe8ab26935db807': 1,\n",
              "             '677e8bc19510b2057f225859ce7543cf3a62edd5a111f44b32187594be39b05b': 1,\n",
              "             'f41628dd86ea4d983c3117df7881c5d33705e2c4b031ff61167ef4e8e7618cd1': 2,\n",
              "             '25684bb2e85c289143295372d6b1e72a7aca8a66ca302c28bd0277dce54889e5': 1,\n",
              "             'e17241351ce14b0162a9df299e9267e7bca3b6bf19a6f848715e9b316e916027': 1,\n",
              "             '925e87219822a6e149c5e9106155b6f323615a235a2f96cbc598ece106d71f27': 1,\n",
              "             '8401e1b1729de42f62d61adca2b8bc79f369857690bdf2394770adc45e99290a': 3,\n",
              "             '9058f07deec115a6b2020a929d42673f19a441bea44fe77878ee313a2dd3a15f': 1,\n",
              "             'a73d1cf887a6e50f2635ca3ccf9972a35683b5745d4d156a4d97471704d501d6': 1,\n",
              "             '130406eb29f90003e5d95b5e49cceeb3658b069768f76a67a0847069b0048918': 1,\n",
              "             '781c416004e3681afb783fa61043ab8d17e28578401c88b0b08ad5fa76b9b897': 1,\n",
              "             'cd6aee3ef124854eea2b610d7f1258c19cac012a33e86533be5496cbca6b07c4': 1,\n",
              "             '3fccd959e49e01fc3c69d14fd209639a74a8767c03b32cd8b7d472de75945ea8': 2,\n",
              "             '96c93211b489e5a86718c5d66b6eb40b71948a18f2c06453aeae0117032c8531': 1,\n",
              "             '49afce74b0e124e40ba354159b4c4f08a6dd23ea7d680a3faa676d6eca01194c': 3,\n",
              "             'cb4cf3f1630cd89f8e003b857981947907362f1bbe72898cadcf159435d4bd42': 2,\n",
              "             'd037c569a2f46d08d3b5b1f07320570cac4b17901d3fe4ab22e947a30d8ea826': 1,\n",
              "             '6d407ed71187c6e3ad6bbfd9c3fe40c66c21143ac3ea7e53eaca3e24dfb9055c': 1,\n",
              "             'd713c0829241b1d753d7c8bd75fc14d8a6f7d402e298b8d0a95a5cb5bc0605c6': 1,\n",
              "             'aa0c1190a1eb25152770617737e93f16dc8a33c6e22204c8320d36d1df23dec3': 1,\n",
              "             '9ed19e63d1a1c93d65b0d01c87ece4e68b18406a9a4a6e4bf30a9ce68fb23cf6': 4,\n",
              "             'a9d4664402632228b24b7dd42cac805ed98ec05e0b93571659a37725093acc07': 1,\n",
              "             'd843bcab9fc4976b7f0cb5f4d48ad08e823e99fce2fc5ffedac99affce05ff83': 1,\n",
              "             '41eb817e735e81881b2f4be263c39739b51fbe10f23eafe1be2901aa781ec54b': 3,\n",
              "             '4b72993abf4cb7bb74aa5b2b2999a15a9a7a7b8af21e787e600f687d96d82bf0': 1,\n",
              "             '423ff47a1f01611cc6d556d38468acb1c02ae8b4c1cfd38ea46d634395045339': 2,\n",
              "             '866dee77c55b0d32d3064756c06fb6b6630da01ac40e0e178443e9a4b80a1edd': 2,\n",
              "             '506ec36134999c9cbd4112ea815fff8dc6106dc427ecd214d7933100ee61e397': 1,\n",
              "             '56b9353b038a028dc09da1fa5f0a240445b20bff777b88f1384c15197b482ab8': 2,\n",
              "             '9771d8dfdb79d7d87e349eb868c37f2646b416bfc6a601f2b46eb4b27b6a2ff9': 1,\n",
              "             '4abcd360895a5799414c684671a901ee67566a3fdbd7a983569e103630b600ba': 2,\n",
              "             '0a2fa31aea29a617c938289107a581117363808ff76340c18f1f564b1330e0b4': 1,\n",
              "             'e812da5502e020a414205e4c4594159a2da41adb9ae82ab86d2c463dd740831e': 2,\n",
              "             '249516d9c03afe4f4e2331559ed3f62ae31549970c42dbf7bfd1f02ae4cb231d': 1,\n",
              "             'b01a0befc50db637fa600dbef571ef05f12c5e2a2655fcc6fa0843ed969a678f': 1,\n",
              "             'f6591d7f021bd174c600efa8accccfc0be76793370923b24f77a3cc1aaec16e6': 3,\n",
              "             'fe57707f3d44e5e4f6dfaf70e2b37bbda9b55d42defe525317d7826521398cd1': 1,\n",
              "             'f41c130e8734ab006193d13801b335886dce04d77ee0bbc1c89f46a4e9cf8a76': 2,\n",
              "             '66230cf510c9f4dd9f2bd042a6e049d2fc64a3e980706642c8838f0a55aa79b4': 2,\n",
              "             '2aab44af1ca66b120a1bf8f77fe6fe4505c7a3dd25824aa1a5226e2622cc5cb2': 2,\n",
              "             '8d31debde81eb3ae40d947ae0b9ac75ef123c4fa3d16fe51c655787f80d44e3b': 1,\n",
              "             'b9bdffef380546fb5194a09d52e3599a4de2b5384211f9675d9a11822b5467a3': 1,\n",
              "             '206212ce11e01e806ed19e801070438d43c4bb7d7d22a7a3f5f6189aecdf76e3': 1,\n",
              "             '4fffb8e528c329a542fc3624115c7cef75e6b1967926ef187610be6531f87f55': 3,\n",
              "             '81429f45cb95b7816649831c3a42f2bf6ddd9a5b576af14976ff83cd88b71063': 1,\n",
              "             '522ad41b52fde278cfde1aa8014b266a49948860696b141db430d37c043ec5cd': 1,\n",
              "             '8fe8d01e959fea1bfe80aa6e0139d929e979ef85d8c15c764dac961de9bb1a50': 1,\n",
              "             '2e67e984d30d65150e58ce69c192190cf5c414c111089f6699ed9338899adf31': 4,\n",
              "             '9c371b04f71aeea05143da11bb079d8cc5cb8ed0cf05e8b04b1de90b195c8c9b': 1,\n",
              "             'da2e5b609e1872d073aee72c1a512564c119f0c494854f4167a01f1d9f1a1543': 2,\n",
              "             '13b3520b82cdcbc454b20fb5fd7b5ae9cc483d0b98f090ab0cf135e3ff11526e': 1,\n",
              "             'f6929a0cf2e6d0286a98e79a7a3876bbab1811afb05222c05746e054e6e0b83c': 1,\n",
              "             '5ed9074d90de7e7fc92dcd32ed4b92a30fb374fa0d1a721d93f521af6dab42dd': 1,\n",
              "             '614a68e61f09d602acd7469f7b7f3e32a73ff7ce35cdddadf8b05ae9471f84d0': 1,\n",
              "             '5bea6ff10692ef200baf3a4759e14e3e97a900c18eb8f9702c4e382d7b07b9d7': 1,\n",
              "             'e72cd28d3e6999dd8d05176be8f482bbff97acbf46d71b1dd11809c966576f04': 2,\n",
              "             '4dbe9cada56707a3b1edd15aeb36aab37943d3f3bf147a70c4e82584906ded23': 2,\n",
              "             '6021a8b893aa1072a230e9c0df15d33ea4ab083ea870145fce244e8033e57bef': 2,\n",
              "             '8fa0a4e5336aace7133c6537737506190d5a4e544c9b2fb8f7368a844ac3db5d': 1,\n",
              "             'fca5da32211f11f561d6a437801da21797adda49066f8e810b0f84f81bbac9f2': 1,\n",
              "             'f473a27d33c27524f4cbd83eea6a61d4e8454d7ed43462fe018753a67e651db3': 3,\n",
              "             'a4a21bf0f2e7efb98e36cc149174bde73003c13087c26f8aa9d4a82167410be9': 1,\n",
              "             '8b712d2fc122dc48eee05f7feadc4f2865c2bac76f8d6773616a8e86405d771b': 2,\n",
              "             'd44feb6c61aac240db00d753611a477e75992233b0a1249e944ea0be0ca20241': 1,\n",
              "             'a3768e644ec5570569c1cbb95731fc4627a1e86a2fdb298d2a2a074247d91b51': 1,\n",
              "             '49924be9d71a882e1812fcb64f0f6990f76e26e2d3ae82dc9c91821d5f6da745': 2,\n",
              "             '78c9729b664e190e6c471a2873e449890d476793dee7838b1fa2169d0bfaf199': 1,\n",
              "             '8746e84710e12e244eb37c679ea5bbcc0e25e98b62abb5128733fd61af098730': 1,\n",
              "             '3494cf6d2e2b85ab447461ff374bc57a241c32a2204010ee7ebe73dc211bc042': 2,\n",
              "             '723f5e748efd34da99dd9ab3eccf63f8671e300486512bb46e475ed6d8ca0933': 1,\n",
              "             'ee98ca1a2a609b339f8e36c194ef07125af0c8a19203929b1f8d34da184e9461': 3,\n",
              "             '84490a58ef74a02bdbf7389c603e9acfafa02b922ae1a26e8ff41417affdc046': 3,\n",
              "             '8d4554dd4871293e0a02931d41111540186d0e3c4340d658cad5d9bfc758e163': 1,\n",
              "             '8517fff92f4b30ea36d42b0a8fc82bbe85af3114564ea51217574af07f0fcfd8': 1,\n",
              "             '1cc3f3b1ab73cf152e1829776993f78eae04a3ab17b2235d24cf0bb98184e7d6': 1,\n",
              "             '7528ae8549eb44bce7ded6ac9a8dd672a034ed1f26e4d55be9a8fd0563a2b05b': 1,\n",
              "             'bfb19ce7efe32c0807ce05c83f39718806ed9581edc60096bbb435b0e2137adf': 1,\n",
              "             'da36257e3d48838b8d1348ab18a3e67a69d443731ef33defdcfb16520df66200': 1,\n",
              "             '02f890e7a51b4c0c0360d90163ff551ca7332555c89709398e8a5fb735ac955d': 1,\n",
              "             'c6b399a0b0268203a34f77a2a8fc5ec384c5c4c1fcd13c21a1baa3bd6fcdfc7d': 2,\n",
              "             '2ab469f49a9e78747dd6c08333d22b5ac89491f8114760a8b7a4dc23d599d618': 2,\n",
              "             '38452afc4fbc499bc46e83d51a45b5528628453517c28550381940568305c922': 1,\n",
              "             'dc1c30ace59075615ba4879b25e79e01b1efd060dfa272538aa08fd21752f929': 2,\n",
              "             'c1b3ee70458b0b06f7ecb9e5dddbf2092e35a3b7c205d5f8f8bcb7e00309bda0': 1,\n",
              "             '297b42b3f043df024df9176f5f50d6909d6fa8d5d229483eb019415a60b8c632': 3,\n",
              "             'b7c3726457a47d523eeb61cf8fc29119af85fe584ac48c9552da5447195e33da': 1,\n",
              "             'e93d70f9b1dae1414abd9f6a23e3a90b992c499247f3a7d06fb7374c0f76d38b': 2,\n",
              "             'f54e47649435ca4b5629e3c0802f502cc85a92222f1013ae590bebe67c0e8bbc': 1,\n",
              "             '18144c7b166673e1e092f8683b5f40a8d754a3b9078356251f3204e30d88e61a': 3,\n",
              "             '33184f572a91bc79bd249c9b216b920d4e4aa2bde8668a5910a00306e1f62988': 1,\n",
              "             'bfa9e292987b3805de0f1aba3ee7bd0bd99a0dce0e16b5975bb01bb4c9485cc6': 2,\n",
              "             '2dcc75367d0688fc982c1dde19510671910cab51af467133e52960c6b60781ae': 1,\n",
              "             'c6f040e2c47cac35e6b954495b603b8862b0fd0b4cd4aeb53a363c005b21c3c8': 1,\n",
              "             'a38ca467ffaf650494c017e417cd516621d2c9a0f49f9bb134d202ead5db201c': 2,\n",
              "             '176bd418e0820e1a273626e08b1dab8b306efc87d1fcd4ab28c7afce54401da8': 1,\n",
              "             '73e1a4b078973f522a6c4bb55b97f64a90f68465faf1f6d7a84cceec0e576763': 1,\n",
              "             '0e34e02286d3bfe8cc3d1353f73cd57419812c44fa77c12fd14545648ad4af18': 1,\n",
              "             'fe3859bf8dc1cd5b218b892fe716e62fba7f4b6dc560558102314b6eeb646892': 3,\n",
              "             'dc60328f1afd0d97e8ec28c004cc800b0585da95f007aa3211277d0570250e73': 3,\n",
              "             'f5e2b5903d0a46787bf2318f1ecd706618499ee5a63a35e92976b30ce4020a78': 3,\n",
              "             '03c0beb2a7e2bfc967ce7733305835c8ac4a48bc1f1917ae2c24d7f7c1f09062': 1,\n",
              "             '4d237186f31a36f9850357684c9ef6438645282f581ea9359d64846198be670b': 1,\n",
              "             '12f610c61abd68dc215702369715a46a3fee590cad035d90a31a450e9e9b88e2': 1,\n",
              "             '195b266187133b33ec47b05c3f21c4991fe6cf0142a4fc47e4622736713ca5b1': 1,\n",
              "             '110a014334f2a4247e6dd64f813b7f272fee9c1781256ea4072760f1d18f48a5': 1,\n",
              "             'e392238ef2d26dad194e43c5c841d47c14604e3cf7c0e95f0590e5deeb4f6f61': 1,\n",
              "             'bd4f854e03439714dc2217f3f55bb4780946ce907f46cf4f7d4f796e82695970': 1,\n",
              "             'ee08a955b31c5814283c23e6abbe26849e329e7dfcdb0b311ab0934beca13d32': 1,\n",
              "             '1d4351fe7d9f3789856a247f856cc7ea07a8721ef38a44d34896e247aacfc3f3': 4,\n",
              "             '29c4b2f2080ff05cd48fde8fb35b1817d1b0859d64689d3452bdb47f8464f002': 3,\n",
              "             '4610c78d584d951d581aea7842ca2ef8c63a3f5104c4d8dc4a5ebf938e635849': 1,\n",
              "             '9b16e0c4649595987970dcf068144a8b7a0995ec06cd36657de7afc52cd6ac6a': 4,\n",
              "             '50f5d44e669eeb0bb81f31291b8504c569bc117849739b0e14eedfd1d9af5914': 1,\n",
              "             '3cc41f170721d1f027fc491e1a863c495c604ed2ffb92040028dd604e75e66cf': 2,\n",
              "             'b15aa4ec33d67d84f896d412aa145cc1250bd5b6f7732a799868b9dbb886f442': 2,\n",
              "             '2258c8550811e922fbbadac33dcbc7c149e1b4c45b5c2b0ecfe75a8174936128': 2,\n",
              "             'cd3080553033ccdd7c9d9c0e15095a95e6e38f75c1ab41cc789e654bea3e6b88': 2,\n",
              "             '3b84ec45cd3aa8c04ad893b3b251fbba7f8dac52ad6db12a696f332f81b0091c': 1,\n",
              "             'd75c0575b763975d35697aa91c2d8bd12f6eca5ab97b8f4b12224943781c765f': 1,\n",
              "             '10d19d34df43ffdbad1085563e8ee6d8dd15f5994f286822ddfa9b5c46433e04': 1,\n",
              "             '4dec377207269c4ed7785915e17ade5c1d1c3bfe78e7f00ddbecf8bb07447659': 3,\n",
              "             '4c853f6bd73436c318c195df842835e05d57b2835f993fce5be9168448a50788': 1,\n",
              "             '1e4aa6042f01eb0bf71997e6fa0811d89b58c6c27902090b2a46e522283247e3': 1,\n",
              "             'e286744c8b74bbaf79831be4b0e03c8a38463400f584221b26f2d708d9ba3403': 1,\n",
              "             'e3d640d764fcd482d8ef3fb8b80a6654afd56d92f61c911af2aad05d61f8d4d9': 1,\n",
              "             '8823db44e7f8f91690001b2ab69eff3f9e389cc242faa4c840f74a21202ae532': 1,\n",
              "             '489c296485872d8b0cd37e7c004e40ba14b158c5b56b8e4309f01af084a27a83': 2,\n",
              "             'f5b171c3a54326c51909be1c095a1a040e8e9b6206e5bdf1f5f27f2c2a38863a': 2,\n",
              "             '5471a869455ec862e8bcf0ec46be16c2f6c766e03452bccc9bf5df686c8ddd02': 2,\n",
              "             '9971821e8e5c7093c5bafbd00db2f7432012860ab794071ce570f2435f9fa852': 1,\n",
              "             'b405e4ee31d790256d1cb171c0ffc1f87b1e349b19d0ce3af2355a3994c64d05': 1,\n",
              "             '60883fe1123589ab41e01a4f8aff1681685ab6b647a1b97489a6e83689744eac': 2,\n",
              "             'a0b44dc5c1f954ab087219c061bf597237e36fe280bd8402ab545e0acd10018b': 1,\n",
              "             'c20f18e66ae8ac6202d99f45d1957663a7d59097ed4ae2470eac496a053e3078': 1,\n",
              "             '2ea6127154f324a480adb732ba706de0f0ba62a1e08d05143356ca5bd9dcb6c8': 2,\n",
              "             'b81cf1368a8ede7172973a378ae9e77015742987ece6c2fcfed200214702a623': 2,\n",
              "             'e1b1aef4ca3dcf955144ea10c539bc1702d71ee37d93c16cc91c2a8fb8004cd4': 1,\n",
              "             '5ab69fbd697934f2b8cc8dcae5f3e5bcc75d0f1f4cf80a7e4b78d4b1b25564e4': 3,\n",
              "             'c80e25e8202175cd4837f93cc5d0e3718aabdc3f6c4d644e3b065b90760be52c': 1,\n",
              "             '74dbaaabe0103869b8c392e467d8bbc997fc28ba164d4ab0b3c0db9dc3c658b7': 1,\n",
              "             '0837b55b82d694d43334cf07cbe28a247e2a7869d3adfd62e641487223b07741': 2,\n",
              "             '635a3e0f68ca2776bc1a204d12d58e91bbaa3c5e1814dd6516859bfac1bb7bf5': 1,\n",
              "             '0fa9c554246249498100b91440f2d27ad42b632df504c5d36d3034546dd498ca': 1,\n",
              "             'e25ea2e04ad2c93decaa9339d36f9727562b9bdb75f4e1bdd69bdc9d10a8f13f': 1,\n",
              "             'eb7219ae9f82e48f09c2dfd8c20e82404680f016ddc7c1c60bac7c0aac59e9db': 1,\n",
              "             'c4ebef22c02f744645f6b69ff13f760fe8cdc9ccdb5a60e25ec527f148d00af1': 2,\n",
              "             'ca398036bb57fa0d3970c00e10000a0c1c8a08b36ebe1f34f17e21204964ab30': 1,\n",
              "             '87778c4818a0d54807dabc211bd4b158549d5cfa78a2d7ca5148fe5082808a1e': 1,\n",
              "             'f5dedfee749677aa0524c3a3acfed4296a69f027d85ca389b16cc3ae52b6cb3f': 1,\n",
              "             '284dd4c1d9695428f651868f4f41b10884448968257082081bb3c6edac064a0b': 1,\n",
              "             'bd30e95254a0142bff286bed4b0c251c8a3b9fc7cfe45b11afab6fcaf5daee45': 1,\n",
              "             'd48e9066af8b7be63bb362ba4a37cd83217910bfb78a880b6a0ea624250ab0a6': 4,\n",
              "             '35fa4011ae505c3faee39216e93274807ddf823cb0be8d2f0a3f52b267c14ab1': 1,\n",
              "             '5f911982ca3a731be9577b46525caddd9bfbf92d1a5b23cc97f3fc2b85543fd3': 2,\n",
              "             '868883753dbc8a3f62dff28e22d388a2b7b6bf8b0a99d51ee5258f06793fea5c': 1,\n",
              "             'd5bab3e61edd0ea5407edb68a49fbda583f8381dc2453dfae4a169948b16c377': 1,\n",
              "             '0fc4733fa2ef8f4d8f6c152b38c27b19f33706fb21afd2cd65a814e9c0678523': 1,\n",
              "             '6c79073ee3c22c3be829ae3cd735c155644236aec0fc0183f1858031b5a944ca': 2,\n",
              "             '6df2739f0a18bdcb29724d40270c745ebdc982abfb55835ea6fe6c71713e47a5': 2,\n",
              "             '07aa0776f017a0b4729d59813fb6dc68b3cd3e81f1126ff1adcb564752977ed5': 2,\n",
              "             'd565035c5af8a53bc89dc0783e92daa539c47f58383ed30e2e4eeb1bfd505264': 2,\n",
              "             'c2d583945c03b16f2048e70a6ffd40e9be89d582ecd2cfebed506d657f83e2fa': 2,\n",
              "             '10538ba844f8885cf8acaffccda890b6424c4c6e40066ab86c4882cc29fee1e3': 2,\n",
              "             '93c845d020710045c41fc9989596171b9f258e44db756de4094e57a4da7e3016': 1,\n",
              "             '51cb1edb511ae57fab549228227a42e8217fbaf6343a83980fe528678a716e0d': 2,\n",
              "             '404c7131e677790067447c51ad606c75749f70a9a3c58ec04b9d16619b7a3a34': 1,\n",
              "             '32a57bf67722f466cb6eebc24f0464d9d4bf51c624579729e0a8c4ed62b11964': 1,\n",
              "             '4c9b2efbe48e62a7071217d1eaee4e124beb9cef6f8d72e172f2e79da4991c2d': 1,\n",
              "             '11244c4b80623f25a80380a1ca2927fd4c94cf29bf4d4adcf7f8e1598d1ec9db': 2,\n",
              "             '3660db0f178542b71ef3339c5b95338ca5f75c6dbf1bddaef55706bdbff7889f': 1,\n",
              "             '3cbb6ea799eb1b857db1ef20e4e3e0721b1ad9c617f71373a88c7f4194014976': 2,\n",
              "             '9964c7a900cac5e0cad9751bcc47bd0d0205e475fe50c0c48a219b5801e3a0a2': 1,\n",
              "             '0961d10ce0df2151e4bdee37406098f0f395945c31959b07cb4357dcd066b14b': 1,\n",
              "             '492527dabd95ca11a08d7ae85157eb932f760aaf19cfd9fc482de76f620adbca': 1,\n",
              "             'e02ee0752d18821999b02b99fa0796b16d2e7dd81c197075294bb9c5915a5373': 1,\n",
              "             'b3bf3c6912aeb8d76eba5651d9fc1b9941c32dcfad25b1a5bb79a9666fe2b812': 1,\n",
              "             '1318f959223b5a33eaf2ca27fee16c6e98399ed11743c93eafa80291410d045a': 1,\n",
              "             '8bd47d083fb4b2148f32c2f67c63afcaf609b2e7786614a14fb61f813f3e9579': 1,\n",
              "             'adbb932ae088c8f630ac07072b4efede2f894f5c89baab91c93fce7d198fa631': 1,\n",
              "             '6cefef3bf146adce048c74aa5d9c5b5bddd08d9f95a335058a40cef6ccae00d6': 1,\n",
              "             '434c7aef8eb88e66031f52207ed00578191270ef3d06c2e000cd409bced0f5df': 1,\n",
              "             'a408806ca74592f4fd5c4173d646dbfe2d4fd44717898e299f73b521f8b94013': 2,\n",
              "             'cdeae48bbc68a28546fe680f8036cc2a5bad994b648d0b83b10acf5e26a30686': 1,\n",
              "             'a9f600e3fedb3add1bd2b12471caf918ba551beb13aa5593b9acd0120bed2c76': 1,\n",
              "             'f725f5ff039833c33df3cb5d1e58754fba613558fdeee648be4e5e932607d8e2': 1,\n",
              "             '4c4d53d7d172d0c7279e0836f1513a55da14f221fe02b9afdefd0b94e4586d61': 2,\n",
              "             '0619c34bd4c4faa1a564fb0572849b75b4e9d55e7bded70bc1b9931527f43deb': 3,\n",
              "             'e21476e36d5665bbc61bf40da36d13f543dd56f496e05e5bb3d187ba0735cf85': 2,\n",
              "             '263508b90a8b184e3de4a6ffc7df210a9e1cbff18324ab6d0ec089879b37e7c1': 2,\n",
              "             '7450676456c057bdd44098d80b13799dadd8adaf6bd43154696913b0f04b00b6': 2,\n",
              "             '52e433655cb188ba02a81c3b01edfc17bb735aed0db6a7145038705904a4852a': 4,\n",
              "             '20ee839e211bdcca8249f7180ad5c6a254cc4e1a498047178b43e0b67b12fb9a': 1,\n",
              "             '28e7310557f7d2d7a10c427d4f1b6849671b9441ae04c98120e97ffef724fdcb': 1,\n",
              "             '7880db7879774ad088f7dfcb7c97448097287392373a36aae15785a9a4886b1d': 1,\n",
              "             '2567771dae04c2308ad588afd29925db38c6de12deb99bc7cd0b09277baf5eb4': 1,\n",
              "             'e7a7149cd6e103d7aed2447f4618d8aa8ffbcb8b10b3e37e0ce82c45f3cfd547': 3,\n",
              "             '1ae3ce5bc94ddb051466f33e591d2e86a80347f372f47d304533069a7330817a': 1,\n",
              "             'de7d22ca0b6aae2dee01e50305912fef72c84524f7fe8090a88c0afb6c478d21': 2,\n",
              "             'c0313b459ef9a948a93bdb56507b132dabe77bf75e281a943ce1a8083fa3ce22': 1,\n",
              "             'ec5ac81057dff7c66d470697558cd6f2acd914c7287e4d855d7f5a144f38bc4e': 2,\n",
              "             '95b1f902f82a29f7d92d2ac2c9843c3a3fdb4ec9a463fb0f41febfd16594c96a': 2,\n",
              "             '1ff085648ad5a64ffbaafa604ec39f7dd6dd2b3d9a9072a9f177438906290e12': 1,\n",
              "             'd906f9994e041f4a7c3df192334488cb4648174c812b7a1474870f2701428ae8': 1,\n",
              "             'a1fff5ddde635d07a6344737b8aee0a9c9b09da7f0dab27e9fc65bdaaba3f45f': 1,\n",
              "             '7257deb47da2e802e2e52a57b93af0b18ccfb9155e95635c605a5b2446b7bf23': 1,\n",
              "             '7bf34b78b2ba971e015b77d50025b482728b938f058dfa172ae7936f81b3bf40': 1,\n",
              "             '654139dfe6a1152ab7d1a38fa359fce0e48d6350060351ef754550087bfa39f6': 2,\n",
              "             'a07b034ea2a706a47e1f5e3a42b447da4e74b257a64e766ec86f27cb3cab2b2d': 1,\n",
              "             'bcf7cb7786045d2ae4eeb872fbfae43f447b4f92f8aee2bd60fdc74f080f6eaf': 1,\n",
              "             '4251574bde7e16189e63e603ee5bcdcf022aac29835e296972115d895a3fbeb4': 1,\n",
              "             '5dfc4b9a44c6af4ffb20a0631b995291d480f44d959b2df01ca2789d29456a24': 1,\n",
              "             '91eeb33daa9472074fd7694975319b491fdecc837077718cb1a667205d022de2': 1,\n",
              "             '2de8ff7914c103d546f349f3c9a43b5302d45a41aee10b604bda38e2c8ad4f2a': 1,\n",
              "             '3e89b83f2f2940d8b7b0009c78c0d1e339451722d079b775c00ce7b5d8aad345': 1,\n",
              "             'b02692df6f3d55fdd7393b1ce66b20e37ab70d2d258b4c8324d563bcd0ea11b9': 1,\n",
              "             '3156c2a596719380b4d54e5bbdffcadefd851e18f6fbd1fe4588230da0046ba7': 1,\n",
              "             '3a5e903635464b84a396cac65fa903e0ed0c6a1a2c21b95a8e42e9ae0f55dad9': 1,\n",
              "             '176d872d37b69a1c964f81910aa509c720cbbd412f5baa6ee8b952ace366a614': 1,\n",
              "             'ae7267547d9f6c8956ec07f6da9036177a4de66c5da9f84e7fb28ac269ec655b': 1,\n",
              "             '4597f0121be503b53c437ec8f389885665f52766c600525b844e79f8bb312bda': 1,\n",
              "             '10e9a0103f7a60ce3b76b6a0280b155dea873312be3a041a9660bc5d4060fa65': 5,\n",
              "             '466fa13aaaf304ea0987f690967ab343b26491dfa9fb8e9bf7bb0afb520a21d4': 1,\n",
              "             'a5ee7dcab1924450f8a1a5bc4dbc40c819ddd8df470acd06af59dd151f214cf0': 1,\n",
              "             '9b7c40949840a03c51a886098b7f67138544a4e9cf0cf45bb333b2af3ac84fd0': 1,\n",
              "             '6ca3a0f235548bfbfcc49fbbaf6de346cd15ca44d65259b02cfd65af5f2c8e25': 2,\n",
              "             '6b5beb7d12da2e45a06409f55888048c22d15ff9899bbe5c817a5b497c27191d': 1,\n",
              "             '30cf5127c3b458d165228e44098afa89ed5058695d9c971f63aae3b7103ac2fc': 1,\n",
              "             '1124349829900bb26ba8fd0517b8a516f431291c94ecd5efa259ae35c92ed8ce': 3,\n",
              "             '6061b838b8e49f9b758c847851e7990ca21320fac758da7f4619b54260cc86ba': 1,\n",
              "             '10809ef57702fe310f9b4ce02cf8ddb13a88c6f02006005407ff4a0cfbceb111': 7,\n",
              "             '25c8cf01053073ebf470adc7e0324b742a5c3498226b3f28f1af98e354108489': 1,\n",
              "             'ce2f1b8b42698d2492de4e01d21d993b7917ff6190988d99c5e952dc2726b0e5': 1,\n",
              "             '1c3892c2c3bfd37ee608cf97a3304d0783c669f7b662e5957576c705ffffd16c': 1,\n",
              "             '4f35f721c057637a5521a383066da50fc789e89337e09cf755c2d68dbdbdebed': 1,\n",
              "             'c210d3d1765b211246e6f87cd7d654986435775aa5ccb6bfff6197ae958bfab1': 1,\n",
              "             '521d7dc7c5e0dc943974ea838dab1d6922b32fa3861595de730cdd2ed1295598': 1,\n",
              "             'f444067b0c5500add81e2286267cf8e8f736ba70b809393c0135c626fb92c214': 3,\n",
              "             '4c4b1377000e09e55dcf811f6d30c6adbf3eb614039998e60fb2e2eba4158855': 1,\n",
              "             'ca1b2530c8c537d08bf05c16cb16b4753d597576d6b1d74fef56674454ad9240': 1,\n",
              "             'bc20e91f162f05dc06c2c4669b06b6295e905241eab4b9fd7197f56e818f5afb': 1,\n",
              "             'b46550444d77d46ae4b082f6511ffd3d89120c194e0aecd4aeb9c93ac69f5cdf': 1,\n",
              "             'ad85c711c290b18f81402f9c283d79e4296357c2e642ecbbfa804aea495862a9': 1,\n",
              "             'ddc025df4be3143b3003c3808333890c92641b6c999c7e789f1953f35ec65cd6': 2,\n",
              "             'f52085a4f4e92f70a940257630732af3ab8fad29c6b8fca075316c76a47f6f30': 1,\n",
              "             'd0a55c247139113531919dd86a199d3df4ca18c7c82b82c601c22261aeb0ee7b': 1,\n",
              "             '45c74accca8bcd547cdc82f5725c20c228369aeb37f10497a1a231462884d3c8': 1,\n",
              "             '4b58485d7a200e0bc1cbcccfb83f5a01d52d050fbf2be162e2898c7b5f71c103': 2,\n",
              "             '371657ccce98b5aeeb023961fd671e6e336efebf1402f8f8bab82af9ab7d538f': 2,\n",
              "             '4583781fe3195050e5ea071e3b2c97975a125da332fc633eacccd3fe71516cd1': 1,\n",
              "             'e67b95eccc6b91bc6cc42e7929cd16b42471e71f7f61329d4c318d2a25cb1f0f': 1,\n",
              "             '5d7fdcf38d1267acb933a0261e78091ff9bb3ec2a47b1eeb433a504e3ed64a31': 1,\n",
              "             '78a29bf06b9d1ee9449079416ef4f379f4fe8bcf2ac98b67dfaafeff31617f42': 1,\n",
              "             '9736964e37502382b15de6eab14a88bb92aab299788ff2c57faaf02432733e70': 1,\n",
              "             '8ebd9f61cc55f33eead5e179bf518b7ed571a3c6c7972345dd4c37584d10aa3c': 1,\n",
              "             '5fbf52a7cac7427f8e6a104c76d9bd30915386c9217e06b82143eefc47a61950': 2,\n",
              "             'f45fe38e80b0340447522fd65b9046704d970be4afde7ea2cc661dab1db061e7': 3,\n",
              "             '395bee08ead535b5cab9dc83c6773a9ef48401444711c12f9f73c5b9a0289e8d': 1,\n",
              "             'b799219e0cef85b69bd5d57b833ccaad64492961c1a2c2afc6f60049bfa023c9': 4,\n",
              "             'bc41250f4f25bf5dc97dbf098a92975843ed93268f36a1a378a1afb7927e266f': 1,\n",
              "             '8ec358ade7801be3e930b90737fedd20278964ad7548c82300956567f0350768': 1,\n",
              "             '454d17087d4e9d76f288d8b0b17eb19fb695bbf8d5ebbefb72a68bf84ea53447': 1,\n",
              "             '4e77582dcea5a247e3c392f9261371a56f3c5bbe26b0a95dbc4129e2cadf0069': 3,\n",
              "             '3e1d2b8597697f2658f19c8efc04d188b37d2b15f63c7da7d20148c95d5cf5a7': 3,\n",
              "             'd409f6ef3837021ea2315fdbeed4d02a5f4cd054d63e725ba2b8f0cd5a8ab344': 1,\n",
              "             'e31b7a52f66605d10068cd0ba2570119e0e57edbe11d03592ec5705caeea667c': 1,\n",
              "             '785eba209dd7a917f107e6667f1d921f272d8affe9e228cc24c44f17a9824dcd': 1,\n",
              "             'd0b334f1ba58fc8a03ae1485974bce855fd648ff6ff9fd9627220a943c36ad1f': 1,\n",
              "             '5c34ad5b6f749e919b7eeb8dcd4f6b8c642ab054c27138af768c3093b9407cac': 2,\n",
              "             'b3d457e22c41e961f8965ad1bf046ab7e028350806235aeb20f7177b306f41de': 1,\n",
              "             '8b30683a01c05de442ce34d666c251a81e54bb7f686512a6ab6852095f4cb225': 1,\n",
              "             '342576f1c8b02257c10fbcff4951eaed87c32ee2b629392a80a4cb387276ff58': 1,\n",
              "             '604c3c7a9947104928c1341512d0c2bcff03277c65e7dceb61a32ed3ebcd1b35': 5,\n",
              "             '67d6fe5eb6d83a61ca8daab308531bdbcaee80c508642e25674bcb66e057798e': 2,\n",
              "             '64bed7fb20780ceb0aa26c8885bd13966556b69e62bb254b4131b984d2893edf': 1,\n",
              "             'fdb3f4deba66753a7721a3fe7fc3c287729d2a4e15573d72d5df9927d576f29b': 1,\n",
              "             'd7269806770525eab30f48c60d47c7b11408bee749917e60f107b1f6c76b76b6': 1,\n",
              "             '884ca9fa5cb16729588442e6d6394a05d5532bf566b00b6d586464ea907c74a2': 1,\n",
              "             '527471aca72ae1fe179052395df8fea068b3f37fc53071d447d2ac9690791127': 2,\n",
              "             'b9a839c98cbd2d547acf5e13364e490079c04c409796f8453f03038e60b3ef7c': 2,\n",
              "             'd6a12b944a841e2f47f441708e4855badf08d3cc642357f635732affed756991': 1,\n",
              "             '7380440d55f6d97a437d411559ef0eae2a0debb7fe6091e12ea7469483f6c4ec': 1,\n",
              "             'f51ee894264ef96b5f7407b0383f30cdcb5210cf784b06c7dbe60b12819a0047': 2,\n",
              "             'b7307ebb0662c8c766d9315fc9892f483d0b98920899048f03d5dd6af5a601e6': 3,\n",
              "             '3eb2b113f5a0f55feea1d9955697b53253ab9f3b4c5e5b6b6fe61f5c9a73167b': 1,\n",
              "             '62c7a52daedb2bd1c7b719084d8c9c23432da0aaed956bf78cb5222a17378713': 1,\n",
              "             'be0be3d3d4ce3c77e2495d65d2993ddd9cf09f3d2bc5bda9dec962d3a03aade4': 1,\n",
              "             'bff6339cb1a2a2b47f5072f5e28ff09a0acd0a2407740d01fb89167f2e382960': 1,\n",
              "             '241df2695d657ba5382c4df923c121c050d2735cf30a3f21d92fa48fdb6b2776': 1,\n",
              "             '407ab3822cb1fc219900ff8f7f64b1e89a0531a0f0abef4f359159011f2e2d51': 3,\n",
              "             '18520a812a2343651f111ec3c420d8d8468449dd7d55595145741f704bcc71a4': 1,\n",
              "             '2bc4ff1eab2c116b371e5c7f06153745cf76d5ba1b128a86bf62d9e63b41bd10': 1,\n",
              "             '6ebe81b20db6691ed852cf69cd48ef45e0098c9b5e2d9b149798156d1a10e936': 1,\n",
              "             '54e1805f754e299768193d54e06da8c60c460b614adee34bdcf7b7cb54167f79': 1,\n",
              "             '8e55947297a4d2b7feef0077988488f786b1e386aa1280015043639dbf93d164': 1,\n",
              "             '4418f9bfbf5597fb22fc451b0ce9073aa42b158d21db2ae9b66df8f7b86fbbf6': 1,\n",
              "             '3fd93f33c8021f04352850da6d760f6d598a595a77c93ea6a1fe6684c14d6035': 1,\n",
              "             '963823d9e2087febb35ccffa49f4311dc679dede68cc5aafe7a385f24009575d': 1,\n",
              "             '159da13553a946f0cc755f1eaff2accbcf9ac80eb3c35a2de1415419bba6ccee': 1,\n",
              "             '8404f217536d69a7318b14440893a1bcdc8dc1c334ac7fae117bfacfed7c7ffe': 1,\n",
              "             'fa29ac451bb76db34368b40c08d75cfdf7bdcf70c472ce41bf8fbc5baa2f8991': 1,\n",
              "             '6db251439d9b307d44b4d046aabbc4fd8e59cbebe3c5c4741db89bc4c1b40483': 3,\n",
              "             'a287e509c1089fc9692c307c8dc7b5301a16e89ae6b2586c6871134bba46956a': 2,\n",
              "             'cd46fc603bb300e75407664fa9f1049291ca97da5c981922b6ef3e94b9567a8f': 2,\n",
              "             '961a3e19fe9a0cfb4d54b55fdb81ad08cdefa3832d414a1897277c65eaab08ab': 1,\n",
              "             'f4c21790da7197ad8109f6fa07b8c66b02ed4fcda42bb48c770793e0a5efe8b9': 1,\n",
              "             '44861ff5328c6c05cbd559c3ace45c44a306cbb0a36cebf8df2e16c3b8b70b79': 1,\n",
              "             'efecb7d91e1faa97326755e8e0cdb510e5b36ccf9c6dc5b118d8495e5022836f': 1,\n",
              "             'a4606a52d515543a791b76a3fd848db7ea95b0e8759eee29717fe154d24b5d9a': 1,\n",
              "             '4191ce134041e8658975de87e630ec947ff603e7fdfb198309540e8e04ab5a85': 1,\n",
              "             'af26c229373b0412796c2bf251adafb43b5e2912c6b60048e46f6f7c6582a77a': 1,\n",
              "             'e122f1a3dd52bfabc3e972cab88d3f804992e201245768ff7736405f73ebf306': 2,\n",
              "             'f02c01c36924a34d2a38d4527763950935f6425ba4c6f52e7aad512b5ed9942c': 2,\n",
              "             '01d28a62dc6f300e234f66400258a07a4cb55ff4d10b2cd78c0cf4242a956c73': 1,\n",
              "             'a7f34c692e3dec9c7aa009c96d5d0cb6595aac0918ab5d0a9e4715cff11ca702': 1,\n",
              "             '131747afd079f3df9eb8632711bca3bb467d9706aceb1caf8175da14139b8c0f': 1,\n",
              "             '8ee55b07af0f442943fd2dcbb617ef424e97673b81039ad4daa437c7093f4589': 1,\n",
              "             '7a2e25fdc2e8e2753a49f0766484e2ec941072c6675f5d608f58bcb33388f226': 1,\n",
              "             '1b14687934cae77abd0459d1f20487f94e988b28794cb196af14e7d1cf35e4dd': 1,\n",
              "             'b90711169a843eaf9309d3a2609171456155ea4bb13173ac39b84b6942c05fbb': 1,\n",
              "             'da6dbe7f089f41d470a11b3619c3a0caa42a10ffa214a8039c2d3c9d9c679cce': 1,\n",
              "             '8e1289878f3fd4dad084456d8c2d2a8b364e4c58a95529f4d4c8a2b5e49d3391': 5,\n",
              "             'e69de38fd3449c965463adc7ae49907ec2b154ecc213c6058bab9505d9b9f3a1': 2,\n",
              "             'a98c004fabe4e6db96f1d5e35182370a312400903a076f3294be2386c59403e3': 1,\n",
              "             '6ca614381c0e8cda18c2479dacc6be74f0c6710be1204818caec706100912ac7': 1,\n",
              "             '390a384c4e15c9a423629534333687776bedb2b84516a38aa86529101e590e57': 1,\n",
              "             '2de06de1ecb942b46ddaa308e5c28368109b02d20afd5017e8be8f621b718e53': 1,\n",
              "             '19f9d2f97c9e5c72348784e68c32e9cbfb9ba4ea01b2094722ec527e9f2025d4': 1,\n",
              "             'fc5434bfa50812ed22abfc4887cb5e8f9444533ae4918fa144399005522b754e': 1,\n",
              "             '50d574f19f6e0e2d6752aa05d6fb35ec6b3fa616063da3a8112bb3abbfa09c99': 3,\n",
              "             'd1fd35cc0b2c36e5dda0290c785e56f3b796177584c17ba24edcbd6eb4cd51a8': 1,\n",
              "             '0f0de31a3c64a0daafcd63cadabd7dd3db6246377db5c1e09225d9c74c973dea': 2,\n",
              "             'a825a7f46d96cc1e5a67761c1a4bddd7b84ea48a65b28fefd304c1478cc34e7b': 1,\n",
              "             '0cc9854b58fa55c254d8f966c70831b1aaf7100427c324dc716324b6aac98a1c': 1,\n",
              "             '350ed958bdfa508b2a74db456201c090f32b395044fcbac8c98f9742a2b10202': 2,\n",
              "             '1c284a02fdd9ec11f851a5de8abac988b57c5c2eb914e658d582678c5a780de1': 1,\n",
              "             '8996f75f3beb4854ca2a1889425ba4e1ec0cbe6b53df1ea9c7a57657db612fcf': 1,\n",
              "             'e9944ab2d4fff60ad0bf4f44c5cbd3b83f5c75cd928ffd1a0375fae6a1177804': 1,\n",
              "             '88afc3ca344e3182699212ba3bde3b3d7c7b02c5821aab2de99d4dc49afd228a': 1,\n",
              "             'b915d97f967be8ff5bc470f3804741093771782a47da3cce4ca9f1ae380143ff': 1,\n",
              "             'c83f78dedc3bf09bfc91c3fe356d4adca865785db3a7ab95dae81c96ca51a176': 1,\n",
              "             '2cdcf0e3ab66ab72401fc09968882049e60c144cb9d710459002c102cf165ba6': 1,\n",
              "             '90c356318637e050f92d17aa0f7da103d1e3169393fc3244190c327ea6130be8': 1,\n",
              "             '78ca87c4165c55c925353b54845d39f5d282e67da8221b9e2b896d4b67f0dd8d': 1,\n",
              "             '57a32f1df204f62e7e028ded6df949b4e1ae3e27949dcae729334193d18505f0': 1,\n",
              "             '7f959437b596445ec894c202caa27d23f64a292d4376258728e063bbc464c95d': 2,\n",
              "             '7b6234d2c1c4fbfad6bdb5cff23e23fe47abed8ae328fca3b1fbcfba896c8c22': 1,\n",
              "             'a6fc57b7300c89028df031b44a093b8e4ec0ffa3c00917aa7eeada12d8f38c50': 1,\n",
              "             '1622850e4980747daa32cff33ef04077417db9711f0674949518ed0b8a1a4435': 1,\n",
              "             '1bd1a1ee1e6fc9e535e869c64f5fff5f3057bb9d555e224ae5fc628dcd0a5668': 1,\n",
              "             '30bd4e3567195f5427f5c11d24f2ef0361f45fa275d5aaa28f84fd7ac5d986ba': 1,\n",
              "             'd0ede25606943ba67eeda072b51f0f1051e0ee7f8a35ce53f6781703a8380941': 1,\n",
              "             'a281d1c5caa9907d3cca4ffa495ace9efd1c9be630320adcfbb2fe8bef941222': 1,\n",
              "             '595b5f1a83c99ad0d641df135c90c86f38df0e80b7fd818c8fdffa53db50cbfc': 2,\n",
              "             '981e6397a92268741c9e5ef4f20cf66f131a3f70af2103a1a93bf6389d9275f2': 1,\n",
              "             'c123886f87cbe15890fe313890cdba80b41e047692d07cfaafeb86f4ec7dae1e': 1,\n",
              "             'eb7b8e34c17ea52e76e7712ce2ad1a785ff5a0a85ca7e152f4dbef6b1109155a': 1,\n",
              "             '652a2abf2eb1b7a4b17992290f0fd0230a94f7c928ca7091458950d4c00a9d1e': 1,\n",
              "             '2ce534318b2468f91559501ab199bbf886b5879fb6b11d543c6a54722279c7c5': 1,\n",
              "             '57f2096ee38c415cc823674b53ed0e1bee7849ad8eb9aa66dd6c2b914aa11c20': 2,\n",
              "             'fc2a8b0cd2477d14e250f37e377d2390033eb410b1c93266739953f225e5c49e': 2,\n",
              "             '067210daf452d94f6ce12e97792455553d64244e0bb83cf113330e2f47835121': 2,\n",
              "             '7e4023d312e26afb3ee7fb213f198e30409358dc7af8fded709bca751456bdb8': 1,\n",
              "             'a4e72660bd3dca8f454a7e4df04e98818e671595d901813b22432732ed98a9c0': 1,\n",
              "             'da8f45297f19189dc80d89ea9fce7a3e7ddc63c71ec30372c3ce424056e2d59e': 1,\n",
              "             '6f6c90b7ac220f28c86f2dd9618044c3e0c0bc01ae01c3b5c6e522a2cf6bea23': 3,\n",
              "             '782a8519701a6d6b16171a823dfc780b9cd946f255ec72eb43cd84d31fa9bb08': 1,\n",
              "             '867075b0872b00a68e42b3828d30d957d79bbef874c845c99716eb78b07b3e1b': 2,\n",
              "             '60f6f21fe1a7633e64f7140e2902bd99288a2e77f173175adf8e51fabe1076be': 1,\n",
              "             'acaefc94d065e90b80e8c1fa3bb62661cd3ab2de072a1d941296a57b3e40a695': 1,\n",
              "             '1b7c31a79a224adc3dec91a97235e5dbad02e47c96ae4be6063767db839c1830': 3,\n",
              "             '659654aec29d62dcd7ab73629657669a31daf53e65be3c481a22308aa14bc967': 1,\n",
              "             '5d2dc6acb9dd362827ae9c8202f54e3a143b59c89e9b28c41255bc544667d61b': 1,\n",
              "             '69f2435f85ccd1f1ee115c24cd03bc7e99ea67fbeb4dfd444ee29fdbb15297ed': 1,\n",
              "             'b777ef2c9de5d49bbedbdc39719a2e065acc454926084402a96d272f039f54ea': 1,\n",
              "             '4d193873a624611b9f29341367fa8c7b1bbe21d97009f1e11b5039040a8895e9': 1,\n",
              "             'a5d67aee6abcbb1f6fd010a033d2468f46fdcc9d060a6cd187083ea5f4c9b219': 1,\n",
              "             '653bd1aada89c28fa5ea2476274a3f99c0b7bc9e50a12080596d1ca4ef943eab': 1,\n",
              "             'e4204e1b19e5ade280e57c6388a157d869b0acd6acc7dc4de1b5d5e372e21523': 1,\n",
              "             '4b5796cb7cd83582f99411a3a89f743e943139cf93e756069537774535ab43d4': 2,\n",
              "             '95e0361ea99ded50d92c8268ebf1123f817b0f24c4b019be8b6eacbfaed1fc01': 2,\n",
              "             '5c019c207c52b79286c6b28f875a6bf87a999bfb9778906012c4cc5d64950c0c': 1,\n",
              "             '052d09801524c0ddbe354eba212bae93b18c92aa74639a389b18f9aa6a3c882b': 1,\n",
              "             '61a0861e001314fc7edee812a327c34e1e26d53511da1a98709cb590408faa27': 1,\n",
              "             '4c410393808a09c564d9d0403c12e766f928f162ede1fc519debdb9bc072d8f2': 1,\n",
              "             'cdd62562dbe71ad8fd95e54fae74977db3faac2d7379ca1d3fb697bb8d02e5d1': 1,\n",
              "             '0e821ce2ff85857fa0e5ce08a641e9cd2b341cd1798160354237120f17156838': 4,\n",
              "             '52f988c6c8ff9b0119e923ac9c75152d14b3ce310f23afb9e92ebfd989d6d992': 1,\n",
              "             '0819fc070430087e610715f8671d7f3b729e3ace7c8708b2ff38a0eb7ed5d06d': 1,\n",
              "             'c20680f8ef5a22d42560de7495c527f324a1431a58268e5854be9d9b5857f5e5': 1,\n",
              "             'f1073c914a7378979b06120d74e6f9d722defd147d0c4ef116d1f20e052d2a43': 1,\n",
              "             '32c52d584b505e73ec22cfb0f19cc5660eaf59ef6d3c367e4eb4c4b754a822a4': 1,\n",
              "             'fa5d2283178fdce08639d3bdc199ba7acb609fd684e3b8f5236eb33183c8b51c': 1,\n",
              "             '4ffb7821125a5257fd03180e58130e552934591c29b209fb44d75ed70262c1c7': 1,\n",
              "             '208aa76588f077b73863546afcc1554871255e0fa1c7d9474d5f80fbc8dcc12f': 2,\n",
              "             '1b2a5603ba64e5ef8bb641ade7b3531ceb84dd1e832190315590ddf46ff81ed9': 1,\n",
              "             '287cbc26e5b678719263f323455e736901f55e77832fbc680eb9fd11cee6c5ca': 2,\n",
              "             '420225a5cad0492149ac4c39c0c5744e1fd41e5d7b9c97560ed4b4602a6219d5': 1,\n",
              "             '928e2d39e35fe7ed7c50946a154c8049aded53aafb1bc449637f34092bca29a4': 1,\n",
              "             '5434f9364eb59793312ec90ad61a9a15cd9dbd16fbf3ef6bf81c4ccddcd8d043': 3,\n",
              "             '8b3a933785ac7bebce4bad248f0acdf588a56ab8c39045c2cd58d0e21ae4e01c': 1,\n",
              "             'ab4600b86b9398e55ba4ea98dfc43aa1a5a96514bf179cd9b8636f99bce0183c': 3,\n",
              "             'd44c894025756c0b2821a1a5ba4e9188ef54e5b56a83c8f68e6fe817408238ef': 1,\n",
              "             'dc7574f79d392f1aae6100d5f2abde52b2e7e0a5c7c8b7a84372faec80614ed1': 1,\n",
              "             'a21421ba8ae1fe3f518808bdabb90a006ea368edac2e24d5cd7200ba1038d4cf': 1,\n",
              "             '83f38af3c71adce81c84b4c9dc2e68eff350e5864eedce380789a710f0434ebb': 1,\n",
              "             '79153b8d4fd997241e533a26bb581d52d4e0484df82c75f5fe3cbd74526bc360': 1,\n",
              "             'e0938d6b2f5695ab6f3e7798c5dc86eb8f775ac9507073a7ef46a2d487c469c7': 1,\n",
              "             'd86f71249d20fe4773fea01c9e078ea7bf0598bc9d80aaffc65559a87b068a00': 1,\n",
              "             'b59000997789070679992ef2a4bcef912ba6bf2c4dc9ceae19d67ff67d22f21b': 2,\n",
              "             '4de4d1edbf44fcc09f607bfb440acd6a03fcac59e074a33e1f03aebc27cb6a37': 1,\n",
              "             '50c02be7338b058a0f9a0726e94f34d6578ff9dd872d698a3bc1e61660f23a93': 1,\n",
              "             'f273916fb8cc1e4c8934f95a8b35c1d1d6efabeb1d8cdbc2b0b750659faf0a41': 1,\n",
              "             '8a0067853000d98dc662800455d2c67fe8360db93fec715fc0ce36dedbfdb76d': 1,\n",
              "             '0735d77de77ccaaf9974921de392c688ba3f096e7f5b4af0faa7d39de3673405': 1,\n",
              "             'a6c4a49d0b1f28fce55bd7b8cf03925f8fa46ed35a1deb059e51e4459fa9946b': 1,\n",
              "             '5e7f74eeeb6e4918108a24590011f20e50d1f881ccff90d1264e5dd2eb9f5811': 1,\n",
              "             '58c5e3fc57a09596475fb4fcfa96e4f0aa861690970bd5532f055694799763aa': 2,\n",
              "             'cff26f22ed82e87a9e5b670b732105c1e42f2b4ea04e418bbfee2b8b6dc29b32': 2,\n",
              "             'e977e2ef3312460f375a4c1ad8de99f6172bf6cbf36c695f9410b15d58b140cc': 1,\n",
              "             '37ccd500ee51ec3ea0e7fbce6ff0a99ae5aaa963f9b0f11656c80722220c111d': 3,\n",
              "             '8c31db0b223de50cfc617f32c236d5c97d7433a97a986471e33ab4869ccfb987': 1,\n",
              "             '26598bd57a35f0678f199eac8fed5db78759905f9852276f84ee89a2451aaaca': 1,\n",
              "             '378360f4b1366680aed283083df1b047e44225912ecb3b819cdc6a0ea8a7eea7': 2,\n",
              "             'b88dbe980adb2bd4a4b982617d1a4c0794b12b4a2c1acec8395e381dbd4b349e': 1,\n",
              "             'eb942f1ee3a81f45bb050067d3741a3603d440ccd4b490fdc2b12a7cc0fe8b6b': 1,\n",
              "             '2a67b08aa1bc057b6ec77a16d6f94e626b7d9f08d9e198cbdc020c09719c9f3f': 1,\n",
              "             'd5dedd313f43a0cff4a805952d2080d9f10bb4abbbc2d381724072ce7cef76d4': 1,\n",
              "             'c615bb08fb27d7c85c7aa62cdd2ea09ec2fba8c5b42c2d093b5ceef693e34397': 2,\n",
              "             '076e7c11ebb85c6f4ae0edecba9a087b9d7744fba6ac577a2345851e3764b0d5': 1,\n",
              "             '5180458a3b59aac02c28afdd1d72888c2fc72ec361f4f7c1f91eeb1a0c876c65': 1,\n",
              "             'e09b2e54b21b5d4ccd6e7643432203c9de0e6ae4252d779c667e137f9b410b34': 1,\n",
              "             '58eef40a82f06523f1cc4bf2244e2c50b8e6fcf1595b7abdef09d37612987333': 1,\n",
              "             '42402b43644a4dd4ebbf3803a63e49d21569c22ac1d28f215efd13864714f62e': 1,\n",
              "             '8c34c07af82bbebf49629587563fd51deb15edc4dd6ef33b6640ab4941ecefd7': 1,\n",
              "             '4af97aabeb1433bf18f621f88d06dea8bc94528a10f443798d588889c7adadb8': 1,\n",
              "             '8fe548f9938940dd91bda0dd46b76c3ac5ed970701e3b6bd4ace7de432da1c71': 1,\n",
              "             '8902084035dd30f8a4a65423f74a8fd97d3ea392dff0aedc0584159640b7dff8': 2,\n",
              "             '05c1ede14b466e21c9675ea27557ae2d415bff7852c2a4355afd32831b10b22a': 1,\n",
              "             'dcf755718a5a070f53bdb179f024917e081471a112073111c8b9e1a1e222fd9b': 1,\n",
              "             '1cf26b834711a3c7228199537b5a89b3efd0fa512486613b3485d95c315c616f': 3,\n",
              "             'd90849b6afaa564a38444fba695a1d9dee03fa47d56bef12b826c764696258e3': 2,\n",
              "             'ec12f7cde8019f4dd198ca1b9234f147000e0061ba59ea2cf4883a37240f5c25': 2,\n",
              "             '5962015ac5d6cafcdbb1b33bcf2a2313dfb711640e5eaffd6dbf5e3f7a254c70': 1,\n",
              "             'c437675067b5691a2bfde08a21b3c42dd6bb119475ccaf2f8378be44c89f5229': 3,\n",
              "             'ea20a6b1ac4db42760abcf67ab63b175897cf38cb49a1ca7e5ec8c63331dd596': 2,\n",
              "             '3b0f5e6eba16d4a0bb5dc857951f50f82b6965cab260f77db7289ec288dc037c': 1,\n",
              "             '6bb9e494b4331d11f95d63b7d71d9efe2183f4bb842e583511a565b28a7d7994': 1,\n",
              "             '8fa4c090eb6c91c0c53d5d3f18a0dfeee78f29dfe3b8acbf04c7a7e346804fc7': 1,\n",
              "             'b16b4a309964f810417ae6ab56d0998f740681bdf52b7a42b80ecbfe939ccb3f': 1,\n",
              "             'dc272cbaa3174eafe866dcfad2033eadd8d528e7ce77bc2ecb59b3f183759af5': 1,\n",
              "             '0c390e7a7090ed066eeb3ccd2d68b27d7b2fe8b885a99c0f8c47d9e7d2fb274c': 3,\n",
              "             '1d7738198a1d586ef8e0dc0d4ec2f16edd54c66b43c2a020fc9a5c199f1629eb': 1,\n",
              "             '951e7d862357fc056b278262cf1e6bfc6a50abfd97c17485a3c8cb445b9a68ee': 1,\n",
              "             '29fb415edc8210dcadcba7c188b1506a54484583aea622a22d1be2ec21652038': 1,\n",
              "             'ede908acb929e69fc8fd6f01a4e7184a4973aafb4b8e477a20d230b00e2108e5': 1,\n",
              "             '26c8c3ba0f797aff2774ab42bd0350ec73a0bca3f98104542960b677387f787a': 1,\n",
              "             '5d58802d933bcdb514acf80d289f63fac6485d5ef79d8f847139481a2279d53b': 2,\n",
              "             'de3ea063b5b0051837c529046c7291639d31f25a99f0303df2616f9326fbad27': 1,\n",
              "             '83a25a2202dc1702d70b606589414ba88ef993df5dcf98a88907e84ef38fc023': 1,\n",
              "             '3d31a2e9168a2666264279c3bb49e82c36cfa8e2fccd22cb96ffa34d5b9f10fc': 2,\n",
              "             '7dcc165041a09d7e748b11304bef1e47058de55a90a9e9573622eee7e9645853': 3,\n",
              "             'c7b83277360cca3c399618c1fd0f2674ee453a6626649543e13d20478449b21b': 3,\n",
              "             'fc9090ef78a21f56e283f968b5650a9a416bb84aa60ac523418b0a5abc610efd': 1,\n",
              "             'fb684eb0c21aaa01d0120ce2cc84d7f140508b0e9d99cf26814dd29c97d4d509': 1,\n",
              "             'b50249d328276129f7767450324a1f6f0940f735bc745c28b9fbd9736262169a': 1,\n",
              "             '3908482f3a6943b7f850a8204f182bdebb30b3a073e03bc2a871da18aadaf16b': 1,\n",
              "             'ec530244ac799b397e8e44394829338b0a6d9f87e001f1727061622bd28b7636': 1,\n",
              "             '4666a0df73eb48f81d01ee023191e9b2a46e82b278bfdcaad9f2d41c9f53475d': 1,\n",
              "             '3eb9838378f5519f9e456221347aabcd55e6cd0867e8396502d75d692101093c': 1,\n",
              "             '920129ff40dd97b9f873687d97a89be34871c6fbe506f8f5a226195b9842c912': 2,\n",
              "             '2c5d6adf46c3aa7a1e4ad5647c1945c9e91ededf00fb6e95aad10b39bbe24c90': 1,\n",
              "             '54ce52375e8efed66c4ae11f6b2edf5d4e150d7fdfba0f7c662c4102ad13d3cc': 1,\n",
              "             '8ad83945f028b439d541e3cef8c1ed12a98193ee350e1af073e4587d813295ee': 2,\n",
              "             'c04e54d316bf4d86dfae6cff23a96d951b03047036a4793936431cd8b9e1a587': 1,\n",
              "             'a4ced263e904042e77b995ab95841b062cd31a83000833706fc22847e9aced05': 2,\n",
              "             '67e444b6f5e8d4709e9fecd3accdc05917358a687bccc632f68a27aafa050a58': 1,\n",
              "             '3337c60991e71d7eb9e6fdf7f88a49651a44c9fb33c36603438c6bd11d1c6755': 1,\n",
              "             'def3de8ac13e2ca4e5774d20b226a264c89724e16e728179ea67c757a920386f': 1,\n",
              "             '5d295473dc5eecab20202ef430d561081f90fca1ccfac5fcf340a39afe5563bd': 1,\n",
              "             '0be0012d8615c537dfd48e9c1513e1b80823c184183b360f0d120c8be92fef1b': 3,\n",
              "             '8fb6e798a969735c0b3a2dd60111d85e325be8f5d79e24fd3d2de1834713906e': 1,\n",
              "             'fb6eddcbe50fa5792cbca34d185b1dc16e615fde33a560b830e4a96cb7dcc4ea': 1,\n",
              "             '39bb222931d8a261ed7941ba28c7e2cfe2048b6b3c8cc18463e8e73f900d906a': 1,\n",
              "             '922fb8a0acfcbf10e49f4cd8f8b1934806a6d202bbe0121402daabe1bbb7c0d6': 2,\n",
              "             '4fd62a8f7a9f702097104704b61ebb83caaa7c19dcf0635f32a58594f7d088a2': 1,\n",
              "             '9628ae930164034e620861d827183c542c162cdddd22a0a865b01acc46d000f3': 1,\n",
              "             '17fe4d208ba54e6ef6b8b471ff4412e993855efc6416d94ef0cf72f564f60e2a': 1,\n",
              "             '3d4917e8df80ee72aa9965c498c3ffcb5e1c55f18dc51e6462f3f28360d75d80': 2,\n",
              "             '4234b273660e6fb3ca0a5dd17ba8531aa55d0152b1f142774abe22ed71aa95d4': 1,\n",
              "             'efed51b640dbe9c507f348c1a126a18ff832440fd011f83c41b706085baa0d26': 1,\n",
              "             '28c4ac4cb7462b322c03995b160332754f3ae71eba4156bba48a8ec680d9b910': 1,\n",
              "             '3f932428f69f6591eab912b61df82d00e87f234fa552936bf4a13a6602f0f001': 1,\n",
              "             '4fac1dc6c4514ac24cd1ecf09d0b931ab97748174ab4d5ae33825d270fa2d390': 1,\n",
              "             '055feff0402c005ad41fd68753753e12297544c01f640850ba14e718c7bd39db': 1,\n",
              "             'c1342adf4233ee24391b73924c6db728d39102c27a798ffd47ff3c7d09642fc5': 3,\n",
              "             'e6fa7a7d82f819cf3a987718fae5bf8bcecb2f2ccc9e8345daac337a8d9c24f4': 2,\n",
              "             '939b23b457d9d64b7c71b6155f8a5b2360d81e985cbffcd725db31eecd02f265': 1,\n",
              "             '2fc7fe5fb754ab75339409b7be70b4d78c26da8a4413e9cc27e059ce8a8d4341': 2,\n",
              "             'fb89207680b83cc4002e8eb6edcf0c4b7221ec1c0662243f5ee60fb82dc285df': 1,\n",
              "             'a557dfe0b6665dfe65e702e5340eec8a6c74b330732180d56c9760c43830e1ea': 1,\n",
              "             '6481dce18ed68ad81b44647b4af8676b5a987955d42cf1ef38fb1257c1d45800': 2,\n",
              "             ...})"
            ]
          },
          "metadata": {},
          "execution_count": 77
        }
      ]
    },
    {
      "cell_type": "code",
      "source": [
        "rdd_users.take(1)"
      ],
      "metadata": {
        "colab": {
          "base_uri": "https://localhost:8080/"
        },
        "id": "LL-Z4sv2cpVj",
        "outputId": "45eabf43-2fc7-466a-e3b5-3ad8c4bec771"
      },
      "execution_count": null,
      "outputs": [
        {
          "output_type": "execute_result",
          "data": {
            "text/plain": [
              "[('b3b5b61509ab89afbf4d1e589d229bebe6637c2de819f5d612762c939b8d7f1f',\n",
              "  (82, 83, 162, '2019-01-01', '00:00:00', 0))]"
            ]
          },
          "metadata": {},
          "execution_count": 138
        }
      ]
    },
    {
      "cell_type": "markdown",
      "source": [
        "## Usuarios por grupos de edades.(Problema 2)\n",
        "Queremos analizar el uso de bicimad en función de la edad.\n",
        "0: No se ha podido determinar el rango de edad del usuario.\n",
        "1: El usuario tiene entre 0 y 16 años.\n",
        "2: El usuario tiene entre 17 y 18 años.\n",
        "3: El usuario tiene entre 19 y 26 años.\n",
        "4: El usuario tiene entre 27 y 40 años.\n",
        "5: El usuario tiene entre 41 y 65 años.\n",
        "6: El usuario tiene 66 años o más."
      ],
      "metadata": {
        "id": "oEyBEPKH3A8f"
      }
    },
    {
      "cell_type": "markdown",
      "source": [
        "###Edades Enero 2019"
      ],
      "metadata": {
        "id": "q7tjzfP7LRBf"
      }
    },
    {
      "cell_type": "code",
      "source": [
        "selected_age = 0\n",
        "rdd_ages=rdd_usages[\"201901\"].filter(lambda x: x[7]==selected_age).map(lambda x: (x[0],tuple(x[1:7])))"
      ],
      "metadata": {
        "id": "EF8DSFi71TYz"
      },
      "execution_count": null,
      "outputs": []
    },
    {
      "cell_type": "code",
      "source": [
        "rdd_ages.count()"
      ],
      "metadata": {
        "colab": {
          "base_uri": "https://localhost:8080/"
        },
        "id": "H87ho8x5131O",
        "outputId": "7a16625f-fe04-4783-cc44-99834831231f"
      },
      "execution_count": null,
      "outputs": [
        {
          "output_type": "execute_result",
          "data": {
            "text/plain": [
              "112805"
            ]
          },
          "metadata": {},
          "execution_count": 62
        }
      ]
    },
    {
      "cell_type": "code",
      "source": [
        "selected_age=3\n",
        "rdd_ages.count()"
      ],
      "metadata": {
        "colab": {
          "base_uri": "https://localhost:8080/"
        },
        "id": "CM0ThGeN3LBd",
        "outputId": "ee0c774e-2a94-4c51-e6ff-96b66e163145"
      },
      "execution_count": null,
      "outputs": [
        {
          "output_type": "execute_result",
          "data": {
            "text/plain": [
              "15716"
            ]
          },
          "metadata": {},
          "execution_count": 64
        }
      ]
    },
    {
      "cell_type": "code",
      "source": [
        "selected_age=4\n",
        "rdd_ages.count()"
      ],
      "metadata": {
        "colab": {
          "base_uri": "https://localhost:8080/"
        },
        "id": "0OPTV9Su3ivo",
        "outputId": "1e76614f-aedf-494d-8349-326b9c9fdd79"
      },
      "execution_count": null,
      "outputs": [
        {
          "output_type": "execute_result",
          "data": {
            "text/plain": [
              "82092"
            ]
          },
          "metadata": {},
          "execution_count": 65
        }
      ]
    },
    {
      "cell_type": "code",
      "source": [
        "selected_age=2\n",
        "rdd_ages.count()"
      ],
      "metadata": {
        "colab": {
          "base_uri": "https://localhost:8080/"
        },
        "id": "mVQF5vKq3rSE",
        "outputId": "386647d3-0959-4364-a944-4575508ea075"
      },
      "execution_count": null,
      "outputs": [
        {
          "output_type": "execute_result",
          "data": {
            "text/plain": [
              "1926"
            ]
          },
          "metadata": {},
          "execution_count": 66
        }
      ]
    },
    {
      "cell_type": "code",
      "source": [
        "selected_age=1\n",
        "rdd_ages.count()"
      ],
      "metadata": {
        "colab": {
          "base_uri": "https://localhost:8080/"
        },
        "id": "I4FQi4pK3wE7",
        "outputId": "f2f6b7e5-c7a4-4020-83a7-322c28b06306"
      },
      "execution_count": null,
      "outputs": [
        {
          "output_type": "execute_result",
          "data": {
            "text/plain": [
              "3023"
            ]
          },
          "metadata": {},
          "execution_count": 67
        }
      ]
    },
    {
      "cell_type": "code",
      "source": [
        "selected_age=5\n",
        "rdd_ages.count()"
      ],
      "metadata": {
        "colab": {
          "base_uri": "https://localhost:8080/"
        },
        "id": "WYkkw9uy4RNj",
        "outputId": "f101ff01-215b-4781-c14b-5a942c007f91"
      },
      "execution_count": null,
      "outputs": [
        {
          "output_type": "execute_result",
          "data": {
            "text/plain": [
              "62365"
            ]
          },
          "metadata": {},
          "execution_count": 68
        }
      ]
    },
    {
      "cell_type": "code",
      "source": [
        "selected_age=6\n",
        "rdd_ages.count()"
      ],
      "metadata": {
        "colab": {
          "base_uri": "https://localhost:8080/"
        },
        "id": "u7i62Fak4Zr_",
        "outputId": "3047f7bc-8e23-4018-9388-76362e735f1f"
      },
      "execution_count": null,
      "outputs": [
        {
          "output_type": "execute_result",
          "data": {
            "text/plain": [
              "1296"
            ]
          },
          "metadata": {},
          "execution_count": 69
        }
      ]
    },
    {
      "cell_type": "markdown",
      "source": [
        "En enero de 2019 el grupo de edad con un rango determinado que más utilizó bicimad fue el grupo 4 (entre 27 y 40 años)."
      ],
      "metadata": {
        "id": "H-W-qUvE4sBV"
      }
    },
    {
      "cell_type": "markdown",
      "source": [
        "###Edades resto de meses.\n",
        "Ahora estudiamos la cantidad de usuario que usaron Bicimad el resto de meses y pertenecen a este grupo de edad."
      ],
      "metadata": {
        "id": "JoUdqLwkLdh-"
      }
    },
    {
      "cell_type": "markdown",
      "source": [
        "####Febrero 2019"
      ],
      "metadata": {
        "id": "RJCoK_sSN25e"
      }
    },
    {
      "cell_type": "markdown",
      "source": [],
      "metadata": {
        "id": "VzkJg133N20M"
      }
    },
    {
      "cell_type": "code",
      "source": [
        "selected_age = 4\n",
        "rdd_ages02=rdd_usages[\"201902\"].filter(lambda x: x[7]==selected_age).map(lambda x: (x[0],tuple(x[1:7])))\n",
        "rdd_ages02.count()"
      ],
      "metadata": {
        "colab": {
          "base_uri": "https://localhost:8080/"
        },
        "id": "h8MpSEwjL9pk",
        "outputId": "6e12c629-0a34-4b11-938c-ca15cda3f13b"
      },
      "execution_count": null,
      "outputs": [
        {
          "output_type": "execute_result",
          "data": {
            "text/plain": [
              "87506"
            ]
          },
          "metadata": {},
          "execution_count": 16
        }
      ]
    },
    {
      "cell_type": "code",
      "source": [
        "selected_age = 5\n",
        "rdd_ages02=rdd_usages[\"201902\"].filter(lambda x: x[7]==selected_age).map(lambda x: (x[0],tuple(x[1:7])))\n",
        "rdd_ages02.count()"
      ],
      "metadata": {
        "colab": {
          "base_uri": "https://localhost:8080/"
        },
        "id": "_rSK4I81NvLs",
        "outputId": "26c8a586-5bab-453d-801b-551e5e385bc4"
      },
      "execution_count": null,
      "outputs": [
        {
          "output_type": "execute_result",
          "data": {
            "text/plain": [
              "67231"
            ]
          },
          "metadata": {},
          "execution_count": 18
        }
      ]
    },
    {
      "cell_type": "code",
      "source": [
        "selected_age = 3\n",
        "rdd_ages02=rdd_usages[\"201902\"].filter(lambda x: x[7]==selected_age).map(lambda x: (x[0],tuple(x[1:7])))\n",
        "rdd_ages02.count()"
      ],
      "metadata": {
        "colab": {
          "base_uri": "https://localhost:8080/"
        },
        "id": "O0GZfrQSORSS",
        "outputId": "dd67c0e6-0c25-45f0-df44-c4d654a286d0"
      },
      "execution_count": null,
      "outputs": [
        {
          "output_type": "execute_result",
          "data": {
            "text/plain": [
              "16392"
            ]
          },
          "metadata": {},
          "execution_count": 19
        }
      ]
    },
    {
      "cell_type": "code",
      "source": [
        "selected_age = 2\n",
        "rdd_ages02=rdd_usages[\"201902\"].filter(lambda x: x[7]==selected_age).map(lambda x: (x[0],tuple(x[1:7])))\n",
        "rdd_ages02.count()"
      ],
      "metadata": {
        "colab": {
          "base_uri": "https://localhost:8080/"
        },
        "id": "QjQFn4zWOmpj",
        "outputId": "226d3bde-e2ec-4079-fc0e-2f96d3fbbd68"
      },
      "execution_count": null,
      "outputs": [
        {
          "output_type": "execute_result",
          "data": {
            "text/plain": [
              "1628"
            ]
          },
          "metadata": {},
          "execution_count": 20
        }
      ]
    },
    {
      "cell_type": "markdown",
      "source": [],
      "metadata": {
        "id": "yhNgYKXcOQjd"
      }
    },
    {
      "cell_type": "markdown",
      "source": [
        "####Junio 2019"
      ],
      "metadata": {
        "id": "wZ2EsYXAOJr9"
      }
    },
    {
      "cell_type": "code",
      "source": [
        "selected_age = 4\n",
        "rdd_ages06=rdd_usages[\"201906\"].filter(lambda x: x[7]==selected_age).map(lambda x: (x[0],tuple(x[1:7])))\n",
        "rdd_ages06.count()"
      ],
      "metadata": {
        "colab": {
          "base_uri": "https://localhost:8080/"
        },
        "id": "T53SdfiYL2f2",
        "outputId": "b87f4571-2655-457a-8bda-e6d72ca57ef7"
      },
      "execution_count": null,
      "outputs": [
        {
          "output_type": "execute_result",
          "data": {
            "text/plain": [
              "124219"
            ]
          },
          "metadata": {},
          "execution_count": 17
        }
      ]
    },
    {
      "cell_type": "code",
      "source": [
        "selected_age = 5\n",
        "rdd_ages06=rdd_usages[\"201906\"].filter(lambda x: x[7]==selected_age).map(lambda x: (x[0],tuple(x[1:7])))\n",
        "rdd_ages06.count()"
      ],
      "metadata": {
        "colab": {
          "base_uri": "https://localhost:8080/"
        },
        "id": "vqcyCxf8Ou6U",
        "outputId": "37f191ef-6557-4421-9eb8-7b72fb0b3304"
      },
      "execution_count": null,
      "outputs": [
        {
          "output_type": "execute_result",
          "data": {
            "text/plain": [
              "95046"
            ]
          },
          "metadata": {},
          "execution_count": 21
        }
      ]
    },
    {
      "cell_type": "code",
      "source": [
        "selected_age = 3\n",
        "rdd_ages06=rdd_usages[\"201906\"].filter(lambda x: x[7]==selected_age).map(lambda x: (x[0],tuple(x[1:7])))\n",
        "rdd_ages06.count()"
      ],
      "metadata": {
        "colab": {
          "base_uri": "https://localhost:8080/"
        },
        "id": "YEPEbNsJO1Sg",
        "outputId": "0803154d-6983-4e1e-af60-1947f47846bc"
      },
      "execution_count": null,
      "outputs": [
        {
          "output_type": "execute_result",
          "data": {
            "text/plain": [
              "23712"
            ]
          },
          "metadata": {},
          "execution_count": 22
        }
      ]
    },
    {
      "cell_type": "markdown",
      "source": [
        "##Conclusión\n",
        "El tipo de usuario según la edad de Bicimad tiene en mayoría entre 27 y 40 años. "
      ],
      "metadata": {
        "id": "OWoe5uXaO_1t"
      }
    },
    {
      "cell_type": "markdown",
      "source": [
        "# **Nos quedamos con el origen y el destino de los viajes.** "
      ],
      "metadata": {
        "id": "wifjPdaJ-A44"
      }
    },
    {
      "cell_type": "code",
      "source": [
        "rdd_trips = rdd_users.map(lambda x: (x[1][0], x[1][1]))"
      ],
      "metadata": {
        "id": "CpuxRjRB9nLY"
      },
      "execution_count": 19,
      "outputs": []
    },
    {
      "cell_type": "code",
      "source": [
        "rdd_trips.take(1)"
      ],
      "metadata": {
        "colab": {
          "base_uri": "https://localhost:8080/"
        },
        "id": "ghOenSrwTRVj",
        "outputId": "e1928f3b-d59b-4f5f-c6ea-25415c990593"
      },
      "execution_count": null,
      "outputs": [
        {
          "output_type": "execute_result",
          "data": {
            "text/plain": [
              "[(82, 83)]"
            ]
          },
          "metadata": {},
          "execution_count": 29
        }
      ]
    },
    {
      "cell_type": "markdown",
      "source": [
        "##Problema3\n",
        "Planteamos en problema 3 como el estudio de los viajes según estación de origen.\n"
      ],
      "metadata": {
        "id": "pOaaJm3C_oug"
      }
    },
    {
      "cell_type": "markdown",
      "source": [
        "* Si queremos saber cuantos viajes se han hecho desde una cierta estación de origen:"
      ],
      "metadata": {
        "id": "pPBSUymGQNHL"
      }
    },
    {
      "cell_type": "code",
      "source": [
        "origen=5\n",
        "rdd_trips.filter(lambda x: x[0]==origen).count()"
      ],
      "metadata": {
        "colab": {
          "base_uri": "https://localhost:8080/"
        },
        "id": "LsEIbuAt96IF",
        "outputId": "37069088-7064-4e07-fc8b-a2843fd452d5"
      },
      "execution_count": null,
      "outputs": [
        {
          "output_type": "execute_result",
          "data": {
            "text/plain": [
              "1146"
            ]
          },
          "metadata": {},
          "execution_count": 84
        }
      ]
    },
    {
      "cell_type": "code",
      "source": [
        "origen=34\n",
        "rdd_trips.filter(lambda x: x[0]==origen).count()"
      ],
      "metadata": {
        "colab": {
          "base_uri": "https://localhost:8080/"
        },
        "id": "2IAZ8kay_19R",
        "outputId": "8b1ab586-89be-427c-c1c7-414aff851b58"
      },
      "execution_count": null,
      "outputs": [
        {
          "output_type": "execute_result",
          "data": {
            "text/plain": [
              "858"
            ]
          },
          "metadata": {},
          "execution_count": 86
        }
      ]
    },
    {
      "cell_type": "markdown",
      "source": [
        "Estudiamos las estaciones más utilizadas como origen.\n",
        "\n"
      ],
      "metadata": {
        "id": "3aw9EXRcQRJv"
      }
    },
    {
      "cell_type": "code",
      "source": [
        "rdd_origen= rdd_users.map(lambda x: (x[1][0],1))"
      ],
      "metadata": {
        "id": "xQSV8UU8-Ixp"
      },
      "execution_count": 20,
      "outputs": []
    },
    {
      "cell_type": "code",
      "source": [
        "cout=rdd_origen.countByKey()\n",
        "rdd_origenl= sc.parallelize(list(cout.items()))\n",
        "rdd_origen_ord=rdd_origenl.sortBy(lambda x: -x[1])\n",
        "rdd_origen_ord.take(3)"
      ],
      "metadata": {
        "colab": {
          "base_uri": "https://localhost:8080/"
        },
        "id": "SmnYpCgI9av7",
        "outputId": "3a366f3d-21a7-4934-844f-ee9e2e829868"
      },
      "execution_count": 21,
      "outputs": [
        {
          "output_type": "execute_result",
          "data": {
            "text/plain": [
              "[(163, 3742), (175, 3461), (57, 3360)]"
            ]
          },
          "metadata": {},
          "execution_count": 21
        }
      ]
    },
    {
      "cell_type": "markdown",
      "source": [
        "Estación de origen más utilizada 163."
      ],
      "metadata": {
        "id": "FeYGZgOHV9qn"
      }
    },
    {
      "cell_type": "markdown",
      "source": [
        "Las menos utilizadas como origen."
      ],
      "metadata": {
        "id": "-JMalSB2_zuc"
      }
    },
    {
      "cell_type": "code",
      "source": [
        "cout=rdd_origen.countByKey()\n",
        "rdd_origenl= sc.parallelize(list(cout.items()))\n",
        "rdd_origen_ord2=rdd_origenl.sortBy(lambda x: x[1])\n",
        "rdd_origen_ord2.take(4)"
      ],
      "metadata": {
        "colab": {
          "base_uri": "https://localhost:8080/"
        },
        "id": "0PpdZXOg_4sK",
        "outputId": "b70a4627-2a71-4f5a-dd4e-637efbacafc0"
      },
      "execution_count": 23,
      "outputs": [
        {
          "output_type": "execute_result",
          "data": {
            "text/plain": [
              "[(2008, 1), (28, 246), (29, 326), (119, 374)]"
            ]
          },
          "metadata": {},
          "execution_count": 23
        }
      ]
    },
    {
      "cell_type": "markdown",
      "source": [
        "Las estación menos utilizada como origen es la 28."
      ],
      "metadata": {
        "id": "4uh8KrnBAbFA"
      }
    },
    {
      "cell_type": "markdown",
      "source": [
        "* Queremos saber si hay algún viaje con cierto origen y destino."
      ],
      "metadata": {
        "id": "M6G4e8fTAJYQ"
      }
    },
    {
      "cell_type": "code",
      "source": [
        "origen=5\n",
        "destino=2\n",
        "rdd_trips.filter(lambda x: x[0]==origen and x[1]==destino).count()"
      ],
      "metadata": {
        "colab": {
          "base_uri": "https://localhost:8080/"
        },
        "id": "tKCdQ_gZATzh",
        "outputId": "0e752208-78a6-4ed1-8f47-a47e73a966ce"
      },
      "execution_count": null,
      "outputs": [
        {
          "output_type": "execute_result",
          "data": {
            "text/plain": [
              "0"
            ]
          },
          "metadata": {},
          "execution_count": 88
        }
      ]
    },
    {
      "cell_type": "code",
      "source": [
        "rdd_trips.take(1)"
      ],
      "metadata": {
        "colab": {
          "base_uri": "https://localhost:8080/"
        },
        "id": "OovAihdiAqfa",
        "outputId": "b3d22d0e-e25e-433f-d644-dd2f2119d6e2"
      },
      "execution_count": null,
      "outputs": [
        {
          "output_type": "execute_result",
          "data": {
            "text/plain": [
              "[(82, 83)]"
            ]
          },
          "metadata": {},
          "execution_count": 89
        }
      ]
    },
    {
      "cell_type": "code",
      "source": [
        "origen=82\n",
        "destino=83\n",
        "rdd_trips.filter(lambda x: x[0]==origen and x[1]==destino).count()"
      ],
      "metadata": {
        "colab": {
          "base_uri": "https://localhost:8080/"
        },
        "id": "aTZHCLzfAz5l",
        "outputId": "d76a7e8b-b3a6-4432-d645-914f04fde022"
      },
      "execution_count": null,
      "outputs": [
        {
          "output_type": "execute_result",
          "data": {
            "text/plain": [
              "17"
            ]
          },
          "metadata": {},
          "execution_count": 90
        }
      ]
    },
    {
      "cell_type": "markdown",
      "source": [
        "#Recorrido de los usuarios"
      ],
      "metadata": {
        "id": "gZhPGleSWr3Y"
      }
    },
    {
      "cell_type": "markdown",
      "source": [
        "* De los usuarios que han realizado 2 viajes en un día queremos ver cuantos han cogido la bici para realizar el segundo viaje en la estación de destino del primer viaje."
      ],
      "metadata": {
        "id": "R3ETe40kGSRR"
      }
    },
    {
      "cell_type": "code",
      "source": [
        "rdd_users.groupByKey().mapValues(tuple).filter(lambda x: len(x[1])==2).take(1)"
      ],
      "metadata": {
        "colab": {
          "base_uri": "https://localhost:8080/"
        },
        "id": "nwifX4NwFRh-",
        "outputId": "ca63c94a-f3a2-4a65-f515-231f49f4dc9a"
      },
      "execution_count": null,
      "outputs": [
        {
          "output_type": "execute_result",
          "data": {
            "text/plain": [
              "[('34a66a0165199d0dbc90782dafe9c5089f02211701894b3015d90a1fde6a632b',\n",
              "  ((9, 71, 505, '2019-01-01', '01:00:00', 4),\n",
              "   (71, 164, 1141, '2019-01-01', '05:00:00', 4)))]"
            ]
          },
          "metadata": {},
          "execution_count": 97
        }
      ]
    },
    {
      "cell_type": "code",
      "source": [
        "def viajes(data):\n",
        "  viaje1= data[1][0]\n",
        "  viaje2=data[1][1]\n",
        "  return viaje1[1]==viaje2[0]"
      ],
      "metadata": {
        "id": "IzMFp5TEI9pa"
      },
      "execution_count": null,
      "outputs": []
    },
    {
      "cell_type": "code",
      "source": [
        "rdd_viajedoble= rdd_users.groupByKey().mapValues(tuple).filter(lambda x: len(x[1])==2).filter(viajes)\n",
        "rdd_viajedoble.count()"
      ],
      "metadata": {
        "colab": {
          "base_uri": "https://localhost:8080/"
        },
        "id": "vidy5duiKuPz",
        "outputId": "e6dc43c8-2331-4f6c-9819-e5e5f467d4eb"
      },
      "execution_count": null,
      "outputs": [
        {
          "output_type": "execute_result",
          "data": {
            "text/plain": [
              "30638"
            ]
          },
          "metadata": {},
          "execution_count": 99
        }
      ]
    },
    {
      "cell_type": "code",
      "source": [
        "rdd_viajedoble.take(2)"
      ],
      "metadata": {
        "colab": {
          "base_uri": "https://localhost:8080/"
        },
        "id": "Y8uPbtGKMLVe",
        "outputId": "5cfdf72f-88f9-4eb3-bee4-df1ea08453b8"
      },
      "execution_count": null,
      "outputs": [
        {
          "output_type": "execute_result",
          "data": {
            "text/plain": [
              "[('34a66a0165199d0dbc90782dafe9c5089f02211701894b3015d90a1fde6a632b',\n",
              "  ((9, 71, 505, '2019-01-01', '01:00:00', 4),\n",
              "   (71, 164, 1141, '2019-01-01', '05:00:00', 4))),\n",
              " ('1ca5ca46ed2b047a6e95af098b5eba1a8fa2c29d2d67a687f3e0bcab280fcfa3',\n",
              "  ((123, 168, 374, '2019-01-01', '02:00:00', 4),\n",
              "   (168, 124, 349, '2019-01-01', '15:00:00', 4)))]"
            ]
          },
          "metadata": {},
          "execution_count": 100
        }
      ]
    },
    {
      "cell_type": "markdown",
      "source": [
        "* Ahora nos quedamos con los usuarios que han hecho 4 viajes al día.\n",
        "\n",
        "\n"
      ],
      "metadata": {
        "id": "bzxAI3kmOVl4"
      }
    },
    {
      "cell_type": "code",
      "source": [
        " rdd_users.groupByKey().mapValues(tuple).filter(lambda x: len(x[1])==4).take(2)"
      ],
      "metadata": {
        "colab": {
          "base_uri": "https://localhost:8080/"
        },
        "id": "PnzeYeqDNw5q",
        "outputId": "19964c73-8532-412b-ad06-213a4c95f37a"
      },
      "execution_count": null,
      "outputs": [
        {
          "output_type": "execute_result",
          "data": {
            "text/plain": [
              "[('623cac7ccd6e01c8b52c0991f7e2b52dbcbd799ec68da49cb91e8ed0fcf01d84',\n",
              "  ((107, 13, 521, '2019-01-01', '01:00:00', 5),\n",
              "   (6, 107, 379, '2019-01-01', '14:00:00', 5),\n",
              "   (107, 6, 450, '2019-01-01', '20:00:00', 5),\n",
              "   (13, 118, 297, '2019-01-01', '23:00:00', 5))),\n",
              " ('be5aad29df9e7f7efac9e468e8c6abcb2a83279d094d655d8da3b11a2f873a99',\n",
              "  ((40, 124, 283, '2019-01-02', '09:00:00', 4),\n",
              "   (123, 130, 461, '2019-01-02', '14:00:00', 4),\n",
              "   (130, 123, 429, '2019-01-02', '15:00:00', 4),\n",
              "   (124, 10, 377, '2019-01-02', '18:00:00', 4)))]"
            ]
          },
          "metadata": {},
          "execution_count": 104
        }
      ]
    },
    {
      "cell_type": "markdown",
      "source": [
        "Estudiamos cuantos de ellos tienen al menos un vaje de ida y vuelta."
      ],
      "metadata": {
        "id": "Ux9AoBAiPiZ3"
      }
    },
    {
      "cell_type": "code",
      "source": [
        "def idavuelta(data):\n",
        "    viaje1= data[1][0]\n",
        "    viaje2=data[1][1]\n",
        "    viaje3=data[1][2]\n",
        "    viaje4=data[1][3]\n",
        "    return (viaje1[0]==viaje2[1] and viaje1[1]==viaje2[0]) or \\\n",
        "            (viaje2[0]==viaje3[1] and viaje2[1]==viaje3[0]) or \\\n",
        "              (viaje3[0]==viaje4[1] and viaje3[1]==viaje4[0])"
      ],
      "metadata": {
        "id": "NHdpbnzEPCl7"
      },
      "execution_count": null,
      "outputs": []
    },
    {
      "cell_type": "code",
      "source": [
        "rdd_idavuelta = rdd_users.groupByKey().mapValues(tuple).filter(lambda x: len(x[1])==4).filter(idavuelta)"
      ],
      "metadata": {
        "id": "7U-5_7RvSAz9"
      },
      "execution_count": null,
      "outputs": []
    },
    {
      "cell_type": "code",
      "source": [
        "rdd_idavuelta.count()"
      ],
      "metadata": {
        "colab": {
          "base_uri": "https://localhost:8080/"
        },
        "id": "rpgq5QfUSi09",
        "outputId": "f8a0464a-a600-4773-8867-4553011fe971"
      },
      "execution_count": null,
      "outputs": [
        {
          "output_type": "execute_result",
          "data": {
            "text/plain": [
              "2671"
            ]
          },
          "metadata": {},
          "execution_count": 108
        }
      ]
    },
    {
      "cell_type": "code",
      "source": [
        "rdd_idavuelta.take(1)"
      ],
      "metadata": {
        "colab": {
          "base_uri": "https://localhost:8080/"
        },
        "id": "LzwvRHCSSpz9",
        "outputId": "30304440-0f98-4536-f95b-387d8c36f802"
      },
      "execution_count": null,
      "outputs": [
        {
          "output_type": "execute_result",
          "data": {
            "text/plain": [
              "[('623cac7ccd6e01c8b52c0991f7e2b52dbcbd799ec68da49cb91e8ed0fcf01d84',\n",
              "  ((107, 13, 521, '2019-01-01', '01:00:00', 5),\n",
              "   (6, 107, 379, '2019-01-01', '14:00:00', 5),\n",
              "   (107, 6, 450, '2019-01-01', '20:00:00', 5),\n",
              "   (13, 118, 297, '2019-01-01', '23:00:00', 5)))]"
            ]
          },
          "metadata": {},
          "execution_count": 109
        }
      ]
    },
    {
      "cell_type": "markdown",
      "source": [
        "# Encontrar una bici en una estación a cierta hora (Problema 4) "
      ],
      "metadata": {
        "id": "OdG4OeLJT_nD"
      }
    },
    {
      "cell_type": "code",
      "source": [
        "#Hagamos una lista con los datos de todas las estaciones  \n",
        "def crearDiEst(lista):\n",
        "  dicEstac = {}\n",
        "  for station in lista:\n",
        "    dicEstac[station['number']] = {}\n",
        "    dicEstac[station['number']]['id'] = station['id']\n",
        "    dicEstac[station['number']]['latitude'] = station['latitude']\n",
        "    dicEstac[station['number']]['longitude'] = station['longitude']\n",
        "    dicEstac[station['number']]['name'] = station['name']\n",
        "    dicEstac[station['number']]['total_bases'] = station['total_bases']\n",
        "  return dicEstac"
      ],
      "metadata": {
        "id": "2zr3KzKmVS2E"
      },
      "execution_count": null,
      "outputs": []
    },
    {
      "cell_type": "code",
      "source": [
        "listEstacion = (rdd_stations[\"201901\"]).map(lambda x: crearDiEst(x['station'])).take(1)"
      ],
      "metadata": {
        "id": "zwQcbPcSVqSl"
      },
      "execution_count": null,
      "outputs": []
    },
    {
      "cell_type": "code",
      "source": [
        "dicEstaciones = listEstacion[0]"
      ],
      "metadata": {
        "id": "uvxIArD9VvAd"
      },
      "execution_count": null,
      "outputs": []
    },
    {
      "cell_type": "code",
      "source": [
        "dicEstaciones['5']"
      ],
      "metadata": {
        "colab": {
          "base_uri": "https://localhost:8080/"
        },
        "id": "65YoMc0gWAmv",
        "outputId": "a0ff7baf-bda2-40e8-baea-af8af56c3ffa"
      },
      "execution_count": null,
      "outputs": [
        {
          "output_type": "execute_result",
          "data": {
            "text/plain": [
              "{'id': 6,\n",
              " 'latitude': '40.4285280',\n",
              " 'longitude': '-3.7020599',\n",
              " 'name': 'Fuencarral',\n",
              " 'total_bases': 27}"
            ]
          },
          "metadata": {},
          "execution_count": 118
        }
      ]
    },
    {
      "cell_type": "code",
      "source": [
        "#Definimos la hora y el origen\n",
        "origen = '57'\n",
        "hora = '03:00:00'"
      ],
      "metadata": {
        "id": "2cKq1Ga1Wae8"
      },
      "execution_count": null,
      "outputs": []
    },
    {
      "cell_type": "code",
      "source": [
        "#De todas las estaciones que hay en todos los datos vamos a intentar quedarnos \n",
        "#tan solo con los que son de la estacion que queremos\n",
        "def estaciones(lista):\n",
        "  filtro = []\n",
        "  # = json.loads(lista)\n",
        "  for estacion in lista:\n",
        "    if estacion['number'] == origen:\n",
        "      filtro.append(estacion)\n",
        "  return filtro"
      ],
      "metadata": {
        "id": "BNfLhVfvWU3T"
      },
      "execution_count": null,
      "outputs": []
    },
    {
      "cell_type": "code",
      "source": [
        "rddE_Sit_fil = rdd_stations[\"201901\"].map(lambda x: {\"day\" : x[\"day\"], \"hour\" : x[\"hour\"], \"stations\" : estaciones(x[\"station\"])})\n",
        "rddE_Sit_fil.take(3)"
      ],
      "metadata": {
        "colab": {
          "base_uri": "https://localhost:8080/"
        },
        "id": "7NnlIt4LWlal",
        "outputId": "b04570b2-cdaa-4c60-f8a1-cee6be6d9d26"
      },
      "execution_count": null,
      "outputs": [
        {
          "output_type": "execute_result",
          "data": {
            "text/plain": [
              "[{'day': '2019-01-01',\n",
              "  'hour': '00:50:23.009468',\n",
              "  'stations': [{'activate': 1,\n",
              "    'name': 'Santa Cruz del Marcenado',\n",
              "    'reservations_count': 0,\n",
              "    'light': 2,\n",
              "    'total_bases': 24,\n",
              "    'free_bases': 10,\n",
              "    'number': '57',\n",
              "    'longitude': '-3.7126299',\n",
              "    'no_available': 0,\n",
              "    'address': 'Calle Santa Cruz del Marcenado n� 24',\n",
              "    'latitude': '40.4295658',\n",
              "    'dock_bikes': 12,\n",
              "    'id': 61}]},\n",
              " {'day': '2019-01-01',\n",
              "  'hour': '01:50:30.148211',\n",
              "  'stations': [{'activate': 1,\n",
              "    'name': 'Santa Cruz del Marcenado',\n",
              "    'reservations_count': 0,\n",
              "    'light': 2,\n",
              "    'total_bases': 24,\n",
              "    'free_bases': 10,\n",
              "    'number': '57',\n",
              "    'longitude': '-3.7126299',\n",
              "    'no_available': 0,\n",
              "    'address': 'Calle Santa Cruz del Marcenado n� 24',\n",
              "    'latitude': '40.4295658',\n",
              "    'dock_bikes': 12,\n",
              "    'id': 61}]},\n",
              " {'day': '2019-01-01',\n",
              "  'hour': '02:50:27.594144',\n",
              "  'stations': [{'activate': 1,\n",
              "    'name': 'Santa Cruz del Marcenado',\n",
              "    'reservations_count': 0,\n",
              "    'light': 2,\n",
              "    'total_bases': 24,\n",
              "    'free_bases': 10,\n",
              "    'number': '57',\n",
              "    'longitude': '-3.7126299',\n",
              "    'no_available': 0,\n",
              "    'address': 'Calle Santa Cruz del Marcenado n� 24',\n",
              "    'latitude': '40.4295658',\n",
              "    'dock_bikes': 12,\n",
              "    'id': 61}]}]"
            ]
          },
          "metadata": {},
          "execution_count": 121
        }
      ]
    },
    {
      "cell_type": "markdown",
      "source": [
        "Nos fijamos que a las 2:50 había 12 bicis ancladas en la estación deseada ('dock_bikes'). Por tanto, es muy probable que haya bicis disponibles para realizar nuestro viaje."
      ],
      "metadata": {
        "id": "zkyRbyjUXxm-"
      }
    },
    {
      "cell_type": "code",
      "source": [],
      "metadata": {
        "id": "G5maWOEKbCqE"
      },
      "execution_count": null,
      "outputs": []
    },
    {
      "cell_type": "markdown",
      "source": [
        "# Anális del tiempo de los viajes "
      ],
      "metadata": {
        "id": "APFnuDWFbARh"
      }
    },
    {
      "cell_type": "markdown",
      "source": [
        "Nos quedamos con los tiempos de cada viaje."
      ],
      "metadata": {
        "id": "qIZzmvk7bcyH"
      }
    },
    {
      "cell_type": "code",
      "source": [
        "rdd_time=rdd_users.map(lambda x: (x[1][2]))"
      ],
      "metadata": {
        "id": "TQlUXDLEbjS_"
      },
      "execution_count": null,
      "outputs": []
    },
    {
      "cell_type": "markdown",
      "source": [
        "Queremos saber los viajes que han durado más de media hora."
      ],
      "metadata": {
        "id": "MBHxa9ZreSpZ"
      }
    },
    {
      "cell_type": "code",
      "source": [
        "rdd_time.filter(lambda x: x>1800).count()"
      ],
      "metadata": {
        "colab": {
          "base_uri": "https://localhost:8080/"
        },
        "id": "6ANEO4k9c5WP",
        "outputId": "0387669a-3ebd-444a-9d09-61a34679b69e"
      },
      "execution_count": null,
      "outputs": [
        {
          "output_type": "execute_result",
          "data": {
            "text/plain": [
              "13859"
            ]
          },
          "metadata": {},
          "execution_count": 147
        }
      ]
    },
    {
      "cell_type": "markdown",
      "source": [
        "Viajes que han durado más de una hora."
      ],
      "metadata": {
        "id": "ISb2xmQve7Yo"
      }
    },
    {
      "cell_type": "code",
      "source": [
        "rdd_time.filter(lambda x: x>3600).count()"
      ],
      "metadata": {
        "colab": {
          "base_uri": "https://localhost:8080/"
        },
        "id": "ig0zTA9AevjR",
        "outputId": "e18a3085-bc2f-416b-da41-5e95ab4fe986"
      },
      "execution_count": null,
      "outputs": [
        {
          "output_type": "execute_result",
          "data": {
            "text/plain": [
              "5038"
            ]
          },
          "metadata": {},
          "execution_count": 148
        }
      ]
    },
    {
      "cell_type": "code",
      "source": [
        "rdd_3600=rdd_users.map(lambda x: (x[1][0],x[1][1],x[1][2])).filter(lambda x: x[2]>3600)"
      ],
      "metadata": {
        "id": "sC9bw25HfB2G"
      },
      "execution_count": null,
      "outputs": []
    },
    {
      "cell_type": "code",
      "source": [
        "rdd_3600.take(10)"
      ],
      "metadata": {
        "colab": {
          "base_uri": "https://localhost:8080/"
        },
        "id": "fmHrn8rBf23t",
        "outputId": "2739ec2c-cf6b-475d-ca8d-3a9216084111"
      },
      "execution_count": null,
      "outputs": [
        {
          "output_type": "execute_result",
          "data": {
            "text/plain": [
              "[(49, 12, 6365),\n",
              " (136, 50, 9860),\n",
              " (164, 84, 8581),\n",
              " (62, 62, 15773),\n",
              " (54, 51, 5660),\n",
              " (52, 175, 3678),\n",
              " (52, 50, 4005),\n",
              " (139, 139, 5841),\n",
              " (4, 82, 14867),\n",
              " (31, 91, 9799)]"
            ]
          },
          "metadata": {},
          "execution_count": 156
        }
      ]
    },
    {
      "cell_type": "code",
      "source": [
        "rdd_3600.count()"
      ],
      "metadata": {
        "id": "tNFVO8kOleW_",
        "outputId": "04e4db6f-dc33-4049-cdc5-21cd00ca487f",
        "colab": {
          "base_uri": "https://localhost:8080/"
        }
      },
      "execution_count": null,
      "outputs": [
        {
          "output_type": "execute_result",
          "data": {
            "text/plain": [
              "5038"
            ]
          },
          "metadata": {},
          "execution_count": 172
        }
      ]
    }
  ]
}